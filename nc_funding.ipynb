{
 "cells": [
  {
   "cell_type": "markdown",
   "metadata": {},
   "source": [
    "## Data overview\n",
    "* **Funding**: 2002-2006 local, state, and federal funding details at the school, district and state levels."
   ]
  },
  {
   "cell_type": "code",
   "execution_count": 1,
   "metadata": {
    "collapsed": false
   },
   "outputs": [
    {
     "data": {
      "text/plain": [
       "(38365, 39)"
      ]
     },
     "execution_count": 1,
     "metadata": {},
     "output_type": "execute_result"
    }
   ],
   "source": [
    "import pandas as pd\n",
    "\n",
    "# Read in the School Profile data\n",
    "nc_funding = pd.ExcelFile('data/FUNDING.xlsx')\n",
    "\n",
    "# type(nc_profile) returns: pandas.io.excel.ExcelFile\n",
    "# print the sheets in the Excel file\n",
    "# print(nc_profile_metrics.sheet_names)\n",
    "\n",
    "# Import sheets from Excel files as data frames.\n",
    "nc_funding = nc_funding.parse('FUNDING')\n",
    "nc_funding.shape"
   ]
  },
  {
   "cell_type": "code",
   "execution_count": 2,
   "metadata": {
    "collapsed": false
   },
   "outputs": [
    {
     "data": {
      "text/plain": [
       "Index(['year', 'unit_code', 'Lea_Name', 'School_Name', 'State_Name',\n",
       "       'category_cd', 'total_expense_num', 'salary_expense_pct',\n",
       "       'benefits_expense_pct', 'services_expense_pct', 'supplies_expense_pct',\n",
       "       'instruct_equip_exp_pct', 'other_expense_pct', 'federal_perpupil_num',\n",
       "       'local_perpupil_num', 'state_perpupil_num', 'lea_total_expense_num',\n",
       "       'lea_salary_expense_pct', 'lea_benefits_expense_pct',\n",
       "       'lea_services_expense_pct', 'lea_supplies_expense_pct',\n",
       "       'lea_instruct_equip_exp_pct', 'lea_other_expense_pct',\n",
       "       'lea_federal_perpupil_num', 'lea_local_perpupil_num',\n",
       "       'lea_state_perpupil_num', 'st_total_expense_num',\n",
       "       'st_salary_expense_pct', 'st_benefits_expense_pct',\n",
       "       'st_services_expense_pct', 'st_supplies_expense_pct',\n",
       "       'st_instruct_equip_exp_pct', 'st_other_expense_pct',\n",
       "       'st_federal_perpupil_num', 'st_local_perpupil_num',\n",
       "       'st_state_perpupil_num', 'building_expense_pct',\n",
       "       'lea_building_expense_pct', 'st_building_expense_pct'],\n",
       "      dtype='object')"
      ]
     },
     "execution_count": 2,
     "metadata": {},
     "output_type": "execute_result"
    }
   ],
   "source": [
    "nc_funding.columns"
   ]
  },
  {
   "cell_type": "code",
   "execution_count": 3,
   "metadata": {
    "collapsed": false
   },
   "outputs": [
    {
     "name": "stdout",
     "output_type": "stream",
     "text": [
      "<class 'pandas.core.frame.DataFrame'>\n",
      "RangeIndex: 38365 entries, 0 to 38364\n",
      "Data columns (total 39 columns):\n",
      "year                          38365 non-null int64\n",
      "unit_code                     38365 non-null object\n",
      "Lea_Name                      38350 non-null object\n",
      "School_Name                   36619 non-null object\n",
      "State_Name                    38365 non-null object\n",
      "category_cd                   27512 non-null object\n",
      "total_expense_num             1322 non-null float64\n",
      "salary_expense_pct            1324 non-null float64\n",
      "benefits_expense_pct          1324 non-null float64\n",
      "services_expense_pct          1324 non-null float64\n",
      "supplies_expense_pct          1324 non-null float64\n",
      "instruct_equip_exp_pct        1324 non-null float64\n",
      "other_expense_pct             1324 non-null float64\n",
      "federal_perpupil_num          1324 non-null float64\n",
      "local_perpupil_num            1324 non-null float64\n",
      "state_perpupil_num            1322 non-null float64\n",
      "lea_total_expense_num         34494 non-null float64\n",
      "lea_salary_expense_pct        34494 non-null float64\n",
      "lea_benefits_expense_pct      34494 non-null float64\n",
      "lea_services_expense_pct      34494 non-null float64\n",
      "lea_supplies_expense_pct      34494 non-null float64\n",
      "lea_instruct_equip_exp_pct    34494 non-null float64\n",
      "lea_other_expense_pct         34494 non-null float64\n",
      "lea_federal_perpupil_num      34494 non-null float64\n",
      "lea_local_perpupil_num        34494 non-null float64\n",
      "lea_state_perpupil_num        34494 non-null float64\n",
      "st_total_expense_num          33399 non-null float64\n",
      "st_salary_expense_pct         33399 non-null float64\n",
      "st_benefits_expense_pct       33399 non-null float64\n",
      "st_services_expense_pct       33399 non-null float64\n",
      "st_supplies_expense_pct       33399 non-null float64\n",
      "st_instruct_equip_exp_pct     33399 non-null float64\n",
      "st_other_expense_pct          33399 non-null float64\n",
      "st_federal_perpupil_num       36015 non-null float64\n",
      "st_local_perpupil_num         36015 non-null float64\n",
      "st_state_perpupil_num         36015 non-null float64\n",
      "building_expense_pct          0 non-null float64\n",
      "lea_building_expense_pct      0 non-null float64\n",
      "st_building_expense_pct       0 non-null float64\n",
      "dtypes: float64(33), int64(1), object(5)\n",
      "memory usage: 11.4+ MB\n"
     ]
    }
   ],
   "source": [
    "nc_funding.info()"
   ]
  }
 ],
 "metadata": {
  "kernelspec": {
   "display_name": "Python 3",
   "language": "python",
   "name": "python3"
  },
  "language_info": {
   "codemirror_mode": {
    "name": "ipython",
    "version": 3
   },
   "file_extension": ".py",
   "mimetype": "text/x-python",
   "name": "python",
   "nbconvert_exporter": "python",
   "pygments_lexer": "ipython3",
   "version": "3.6.0"
  }
 },
 "nbformat": 4,
 "nbformat_minor": 2
}
