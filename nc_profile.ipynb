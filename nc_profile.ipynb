{
 "cells": [
  {
   "cell_type": "markdown",
   "metadata": {},
   "source": [
    "## North Carolina Public Schools Report\n",
    "North Carolina Public Schools Report Card [1] and Statistical Profiles Databases [21] contain a large volume of information about public, charter, and alternative schools in the State of North Carolina. Information that is made publicly accessible comprises data at the school, district, and state levels.  This includes statistics on student and school performance, academic growth, diversity, safety, instructor experience levels, school funding, educational attainment, and much more."
   ]
  },
  {
   "cell_type": "markdown",
   "metadata": {},
   "source": [
    "## Data Overview\n",
    "\n",
    "There were 17 tables of data reviewed within the North Carolina report card database. Two additional tables including racial composition statistics were subsequently located in `Statistical profiles database` [21].\n",
    "\n",
    " - **School Profile**: \n",
    "    This table contains profiles at the school, district, and state levels from 2006-2016.  Most data in the other database tables link to a single school profile contained in this table using the unit_code field.  Unit codes with the value “NC-SEA” represent profiles at the state level, and unit codes ending in “LEA” represent data at the district level.  Unit codes belonging to individual schools may be mapped to a given district using the first 3 characters of the unit code.  For example, schools belonging to the district “995LEA” will each have unit code that begins with “995”"
   ]
  },
  {
   "cell_type": "markdown",
   "metadata": {},
   "source": [
    "### Importing data"
   ]
  },
  {
   "cell_type": "code",
   "execution_count": 52,
   "metadata": {
    "collapsed": false
   },
   "outputs": [
    {
     "data": {
      "text/plain": [
       "(32603, 35)"
      ]
     },
     "execution_count": 52,
     "metadata": {},
     "output_type": "execute_result"
    }
   ],
   "source": [
    "import pandas as pd\n",
    "\n",
    "# Read in the School Profile data\n",
    "nc_profile = pd.ExcelFile('data/PROFILE.xlsx')\n",
    "\n",
    "# type(nc_profile) returns: pandas.io.excel.ExcelFile\n",
    "# print the sheets in the Excel file\n",
    "# print(nc_profile.sheet_names) returns: ['PROFILE']\n",
    "\n",
    "# Import sheets from Excel files as data frames.\n",
    "nc_profile_df = nc_profile.parse('PROFILE')\n",
    "nc_profile_df.shape\n"
   ]
  },
  {
   "cell_type": "markdown",
   "metadata": {},
   "source": [
    "### Cleaning data"
   ]
  },
  {
   "cell_type": "markdown",
   "metadata": {},
   "source": [
    "Data almost never comes in clean, so we need to prepare data for analysis. First step would be to diagnose data for problems.\n",
    " - Common data problems include:\n",
    "     - Inconsistent column names\n",
    "     - Missing data\n",
    "     - Outliers\n",
    "     - Duplicate rows\n",
    "     - Untidy\n",
    "     - Need to process columns\n",
    "     - Columns types can signal unexpected data values"
   ]
  },
  {
   "cell_type": "markdown",
   "metadata": {},
   "source": [
    "#### Inconsistent column names\n",
    "Let's start by inspecting the first common data problem: Inconsistent column names. To do this, we need to get the list of column names from the dataframe `nc_profile_df`."
   ]
  },
  {
   "cell_type": "code",
   "execution_count": 53,
   "metadata": {
    "collapsed": false
   },
   "outputs": [
    {
     "data": {
      "text/plain": [
       "Index(['vphone_ad', 'year', 'unit_code', 'street_ad', 'scity_ad', 'state_ad',\n",
       "       'szip_ad', 'type_cd', 'closed_ind', 'new_ind', 'super_nm',\n",
       "       'category_cd', 'url_ad', 'grade_range_cd', 'calendar_type_txt',\n",
       "       'sna_pgm_type_cd', 'cover_letter_ad', 'school_type_txt',\n",
       "       'calendar_only_txt', 'title1_type_cd', 'clp_ind', 'focus_clp_ind',\n",
       "       'summer_program_ind', 'asm_no_spg_ind', 'no_data_spg_ind', 'Lea_Name',\n",
       "       'School_Name', 'State_Name', 'esea_status', 'student_num',\n",
       "       'lea_avg_student_num', 'st_avg_student_num', 'Grad_project_status',\n",
       "       'stem', 'url'],\n",
       "      dtype='object')"
      ]
     },
     "execution_count": 53,
     "metadata": {},
     "output_type": "execute_result"
    }
   ],
   "source": [
    "nc_profile_df.columns"
   ]
  },
  {
   "cell_type": "markdown",
   "metadata": {},
   "source": [
    "By visually inspecting the column names, it can be seen that these column names are in pretty good shape, i.e there are no spaces between the column names and most of them seem to be consistently named with `underscore` separating the words. The column names: `School_Name`, `State_Name`, `Lea_Name`, `Grad_project_status` appear to start with capital letters. We could choose to leave them as is or convert them to lower case to be consistent. "
   ]
  },
  {
   "cell_type": "markdown",
   "metadata": {},
   "source": [
    "#### Missing data\n",
    "To get an idea about the columns with missing data, we can use the `info()` method. "
   ]
  },
  {
   "cell_type": "code",
   "execution_count": 54,
   "metadata": {
    "collapsed": false
   },
   "outputs": [
    {
     "name": "stdout",
     "output_type": "stream",
     "text": [
      "<class 'pandas.core.frame.DataFrame'>\n",
      "RangeIndex: 32603 entries, 0 to 32602\n",
      "Data columns (total 35 columns):\n",
      "vphone_ad              32603 non-null object\n",
      "year                   32603 non-null int64\n",
      "unit_code              32603 non-null object\n",
      "street_ad              32536 non-null object\n",
      "scity_ad               32536 non-null object\n",
      "state_ad               32536 non-null object\n",
      "szip_ad                32536 non-null float64\n",
      "type_cd                32536 non-null object\n",
      "closed_ind             32536 non-null float64\n",
      "new_ind                32536 non-null float64\n",
      "super_nm               5625 non-null object\n",
      "category_cd            32510 non-null object\n",
      "url_ad                 31138 non-null object\n",
      "grade_range_cd         27589 non-null object\n",
      "calendar_type_txt      27577 non-null object\n",
      "sna_pgm_type_cd        27524 non-null object\n",
      "cover_letter_ad        15956 non-null object\n",
      "school_type_txt        27577 non-null object\n",
      "calendar_only_txt      27534 non-null object\n",
      "title1_type_cd         12776 non-null object\n",
      "clp_ind                189 non-null object\n",
      "focus_clp_ind          160 non-null object\n",
      "summer_program_ind     1318 non-null object\n",
      "asm_no_spg_ind         187 non-null object\n",
      "no_data_spg_ind        90 non-null object\n",
      "Lea_Name               32537 non-null object\n",
      "School_Name            27590 non-null object\n",
      "State_Name             32603 non-null object\n",
      "esea_status            1515 non-null object\n",
      "student_num            27447 non-null float64\n",
      "lea_avg_student_num    31078 non-null float64\n",
      "st_avg_student_num     32510 non-null float64\n",
      "Grad_project_status    2474 non-null object\n",
      "stem                   28 non-null object\n",
      "url                    0 non-null float64\n",
      "dtypes: float64(7), int64(1), object(27)\n",
      "memory usage: 8.7+ MB\n"
     ]
    }
   ],
   "source": [
    "nc_profile_df.info()"
   ]
  },
  {
   "cell_type": "markdown",
   "metadata": {},
   "source": [
    "From the output it is evident that many columns have missing data in them. Missing data may not necessarily mean that we have an issue, there are a myriad of reasons for missing data. Each column needs to be investigated."
   ]
  },
  {
   "cell_type": "code",
   "execution_count": 55,
   "metadata": {
    "collapsed": false
   },
   "outputs": [
    {
     "data": {
      "text/plain": [
       "(3071, 35)"
      ]
     },
     "execution_count": 55,
     "metadata": {},
     "output_type": "execute_result"
    }
   ],
   "source": [
    "nc_profile2016 = nc_profile_df[nc_profile_df['year'] == 2016]\n",
    "nc_profile2016.shape"
   ]
  },
  {
   "cell_type": "markdown",
   "metadata": {},
   "source": [
    "### School profiles for 2016\n",
    "In reviewing the Profile table, there were a total 3,071 school profiles in North Carolina for 2016. This included profiles at the individual school (2,597), district (468), and state (6) levels.  (this can be derived from unit_code). \n",
    "\n",
    "At each of the 3 profile levels, there are 6 categories.\n",
    "* **E**: School has elementary schools(PK-5)\n",
    "* **M**: School has middle school grades(6-8)\n",
    "* **H**: School has high school grades(9-13)\n",
    "* **I**: School has elementary and middle school grades\n",
    "* **T**: School has middle and high school grades\n",
    "* **A**: School has elementary, middle and high school grades\n",
    "\n",
    "There were 18 closed school profiles and 0 new school profiles for the year 2016.  Once district, state, and closed school profiles are excluded, there are `2,579 “active” school level profiles` in the State of North Carolin"
   ]
  },
  {
   "cell_type": "code",
   "execution_count": 56,
   "metadata": {
    "collapsed": false
   },
   "outputs": [],
   "source": [
    "nc_all = pd.read_csv(\"https://raw.githubusercontent.com/jakemdrew/EducationDataNC/master/All_Data_By_School_Final.csv\", \n",
    "                     low_memory=False)"
   ]
  },
  {
   "cell_type": "code",
   "execution_count": 57,
   "metadata": {
    "collapsed": false
   },
   "outputs": [
    {
     "data": {
      "text/html": [
       "<div>\n",
       "<table border=\"1\" class=\"dataframe\">\n",
       "  <thead>\n",
       "    <tr style=\"text-align: right;\">\n",
       "      <th></th>\n",
       "      <th>Year</th>\n",
       "      <th>unit_code</th>\n",
       "      <th>street_ad</th>\n",
       "      <th>scity_ad</th>\n",
       "      <th>state_ad</th>\n",
       "      <th>szip_ad</th>\n",
       "      <th>type_cd_txt</th>\n",
       "      <th>Closed_Ind_Text</th>\n",
       "      <th>New_ind_Txt</th>\n",
       "      <th>category_cd</th>\n",
       "      <th>...</th>\n",
       "      <th>Dist_Tch_Exp_Pct_10+_Years</th>\n",
       "      <th>State_Tch_Exp_Pct_0_3_Years</th>\n",
       "      <th>State_Tch_Exp_Pct_4_10_Years</th>\n",
       "      <th>State_Tch_Exp_Pct_10+_Years</th>\n",
       "      <th>Dist_Prin_Exp_Pct_0_3_Years</th>\n",
       "      <th>Dist_Prin_Exp_Pct_4_10_Years</th>\n",
       "      <th>Dist_Prin_Exp_Pct_10+_Years</th>\n",
       "      <th>State_Prin_Exp_Pct_0_3_Years</th>\n",
       "      <th>State_Prin_Exp_Pct_4_10_Years</th>\n",
       "      <th>State_Prin_Exp_Pct_10+_Years</th>\n",
       "    </tr>\n",
       "  </thead>\n",
       "  <tbody>\n",
       "    <tr>\n",
       "      <th>0</th>\n",
       "      <td>2016</td>\n",
       "      <td>49E000</td>\n",
       "      <td>104 Yellow Wood Circle</td>\n",
       "      <td>Mooresville</td>\n",
       "      <td>NC</td>\n",
       "      <td>28115</td>\n",
       "      <td>Charter</td>\n",
       "      <td>Open</td>\n",
       "      <td>School Is Not New</td>\n",
       "      <td>A</td>\n",
       "      <td>...</td>\n",
       "      <td>NaN</td>\n",
       "      <td>0.227</td>\n",
       "      <td>0.226</td>\n",
       "      <td>0.547</td>\n",
       "      <td>NaN</td>\n",
       "      <td>NaN</td>\n",
       "      <td>NaN</td>\n",
       "      <td>0.43</td>\n",
       "      <td>0.427</td>\n",
       "      <td>0.143</td>\n",
       "    </tr>\n",
       "    <tr>\n",
       "      <th>1</th>\n",
       "      <td>2016</td>\n",
       "      <td>92E000</td>\n",
       "      <td>202 Treybrooke Drive</td>\n",
       "      <td>Morrisville</td>\n",
       "      <td>NC</td>\n",
       "      <td>27560</td>\n",
       "      <td>Charter</td>\n",
       "      <td>Open</td>\n",
       "      <td>School Is Not New</td>\n",
       "      <td>I</td>\n",
       "      <td>...</td>\n",
       "      <td>NaN</td>\n",
       "      <td>0.255</td>\n",
       "      <td>0.254</td>\n",
       "      <td>0.491</td>\n",
       "      <td>NaN</td>\n",
       "      <td>NaN</td>\n",
       "      <td>NaN</td>\n",
       "      <td>0.43</td>\n",
       "      <td>0.427</td>\n",
       "      <td>0.143</td>\n",
       "    </tr>\n",
       "    <tr>\n",
       "      <th>2</th>\n",
       "      <td>2016</td>\n",
       "      <td>010303</td>\n",
       "      <td>1247 Jimmie Kerr Road</td>\n",
       "      <td>Graham</td>\n",
       "      <td>NC</td>\n",
       "      <td>27253</td>\n",
       "      <td>Public</td>\n",
       "      <td>Open</td>\n",
       "      <td>School Is Not New</td>\n",
       "      <td>H</td>\n",
       "      <td>...</td>\n",
       "      <td>0.518</td>\n",
       "      <td>0.231</td>\n",
       "      <td>0.235</td>\n",
       "      <td>0.534</td>\n",
       "      <td>0.417</td>\n",
       "      <td>0.417</td>\n",
       "      <td>0.167</td>\n",
       "      <td>0.43</td>\n",
       "      <td>0.427</td>\n",
       "      <td>0.143</td>\n",
       "    </tr>\n",
       "    <tr>\n",
       "      <th>3</th>\n",
       "      <td>2016</td>\n",
       "      <td>010304</td>\n",
       "      <td>2518 NC 54</td>\n",
       "      <td>Graham</td>\n",
       "      <td>NC</td>\n",
       "      <td>27253</td>\n",
       "      <td>Public</td>\n",
       "      <td>Open</td>\n",
       "      <td>School Is Not New</td>\n",
       "      <td>E</td>\n",
       "      <td>...</td>\n",
       "      <td>0.468</td>\n",
       "      <td>0.227</td>\n",
       "      <td>0.273</td>\n",
       "      <td>0.500</td>\n",
       "      <td>0.417</td>\n",
       "      <td>0.417</td>\n",
       "      <td>0.167</td>\n",
       "      <td>0.43</td>\n",
       "      <td>0.427</td>\n",
       "      <td>0.143</td>\n",
       "    </tr>\n",
       "    <tr>\n",
       "      <th>4</th>\n",
       "      <td>2016</td>\n",
       "      <td>010308</td>\n",
       "      <td>2832 N NC 87</td>\n",
       "      <td>Elon</td>\n",
       "      <td>NC</td>\n",
       "      <td>27244</td>\n",
       "      <td>Public</td>\n",
       "      <td>Open</td>\n",
       "      <td>School Is Not New</td>\n",
       "      <td>E</td>\n",
       "      <td>...</td>\n",
       "      <td>0.468</td>\n",
       "      <td>0.227</td>\n",
       "      <td>0.273</td>\n",
       "      <td>0.500</td>\n",
       "      <td>0.417</td>\n",
       "      <td>0.417</td>\n",
       "      <td>0.167</td>\n",
       "      <td>0.43</td>\n",
       "      <td>0.427</td>\n",
       "      <td>0.143</td>\n",
       "    </tr>\n",
       "  </tbody>\n",
       "</table>\n",
       "<p>5 rows × 293 columns</p>\n",
       "</div>"
      ],
      "text/plain": [
       "   Year unit_code               street_ad     scity_ad state_ad  szip_ad  \\\n",
       "0  2016    49E000  104 Yellow Wood Circle  Mooresville       NC    28115   \n",
       "1  2016    92E000    202 Treybrooke Drive  Morrisville       NC    27560   \n",
       "2  2016    010303   1247 Jimmie Kerr Road       Graham       NC    27253   \n",
       "3  2016    010304              2518 NC 54       Graham       NC    27253   \n",
       "4  2016    010308            2832 N NC 87         Elon       NC    27244   \n",
       "\n",
       "  type_cd_txt Closed_Ind_Text        New_ind_Txt category_cd  \\\n",
       "0     Charter            Open  School Is Not New           A   \n",
       "1     Charter            Open  School Is Not New           I   \n",
       "2      Public            Open  School Is Not New           H   \n",
       "3      Public            Open  School Is Not New           E   \n",
       "4      Public            Open  School Is Not New           E   \n",
       "\n",
       "               ...              Dist_Tch_Exp_Pct_10+_Years  \\\n",
       "0              ...                                     NaN   \n",
       "1              ...                                     NaN   \n",
       "2              ...                                   0.518   \n",
       "3              ...                                   0.468   \n",
       "4              ...                                   0.468   \n",
       "\n",
       "  State_Tch_Exp_Pct_0_3_Years  State_Tch_Exp_Pct_4_10_Years  \\\n",
       "0                       0.227                         0.226   \n",
       "1                       0.255                         0.254   \n",
       "2                       0.231                         0.235   \n",
       "3                       0.227                         0.273   \n",
       "4                       0.227                         0.273   \n",
       "\n",
       "   State_Tch_Exp_Pct_10+_Years  Dist_Prin_Exp_Pct_0_3_Years  \\\n",
       "0                        0.547                          NaN   \n",
       "1                        0.491                          NaN   \n",
       "2                        0.534                        0.417   \n",
       "3                        0.500                        0.417   \n",
       "4                        0.500                        0.417   \n",
       "\n",
       "   Dist_Prin_Exp_Pct_4_10_Years  Dist_Prin_Exp_Pct_10+_Years  \\\n",
       "0                           NaN                          NaN   \n",
       "1                           NaN                          NaN   \n",
       "2                         0.417                        0.167   \n",
       "3                         0.417                        0.167   \n",
       "4                         0.417                        0.167   \n",
       "\n",
       "   State_Prin_Exp_Pct_0_3_Years State_Prin_Exp_Pct_4_10_Years  \\\n",
       "0                          0.43                         0.427   \n",
       "1                          0.43                         0.427   \n",
       "2                          0.43                         0.427   \n",
       "3                          0.43                         0.427   \n",
       "4                          0.43                         0.427   \n",
       "\n",
       "   State_Prin_Exp_Pct_10+_Years  \n",
       "0                         0.143  \n",
       "1                         0.143  \n",
       "2                         0.143  \n",
       "3                         0.143  \n",
       "4                         0.143  \n",
       "\n",
       "[5 rows x 293 columns]"
      ]
     },
     "execution_count": 57,
     "metadata": {},
     "output_type": "execute_result"
    }
   ],
   "source": [
    "nc_all.head()"
   ]
  },
  {
   "cell_type": "markdown",
   "metadata": {},
   "source": [
    "Get a list of column names and their types."
   ]
  },
  {
   "cell_type": "code",
   "execution_count": 58,
   "metadata": {
    "collapsed": false
   },
   "outputs": [
    {
     "name": "stdout",
     "output_type": "stream",
     "text": [
      "<class 'pandas.core.frame.DataFrame'>\n",
      "RangeIndex: 2579 entries, 0 to 2578\n",
      "Data columns (total 293 columns):\n",
      "Year                                              int64\n",
      "unit_code                                         object\n",
      "street_ad                                         object\n",
      "scity_ad                                          object\n",
      "state_ad                                          object\n",
      "szip_ad                                           int64\n",
      "type_cd_txt                                       object\n",
      "Closed_Ind_Text                                   object\n",
      "New_ind_Txt                                       object\n",
      "category_cd                                       object\n",
      "school_type_txt                                   object\n",
      "calendar_only_txt                                 object\n",
      "title1_type_flg                                   int64\n",
      "clp_ind_flg                                       int64\n",
      "focus_clp_flg                                     int64\n",
      "summer_program_flg                                int64\n",
      "asm_no_spg_flg                                    int64\n",
      "no_data_spg_flg                                   int64\n",
      "esea_status                                       object\n",
      "student_num                                       float64\n",
      "lea_avg_student_num                               float64\n",
      "st_avg_student_num                                int64\n",
      "Grad_project_status                               object\n",
      "stem_flg                                          int64\n",
      "Avg_Class_Size_00                                 float64\n",
      "Avg_Class_Size_01                                 float64\n",
      "Avg_Class_Size_02                                 float64\n",
      "Avg_Class_Size_03                                 float64\n",
      "Avg_Class_Size_04                                 float64\n",
      "Avg_Class_Size_05                                 float64\n",
      "Avg_Class_Size_06                                 float64\n",
      "Avg_Class_Size_07                                 float64\n",
      "Avg_Class_Size_08                                 float64\n",
      "Avg_Class_Size_Biology                            float64\n",
      "Avg_Class_Size_EnglishII                          float64\n",
      "Avg_Class_Size_MathI                              float64\n",
      "Avg_Dist_Size_00                                  float64\n",
      "Avg_Dist_Size_01                                  float64\n",
      "Avg_Dist_Size_02                                  float64\n",
      "Avg_Dist_Size_03                                  float64\n",
      "Avg_Dist_Size_04                                  float64\n",
      "Avg_Dist_Size_05                                  float64\n",
      "Avg_Dist_Size_06                                  float64\n",
      "Avg_Dist_Size_07                                  float64\n",
      "Avg_Dist_Size_08                                  float64\n",
      "Avg_Dist_Size_Biology                             float64\n",
      "Avg_Dist_Size_EnglishII                           float64\n",
      "Avg_Dist_Size_MathI                               float64\n",
      "Avg_State_Size_00                                 float64\n",
      "Avg_State_Size_01                                 float64\n",
      "Avg_State_Size_02                                 float64\n",
      "Avg_State_Size_03                                 float64\n",
      "Avg_State_Size_04                                 float64\n",
      "Avg_State_Size_05                                 float64\n",
      "Avg_State_Size_06                                 float64\n",
      "Avg_State_Size_07                                 float64\n",
      "Avg_State_Size_08                                 float64\n",
      "Avg_State_Size_Biology                            float64\n",
      "Avg_State_Size_EnglishII                          float64\n",
      "Avg_State_Size_MathI                              float64\n",
      "total_expense_num                                 float64\n",
      "salary_expense_pct                                float64\n",
      "benefits_expense_pct                              float64\n",
      "services_expense_pct                              float64\n",
      "supplies_expense_pct                              float64\n",
      "instruct_equip_exp_pct                            float64\n",
      "other_expense_pct                                 float64\n",
      "federal_perpupil_num                              float64\n",
      "local_perpupil_num                                float64\n",
      "state_perpupil_num                                float64\n",
      "lea_total_expense_num                             float64\n",
      "lea_salary_expense_pct                            float64\n",
      "lea_benefits_expense_pct                          float64\n",
      "lea_services_expense_pct                          float64\n",
      "lea_supplies_expense_pct                          float64\n",
      "lea_instruct_equip_exp_pct                        float64\n",
      "lea_other_expense_pct                             float64\n",
      "lea_federal_perpupil_num                          float64\n",
      "lea_local_perpupil_num                            float64\n",
      "lea_state_perpupil_num                            float64\n",
      "st_total_expense_num                              float64\n",
      "st_salary_expense_pct                             float64\n",
      "st_benefits_expense_pct                           float64\n",
      "st_services_expense_pct                           float64\n",
      "st_supplies_expense_pct                           float64\n",
      "st_instruct_equip_exp_pct                         float64\n",
      "st_other_expense_pct                              int64\n",
      "st_federal_perpupil_num                           float64\n",
      "st_local_perpupil_num                             float64\n",
      "st_state_perpupil_num                             float64\n",
      "SPG Grade                                         object\n",
      "SPG Score                                         float64\n",
      "Reading SPG Grade                                 object\n",
      "Reading  SPG Score                                float64\n",
      "Math SPG Grade                                    object\n",
      "Math SPG Score                                    float64\n",
      "EVAAS Growth Status                               object\n",
      "EVAAS Growth Score                                float64\n",
      "Overall Achievement Score                         float64\n",
      "Read Score                                        float64\n",
      "Math Score                                        float64\n",
      "Science Score                                     float64\n",
      "Math I Score                                      float64\n",
      "English II Score                                  float64\n",
      "Biology Score                                     float64\n",
      "The ACT Score                                     float64\n",
      "ACT WorkKeys Score                                float64\n",
      "Math Course Rigor Score                           float64\n",
      "Cohort Graduation Rate Standard Score             float64\n",
      "State Gap Compared                                object\n",
      "GCE_ALL_School_Pct                                float64\n",
      "GCE_LEP_School_Pct                                float64\n",
      "GCE_PRM_School_Pct                                float64\n",
      "GCE_RPF_School_Pct                                float64\n",
      "GCE_SWD_School_Pct                                float64\n",
      "PASSED_EOG_School_Pct                             float64\n",
      "PASSED_LAA_School_Pct                             float64\n",
      "PASSED_RTA_School_Pct                             float64\n",
      "PROMOTED_School_Pct                               float64\n",
      "RETAINED_School_Pct                               float64\n",
      "GCE_ALL_Dist_Pct                                  float64\n",
      "GCE_LEP_Dist_Pct                                  float64\n",
      "GCE_PRM_Dist_Pct                                  float64\n",
      "GCE_RPF_Dist_Pct                                  float64\n",
      "GCE_SWD_Dist_Pct                                  float64\n",
      "PASSED_EOG_Dist_Pct                               float64\n",
      "PASSED_LAA_Dist_Pct                               float64\n",
      "PASSED_RTA_Dist_Pct                               float64\n",
      "PROMOTED_Dist_Pct                                 float64\n",
      "RETAINED_Dist_Pct                                 float64\n",
      "GCE_ALL_State_Pct                                 float64\n",
      "GCE_LEP_State_Pct                                 float64\n",
      "GCE_PRM_State_Pct                                 float64\n",
      "GCE_RPF_State_Pct                                 float64\n",
      "GCE_SWD_State_Pct                                 float64\n",
      "PASSED_EOG_State_Pct                              float64\n",
      "PASSED_LAA_State_Pct                              float64\n",
      "PASSED_RTA_State_Pct                              float64\n",
      "PROMOTED_State_Pct                                float64\n",
      "RETAINED_State_Pct                                float64\n",
      "sat_avg_score_num                                 float64\n",
      "lea_sat_avg_score_num                             float64\n",
      "st_sat_avg_score_num                              int64\n",
      "nat_sat_avg_score_num                             int64\n",
      "sat_participation_pct                             float64\n",
      "lea_sat_participation_pct                         float64\n",
      "st_sat_participation_pct                          float64\n",
      "nat_sat_participation_pct                         float64\n",
      "esea_attendance                                   float64\n",
      "lea_esea_attendance                               float64\n",
      "ap_participation_pct                              float64\n",
      "lea_ap_participation_pct                          float64\n",
      "st_ap_participation_pct                           float64\n",
      "ap_pct_3_or_above                                 float64\n",
      "lea_ap_pct_3_or_above                             float64\n",
      "st_ap_pct_3_or_above                              float64\n",
      "ib_participation_pct                              float64\n",
      "lea_ib_participation_pct                          float64\n",
      "st_ib_participation_pct                           float64\n",
      "ib_pct_4_or_above                                 float64\n",
      "lea_ib_pct_4_or_above                             float64\n",
      "st_ib_pct_4_or_above                              float64\n",
      "AP_Courses_Offered                                float64\n",
      "total_specialized_courses                         float64\n",
      "ap_ib_courses                                     float64\n",
      "cte_courses                                       float64\n",
      "univ_college_courses                              float64\n",
      "lea_total_specialized_courses                     float64\n",
      "lea_ap_ib_courses                                 float64\n",
      "lea_cte_courses                                   float64\n",
      "lea_univ_college_courses                          float64\n",
      "st_total_specialized_courses                      float64\n",
      "st_ap_ib_courses                                  float64\n",
      "st_cte_courses                                    float64\n",
      "st_univ_college_courses                           float64\n",
      "sch_percent_college_enrolled_16_mos_post_grad     float64\n",
      "One_Yr_College_Complete_wi_2_yrs_Enrolled_2012    float64\n",
      "avg_daily_attend_pct                              float64\n",
      "crime_per_c_num                                   float64\n",
      "short_susp_per_c_num                              float64\n",
      "long_susp_per_c_num                               float64\n",
      "expelled_per_c_num                                float64\n",
      "ttl_crimes_num                                    float64\n",
      "stud_internet_comp_num                            float64\n",
      "lea_avg_daily_attend_pct                          float64\n",
      "lea_crime_per_c_num                               float64\n",
      "lea_short_susp_per_c_num                          float64\n",
      "lea_long_susp_per_c_num                           float64\n",
      "lea_expelled_per_c_num                            float64\n",
      "lea_stud_internet_comp_num                        float64\n",
      "st_avg_daily_attend_pct                           float64\n",
      "st_crime_per_c_num                                float64\n",
      "st_short_susp_per_c_num                           float64\n",
      "st_long_susp_per_c_num                            float64\n",
      "st_expelled_per_c_num                             int64\n",
      "st_stud_internet_comp_num                         float64\n",
      "digital_media_pct                                 float64\n",
      "Byod                                              object\n",
      "grades_BYOD                                       object\n",
      "avg_age_media_collection                          float64\n",
      "1_to_1_access                                     object\n",
      "books_per_student                                 float64\n",
      "grades_1_to_1_access                              object\n",
      "lea_avg_age_media_collection                      float64\n",
      "lea_books_per_student                             float64\n",
      "st_avg_age_media_collection                       float64\n",
      "st_books_per_student                              float64\n",
      "wap_num                                           float64\n",
      "wap_per_classroom                                 float64\n",
      "lea_wap_num                                       float64\n",
      "lea_wap_per_classroom                             float64\n",
      "st_wap_num                                        int64\n",
      "st_wap_per_classroom                              float64\n",
      "prin_other_pct                                    float64\n",
      "prinyrs_0thru3_pct                                float64\n",
      "prinyrs_4thru10_pct                               float64\n",
      "prinyrs_11plus_pct                                float64\n",
      "prin_advance_dgr_pct                              float64\n",
      "_1yr_prin_trnovr_pct                              float64\n",
      "prin_male_pct                                     float64\n",
      "prin_female_pct                                   float64\n",
      "prin_black_pct                                    float64\n",
      "prin_white_pct                                    float64\n",
      "flicensed_teach_pct                               float64\n",
      "tchyrs_0thru3_pct                                 float64\n",
      "tchyrs_4thru10_pct                                float64\n",
      "tchyrs_11plus_pct                                 float64\n",
      "class_teach_num                                   float64\n",
      "nbpts_num                                         float64\n",
      "advance_dgr_pct                                   float64\n",
      "_1yr_tchr_trnovr_pct                              float64\n",
      "emer_prov_teach_pct                               float64\n",
      "lateral_teach_pct                                 float64\n",
      "highqual_class_pct                                float64\n",
      "lea_flicensed_teach_pct                           float64\n",
      "lea_tchyrs_0thru3_pct                             float64\n",
      "lea_tchyrs_4thru10_pct                            float64\n",
      "lea_tchyrs_11plus_pct                             float64\n",
      "lea_class_teach_num                               float64\n",
      "lea_nbpts_num                                     float64\n",
      "lea_advance_dgr_pct                               float64\n",
      "lea_1yr_tchr_trnovr_pct                           float64\n",
      "lea_emer_prov_teach_pct                           float64\n",
      "lea_lateral_teach_pct                             float64\n",
      "lea_highqual_class_pct                            float64\n",
      "lea_highqual_class_hp_pct                         float64\n",
      "lea_highqual_class_lp_pct                         float64\n",
      "lea_highqual_class_all_pct                        float64\n",
      "lea_not_highqual_class_hp_pct                     float64\n",
      "lea_not_highqual_class_lp_pct                     float64\n",
      "lea_not_highqual_class_all_pct                    float64\n",
      "st_flicensed_teach_pct                            float64\n",
      "st_tchyrs_0thru3_pct                              float64\n",
      "st_tchyrs_4thru10_pct                             float64\n",
      "st_tchyrs_11plus_pct                              float64\n",
      "st_class_teach_num                                int64\n",
      "st_nbpts_num                                      int64\n",
      "st_advance_dgr_pct                                float64\n",
      "st_1yr_tchr_trnovr_pct                            float64\n",
      "st_emer_prov_teach_pct                            float64\n",
      "st_lateral_teach_pct                              float64\n",
      "st_highqual_class_pct                             float64\n",
      "st_highqual_class_hp_pct                          float64\n",
      "st_highqual_class_lp_pct                          float64\n",
      "st_highqual_class_all_pct                         float64\n",
      "st_not_highqual_class_hp_pct                      float64\n",
      "st_not_highqual_class_lp_pct                      float64\n",
      "st_not_highqual_class_all_pct                     float64\n",
      "st_prinyrs_0thru3_pct                             float64\n",
      "st_prinyrs_4thru10_pct                            float64\n",
      "st_prinyrs_11plus_pct                             float64\n",
      "st_prin_advance_dgr_pct                           float64\n",
      "st_1yr_prin_trnovr_pct                            float64\n",
      "st_prin_male_pct                                  float64\n",
      "st_prin_female_pct                                float64\n",
      "st_prin_black_pct                                 float64\n",
      "st_prin_white_pct                                 float64\n",
      "st_prin_other_pct                                 float64\n",
      "Tch_Exp_Pct_0_3_Years                             float64\n",
      "Tch_Exp_Pct_4_10_Years                            float64\n",
      "Tch_Exp_Pct_10+_Years                             float64\n",
      "Dist_Tch_Exp_Pct_0_3_Years                        float64\n",
      "Dist_Tch_Exp_Pct_4_10_Years                       float64\n",
      "Dist_Tch_Exp_Pct_10+_Years                        float64\n",
      "State_Tch_Exp_Pct_0_3_Years                       float64\n",
      "State_Tch_Exp_Pct_4_10_Years                      float64\n",
      "State_Tch_Exp_Pct_10+_Years                       float64\n",
      "Dist_Prin_Exp_Pct_0_3_Years                       float64\n",
      "Dist_Prin_Exp_Pct_4_10_Years                      float64\n",
      "Dist_Prin_Exp_Pct_10+_Years                       float64\n",
      "State_Prin_Exp_Pct_0_3_Years                      float64\n",
      "State_Prin_Exp_Pct_4_10_Years                     float64\n",
      "State_Prin_Exp_Pct_10+_Years                      float64\n",
      "dtypes: float64(255), int64(17), object(21)\n",
      "memory usage: 5.8+ MB\n"
     ]
    }
   ],
   "source": [
    "nc_all.info(verbose = True)"
   ]
  },
  {
   "cell_type": "markdown",
   "metadata": {},
   "source": [
    "Groupby different school levels, i.e school, lea, state and plot the counts. To do this, we first need to parse the 'unit_code' field and create a new field called 'school_type'. The school_type variable will have one of three values: school, lea, state. After creating 'school_type', we can groupby the school_type variable and calculate statistics."
   ]
  },
  {
   "cell_type": "code",
   "execution_count": 45,
   "metadata": {
    "collapsed": false
   },
   "outputs": [
    {
     "name": "stdout",
     "output_type": "stream",
     "text": [
      "<class 'pandas.core.frame.DataFrame'>\n",
      "RangeIndex: 2579 entries, 0 to 2578\n",
      "Data columns (total 5 columns):\n",
      "unit_code          2579 non-null object\n",
      "category_cd        2579 non-null object\n",
      "scity_ad           2579 non-null object\n",
      "type_cd_txt        2579 non-null object\n",
      "school_type_txt    2579 non-null object\n",
      "dtypes: object(5)\n",
      "memory usage: 100.8+ KB\n",
      "None\n"
     ]
    }
   ],
   "source": [
    "cols = ['unit_code', 'category_cd', 'scity_ad', 'type_cd_txt', 'school_type_txt']\n",
    "print(nc_all.loc[:, cols].info())\n"
   ]
  },
  {
   "cell_type": "code",
   "execution_count": 46,
   "metadata": {
    "collapsed": false
   },
   "outputs": [
    {
     "name": "stdout",
     "output_type": "stream",
     "text": [
      "     unit_code category_cd       scity_ad type_cd_txt        school_type_txt\n",
      "0       49E000           A    Mooresville     Charter         Regular School\n",
      "1       92E000           I    Morrisville     Charter         Regular School\n",
      "2       010303           H         Graham      Public         Regular School\n",
      "3       010304           E         Graham      Public         Regular School\n",
      "4       010308           E           Elon      Public         Regular School\n",
      "5       010310           M     Burlington      Public         Regular School\n",
      "6       010311           H     Burlington      Public   Vocational Education\n",
      "7       010312           E     Burlington      Public         Regular School\n",
      "8       010320           E         Mebane      Public         Regular School\n",
      "9       010324           H         Mebane      Public         Regular School\n",
      "10      010326           E     Burlington      Public         Regular School\n",
      "11      010328           E     Burlington      Public         Regular School\n",
      "12      010340           E           Elon      Public         Regular School\n",
      "13      010346           E         Graham      Public         Regular School\n",
      "14      010347           E         Mebane      Public         Regular School\n",
      "15      010348           H         Graham      Public         Regular School\n",
      "16      010350           M         Graham      Public         Regular School\n",
      "17      010351           E     Burlington      Public         Regular School\n",
      "18      010353           M         Mebane      Public         Regular School\n",
      "19      010354           E     Burlington      Public         Regular School\n",
      "20      010357           E      Haw River      Public         Regular School\n",
      "21      010358           E     Burlington      Public         Regular School\n",
      "22      010360           H     Burlington      Public         Regular School\n",
      "23      010362           E     Burlington      Public         Regular School\n",
      "24      010364           E         Graham      Public         Regular School\n",
      "25      010372           E     Burlington      Public         Regular School\n",
      "26      010374           E     Burlington      Public         Regular School\n",
      "27      010378           A         Graham      Public  Alternative Education\n",
      "28      010380           E         Graham      Public         Regular School\n",
      "29      010384           E         Mebane      Public         Regular School\n",
      "...        ...         ...            ...         ...                    ...\n",
      "2549    88A000           I  Pisgah Forest     Charter         Regular School\n",
      "2550    90A000           A         Monroe     Charter         Regular School\n",
      "2551    91A000           I      Henderson     Charter         Regular School\n",
      "2552    91B000           I      Henderson     Charter         Regular School\n",
      "2553    92B000           I        Raleigh     Charter         Regular School\n",
      "2554    92D000           I        Raleigh     Charter         Regular School\n",
      "2555    92F000           A    Wake Forest     Charter         Regular School\n",
      "2556    92G000           A        Zebulon     Charter         Regular School\n",
      "2557    92K000           H        Raleigh     Charter         Regular School\n",
      "2558    92L000           E        Raleigh     Charter         Regular School\n",
      "2559    92M000           I        Raleigh     Charter         Regular School\n",
      "2560    92N000           I        Raleigh     Charter         Regular School\n",
      "2561    92P000           T  Holly Springs     Charter         Regular School\n",
      "2562    92Q000           E        Raleigh     Charter         Regular School\n",
      "2563    92R000           I        Raleigh     Charter         Regular School\n",
      "2564    92S000           I    Wake Forest     Charter         Regular School\n",
      "2565    92T000           I           Cary     Charter         Regular School\n",
      "2566    92U000           H        Raleigh     Charter         Regular School\n",
      "2567    92V000           E    Wake Forest     Charter         Regular School\n",
      "2568    92W000           I           Cary     Charter         Regular School\n",
      "2569    92Y000           I    Wake Forest     Charter         Regular School\n",
      "2570    93A000           A      Hollister     Charter         Regular School\n",
      "2571    93J000           E        Raleigh     Charter         Regular School\n",
      "2572    94Z000           H     Jamesville     Charter   Vocational Education\n",
      "2573    95A000           I          Boone     Charter         Regular School\n",
      "2574    96C000           E      Goldsboro     Charter         Regular School\n",
      "2575    96F000           E      Goldsboro     Charter         Regular School\n",
      "2576    97D000           I     State Road     Charter         Regular School\n",
      "2577    98A000           I         Wilson     Charter         Regular School\n",
      "2578    98B000           I         Wilson     Charter         Regular School\n",
      "\n",
      "[2579 rows x 5 columns]\n"
     ]
    }
   ],
   "source": [
    "print(nc_all.loc[:, cols])"
   ]
  },
  {
   "cell_type": "code",
   "execution_count": 47,
   "metadata": {
    "collapsed": false
   },
   "outputs": [
    {
     "name": "stdout",
     "output_type": "stream",
     "text": [
      "    unit_code category_cd            scity_ad type_cd_txt  \\\n",
      "200    120352           A           Morganton      Public   \n",
      "201    120360           E           Morganton      Public   \n",
      "202    120364           E           Morganton      Public   \n",
      "203    120368           E             Hickory      Public   \n",
      "204    120370           H           Morganton      Public   \n",
      "205    120372           E  Rutherford College      Public   \n",
      "206    120374           E           Morganton      Public   \n",
      "207    120376           M           Morganton      Public   \n",
      "208    120380           E             Valdese      Public   \n",
      "209    120386           E           Morganton      Public   \n",
      "210    120390           M           Morganton      Public   \n",
      "211    130304           E             Concord      Public   \n",
      "212    130307           H             Concord      Public   \n",
      "213    130308           E             Midland      Public   \n",
      "214    130309           E             Concord      Public   \n",
      "215    130310           H             Concord      Public   \n",
      "216    130311           E             Concord      Public   \n",
      "217    130312           E          Harrisburg      Public   \n",
      "218    130313           M             Concord      Public   \n",
      "219    130314           H             Concord      Public   \n",
      "220    130315           M             Concord      Public   \n",
      "221    130316           H             Concord      Public   \n",
      "222    130317           T             Concord      Public   \n",
      "223    130318           M             Concord      Public   \n",
      "224    130319           E             Concord      Public   \n",
      "225    130320           M             Concord      Public   \n",
      "226    130321           E             Concord      Public   \n",
      "227    130322           E      Mount Pleasant      Public   \n",
      "228    130323           M      Mount Pleasant      Public   \n",
      "229    130324           H      Mount Pleasant      Public   \n",
      "230    130325           E          Kannapolis      Public   \n",
      "231    130326           H             Concord      Public   \n",
      "232    130327           M             Concord      Public   \n",
      "233    130328           E          Kannapolis      Public   \n",
      "234    130329           E             Concord      Public   \n",
      "235    130330           E             Concord      Public   \n",
      "236    130331           E             Concord      Public   \n",
      "237    130332           H          Harrisburg      Public   \n",
      "238    130333           T             Concord      Public   \n",
      "239    130336           E             Concord      Public   \n",
      "240    130338           E             Concord      Public   \n",
      "241    130340           E             Concord      Public   \n",
      "242    130342           E             Concord      Public   \n",
      "243    130344           E             Concord      Public   \n",
      "244    130345           E             Concord      Public   \n",
      "245    130346           M          Harrisburg      Public   \n",
      "246    130350           H             Concord      Public   \n",
      "247    130355           M             Concord      Public   \n",
      "248    132304           H          Kannapolis      Public   \n",
      "249    132308           E          Kannapolis      Public   \n",
      "250    132312           E          Kannapolis      Public   \n",
      "\n",
      "           school_type_txt  \n",
      "200      Special Education  \n",
      "201         Regular School  \n",
      "202         Regular School  \n",
      "203         Regular School  \n",
      "204         Regular School  \n",
      "205         Regular School  \n",
      "206         Regular School  \n",
      "207         Regular School  \n",
      "208         Regular School  \n",
      "209         Regular School  \n",
      "210         Regular School  \n",
      "211         Regular School  \n",
      "212         Regular School  \n",
      "213         Regular School  \n",
      "214         Regular School  \n",
      "215         Regular School  \n",
      "216          Magnet School  \n",
      "217         Regular School  \n",
      "218         Regular School  \n",
      "219         Regular School  \n",
      "220          Magnet School  \n",
      "221         Regular School  \n",
      "222  Alternative Education  \n",
      "223         Regular School  \n",
      "224         Regular School  \n",
      "225         Regular School  \n",
      "226         Regular School  \n",
      "227         Regular School  \n",
      "228         Regular School  \n",
      "229         Regular School  \n",
      "230         Regular School  \n",
      "231         Regular School  \n",
      "232         Regular School  \n",
      "233         Regular School  \n",
      "234         Regular School  \n",
      "235         Regular School  \n",
      "236         Regular School  \n",
      "237         Regular School  \n",
      "238         Regular School  \n",
      "239         Regular School  \n",
      "240         Regular School  \n",
      "241         Regular School  \n",
      "242         Regular School  \n",
      "243         Regular School  \n",
      "244         Regular School  \n",
      "245         Regular School  \n",
      "246         Regular School  \n",
      "247         Regular School  \n",
      "248         Regular School  \n",
      "249         Regular School  \n",
      "250         Regular School  \n"
     ]
    }
   ],
   "source": [
    "print(nc_all.loc[200:250, cols])"
   ]
  },
  {
   "cell_type": "markdown",
   "metadata": {},
   "source": [
    "Get count of category_cd"
   ]
  },
  {
   "cell_type": "code",
   "execution_count": 61,
   "metadata": {
    "collapsed": false
   },
   "outputs": [
    {
     "name": "stdout",
     "output_type": "stream",
     "text": [
      "<class 'pandas.core.series.Series'>\n",
      "category_cd\n",
      "A      63\n",
      "E    1320\n",
      "H     505\n",
      "I     142\n",
      "M     478\n",
      "T      71\n",
      "Name: unit_code, dtype: int64\n"
     ]
    }
   ],
   "source": [
    "categories = nc_all.groupby('category_cd').unit_code.count()\n",
    "print(type(categories))\n",
    "print(categories)"
   ]
  },
  {
   "cell_type": "code",
   "execution_count": 62,
   "metadata": {
    "collapsed": true
   },
   "outputs": [],
   "source": [
    "# import Matplotlib.pyplot for plotting functions\n",
    "import matplotlib.pyplot as plt\n",
    "\n",
    "# by including this, you don't have to call plt.plot() each time.\n",
    "%matplotlib inline"
   ]
  },
  {
   "cell_type": "code",
   "execution_count": 63,
   "metadata": {
    "collapsed": false
   },
   "outputs": [
    {
     "data": {
      "image/png": "[encoded data removed]",
      "text/plain": [
       "<matplotlib.figure.Figure at 0x122a09f28>"
      ]
     },
     "metadata": {},
     "output_type": "display_data"
    }
   ],
   "source": [
    "# plot a histogram, assigning it a variable makes it display just the plot.\n",
    "ax = categories.plot(kind='barh')"
   ]
  },
  {
   "cell_type": "code",
   "execution_count": 13,
   "metadata": {
    "collapsed": false
   },
   "outputs": [
    {
     "data": {
      "text/plain": [
       "count     2579\n",
       "unique       6\n",
       "top          E\n",
       "freq      1320\n",
       "Name: category_cd, dtype: object"
      ]
     },
     "execution_count": 13,
     "metadata": {},
     "output_type": "execute_result"
    }
   ],
   "source": [
    "nc_all.category_cd.describe()"
   ]
  },
  {
   "cell_type": "code",
   "execution_count": 17,
   "metadata": {
    "collapsed": false
   },
   "outputs": [
    {
     "data": {
      "text/plain": [
       "E    1320\n",
       "H     505\n",
       "M     478\n",
       "I     142\n",
       "T      71\n",
       "A      63\n",
       "Name: category_cd, dtype: int64"
      ]
     },
     "execution_count": 17,
     "metadata": {},
     "output_type": "execute_result"
    }
   ],
   "source": [
    "nc_all.category_cd.value_counts()\n",
    "#type(nc_all.category_cd.value_counts())"
   ]
  },
  {
   "cell_type": "code",
   "execution_count": 18,
   "metadata": {
    "collapsed": false
   },
   "outputs": [
    {
     "data": {
      "text/plain": [
       "E    0.511826\n",
       "H    0.195812\n",
       "M    0.185343\n",
       "I    0.055060\n",
       "T    0.027530\n",
       "A    0.024428\n",
       "Name: category_cd, dtype: float64"
      ]
     },
     "execution_count": 18,
     "metadata": {},
     "output_type": "execute_result"
    }
   ],
   "source": [
    "nc_all.category_cd.value_counts(normalize=True)"
   ]
  },
  {
   "cell_type": "markdown",
   "metadata": {},
   "source": [
    "51% of the schools are E"
   ]
  },
  {
   "cell_type": "code",
   "execution_count": 21,
   "metadata": {
    "collapsed": false
   },
   "outputs": [
    {
     "data": {
      "text/plain": [
       "array(['A', 'I', 'H', 'E', 'M', 'T'], dtype=object)"
      ]
     },
     "execution_count": 21,
     "metadata": {},
     "output_type": "execute_result"
    }
   ],
   "source": [
    "nc_all.category_cd.unique()\n",
    "#print(type(nc_all.category_cd.unique()))"
   ]
  },
  {
   "cell_type": "code",
   "execution_count": 22,
   "metadata": {
    "collapsed": false
   },
   "outputs": [
    {
     "data": {
      "text/plain": [
       "6"
      ]
     },
     "execution_count": 22,
     "metadata": {},
     "output_type": "execute_result"
    }
   ],
   "source": [
    "nc_all.category_cd.nunique()"
   ]
  },
  {
   "cell_type": "code",
   "execution_count": 40,
   "metadata": {
    "collapsed": false
   },
   "outputs": [
    {
     "ename": "error",
     "evalue": "nothing to repeat at position 0",
     "output_type": "error",
     "traceback": [
      "\u001b[0;31m---------------------------------------------------------------------------\u001b[0m",
      "\u001b[0;31merror\u001b[0m                                     Traceback (most recent call last)",
      "\u001b[0;32m<ipython-input-40-b77aac9e4be0>\u001b[0m in \u001b[0;36m<module>\u001b[0;34m()\u001b[0m\n\u001b[0;32m----> 1\u001b[0;31m \u001b[0mnc_all\u001b[0m\u001b[0;34m[\u001b[0m\u001b[0mbool\u001b[0m\u001b[0;34m(\u001b[0m\u001b[0mnc_all\u001b[0m\u001b[0;34m.\u001b[0m\u001b[0munit_code\u001b[0m\u001b[0;34m.\u001b[0m\u001b[0mstr\u001b[0m\u001b[0;34m.\u001b[0m\u001b[0mmatch\u001b[0m\u001b[0;34m(\u001b[0m\u001b[0;34m'*SEA*'\u001b[0m\u001b[0;34m)\u001b[0m\u001b[0;34m)\u001b[0m\u001b[0;34m]\u001b[0m\u001b[0;34m\u001b[0m\u001b[0m\n\u001b[0m",
      "\u001b[0;32m/Users/Shravan/anaconda/lib/python3.6/site-packages/pandas/core/strings.py\u001b[0m in \u001b[0;36mmatch\u001b[0;34m(self, pat, case, flags, na, as_indexer)\u001b[0m\n\u001b[1;32m   1498\u001b[0m     \u001b[0;32mdef\u001b[0m \u001b[0mmatch\u001b[0m\u001b[0;34m(\u001b[0m\u001b[0mself\u001b[0m\u001b[0;34m,\u001b[0m \u001b[0mpat\u001b[0m\u001b[0;34m,\u001b[0m \u001b[0mcase\u001b[0m\u001b[0;34m=\u001b[0m\u001b[0;32mTrue\u001b[0m\u001b[0;34m,\u001b[0m \u001b[0mflags\u001b[0m\u001b[0;34m=\u001b[0m\u001b[0;36m0\u001b[0m\u001b[0;34m,\u001b[0m \u001b[0mna\u001b[0m\u001b[0;34m=\u001b[0m\u001b[0mnp\u001b[0m\u001b[0;34m.\u001b[0m\u001b[0mnan\u001b[0m\u001b[0;34m,\u001b[0m \u001b[0mas_indexer\u001b[0m\u001b[0;34m=\u001b[0m\u001b[0;32mFalse\u001b[0m\u001b[0;34m)\u001b[0m\u001b[0;34m:\u001b[0m\u001b[0;34m\u001b[0m\u001b[0m\n\u001b[1;32m   1499\u001b[0m         result = str_match(self._data, pat, case=case, flags=flags, na=na,\n\u001b[0;32m-> 1500\u001b[0;31m                            as_indexer=as_indexer)\n\u001b[0m\u001b[1;32m   1501\u001b[0m         \u001b[0;32mreturn\u001b[0m \u001b[0mself\u001b[0m\u001b[0;34m.\u001b[0m\u001b[0m_wrap_result\u001b[0m\u001b[0;34m(\u001b[0m\u001b[0mresult\u001b[0m\u001b[0;34m)\u001b[0m\u001b[0;34m\u001b[0m\u001b[0m\n\u001b[1;32m   1502\u001b[0m \u001b[0;34m\u001b[0m\u001b[0m\n",
      "\u001b[0;32m/Users/Shravan/anaconda/lib/python3.6/site-packages/pandas/core/strings.py\u001b[0m in \u001b[0;36mstr_match\u001b[0;34m(arr, pat, case, flags, na, as_indexer)\u001b[0m\n\u001b[1;32m    413\u001b[0m         \u001b[0mflags\u001b[0m \u001b[0;34m|=\u001b[0m \u001b[0mre\u001b[0m\u001b[0;34m.\u001b[0m\u001b[0mIGNORECASE\u001b[0m\u001b[0;34m\u001b[0m\u001b[0m\n\u001b[1;32m    414\u001b[0m \u001b[0;34m\u001b[0m\u001b[0m\n\u001b[0;32m--> 415\u001b[0;31m     \u001b[0mregex\u001b[0m \u001b[0;34m=\u001b[0m \u001b[0mre\u001b[0m\u001b[0;34m.\u001b[0m\u001b[0mcompile\u001b[0m\u001b[0;34m(\u001b[0m\u001b[0mpat\u001b[0m\u001b[0;34m,\u001b[0m \u001b[0mflags\u001b[0m\u001b[0;34m=\u001b[0m\u001b[0mflags\u001b[0m\u001b[0;34m)\u001b[0m\u001b[0;34m\u001b[0m\u001b[0m\n\u001b[0m\u001b[1;32m    416\u001b[0m \u001b[0;34m\u001b[0m\u001b[0m\n\u001b[1;32m    417\u001b[0m     \u001b[0;32mif\u001b[0m \u001b[0;34m(\u001b[0m\u001b[0;32mnot\u001b[0m \u001b[0mas_indexer\u001b[0m\u001b[0;34m)\u001b[0m \u001b[0;32mand\u001b[0m \u001b[0mregex\u001b[0m\u001b[0;34m.\u001b[0m\u001b[0mgroups\u001b[0m \u001b[0;34m>\u001b[0m \u001b[0;36m0\u001b[0m\u001b[0;34m:\u001b[0m\u001b[0;34m\u001b[0m\u001b[0m\n",
      "\u001b[0;32m/Users/Shravan/anaconda/lib/python3.6/re.py\u001b[0m in \u001b[0;36mcompile\u001b[0;34m(pattern, flags)\u001b[0m\n\u001b[1;32m    231\u001b[0m \u001b[0;32mdef\u001b[0m \u001b[0mcompile\u001b[0m\u001b[0;34m(\u001b[0m\u001b[0mpattern\u001b[0m\u001b[0;34m,\u001b[0m \u001b[0mflags\u001b[0m\u001b[0;34m=\u001b[0m\u001b[0;36m0\u001b[0m\u001b[0;34m)\u001b[0m\u001b[0;34m:\u001b[0m\u001b[0;34m\u001b[0m\u001b[0m\n\u001b[1;32m    232\u001b[0m     \u001b[0;34m\"Compile a regular expression pattern, returning a pattern object.\"\u001b[0m\u001b[0;34m\u001b[0m\u001b[0m\n\u001b[0;32m--> 233\u001b[0;31m     \u001b[0;32mreturn\u001b[0m \u001b[0m_compile\u001b[0m\u001b[0;34m(\u001b[0m\u001b[0mpattern\u001b[0m\u001b[0;34m,\u001b[0m \u001b[0mflags\u001b[0m\u001b[0;34m)\u001b[0m\u001b[0;34m\u001b[0m\u001b[0m\n\u001b[0m\u001b[1;32m    234\u001b[0m \u001b[0;34m\u001b[0m\u001b[0m\n\u001b[1;32m    235\u001b[0m \u001b[0;32mdef\u001b[0m \u001b[0mpurge\u001b[0m\u001b[0;34m(\u001b[0m\u001b[0;34m)\u001b[0m\u001b[0;34m:\u001b[0m\u001b[0;34m\u001b[0m\u001b[0m\n",
      "\u001b[0;32m/Users/Shravan/anaconda/lib/python3.6/re.py\u001b[0m in \u001b[0;36m_compile\u001b[0;34m(pattern, flags)\u001b[0m\n\u001b[1;32m    299\u001b[0m     \u001b[0;32mif\u001b[0m \u001b[0;32mnot\u001b[0m \u001b[0msre_compile\u001b[0m\u001b[0;34m.\u001b[0m\u001b[0misstring\u001b[0m\u001b[0;34m(\u001b[0m\u001b[0mpattern\u001b[0m\u001b[0;34m)\u001b[0m\u001b[0;34m:\u001b[0m\u001b[0;34m\u001b[0m\u001b[0m\n\u001b[1;32m    300\u001b[0m         \u001b[0;32mraise\u001b[0m \u001b[0mTypeError\u001b[0m\u001b[0;34m(\u001b[0m\u001b[0;34m\"first argument must be string or compiled pattern\"\u001b[0m\u001b[0;34m)\u001b[0m\u001b[0;34m\u001b[0m\u001b[0m\n\u001b[0;32m--> 301\u001b[0;31m     \u001b[0mp\u001b[0m \u001b[0;34m=\u001b[0m \u001b[0msre_compile\u001b[0m\u001b[0;34m.\u001b[0m\u001b[0mcompile\u001b[0m\u001b[0;34m(\u001b[0m\u001b[0mpattern\u001b[0m\u001b[0;34m,\u001b[0m \u001b[0mflags\u001b[0m\u001b[0;34m)\u001b[0m\u001b[0;34m\u001b[0m\u001b[0m\n\u001b[0m\u001b[1;32m    302\u001b[0m     \u001b[0;32mif\u001b[0m \u001b[0;32mnot\u001b[0m \u001b[0;34m(\u001b[0m\u001b[0mflags\u001b[0m \u001b[0;34m&\u001b[0m \u001b[0mDEBUG\u001b[0m\u001b[0;34m)\u001b[0m\u001b[0;34m:\u001b[0m\u001b[0;34m\u001b[0m\u001b[0m\n\u001b[1;32m    303\u001b[0m         \u001b[0;32mif\u001b[0m \u001b[0mlen\u001b[0m\u001b[0;34m(\u001b[0m\u001b[0m_cache\u001b[0m\u001b[0;34m)\u001b[0m \u001b[0;34m>=\u001b[0m \u001b[0m_MAXCACHE\u001b[0m\u001b[0;34m:\u001b[0m\u001b[0;34m\u001b[0m\u001b[0m\n",
      "\u001b[0;32m/Users/Shravan/anaconda/lib/python3.6/sre_compile.py\u001b[0m in \u001b[0;36mcompile\u001b[0;34m(p, flags)\u001b[0m\n\u001b[1;32m    560\u001b[0m     \u001b[0;32mif\u001b[0m \u001b[0misstring\u001b[0m\u001b[0;34m(\u001b[0m\u001b[0mp\u001b[0m\u001b[0;34m)\u001b[0m\u001b[0;34m:\u001b[0m\u001b[0;34m\u001b[0m\u001b[0m\n\u001b[1;32m    561\u001b[0m         \u001b[0mpattern\u001b[0m \u001b[0;34m=\u001b[0m \u001b[0mp\u001b[0m\u001b[0;34m\u001b[0m\u001b[0m\n\u001b[0;32m--> 562\u001b[0;31m         \u001b[0mp\u001b[0m \u001b[0;34m=\u001b[0m \u001b[0msre_parse\u001b[0m\u001b[0;34m.\u001b[0m\u001b[0mparse\u001b[0m\u001b[0;34m(\u001b[0m\u001b[0mp\u001b[0m\u001b[0;34m,\u001b[0m \u001b[0mflags\u001b[0m\u001b[0;34m)\u001b[0m\u001b[0;34m\u001b[0m\u001b[0m\n\u001b[0m\u001b[1;32m    563\u001b[0m     \u001b[0;32melse\u001b[0m\u001b[0;34m:\u001b[0m\u001b[0;34m\u001b[0m\u001b[0m\n\u001b[1;32m    564\u001b[0m         \u001b[0mpattern\u001b[0m \u001b[0;34m=\u001b[0m \u001b[0;32mNone\u001b[0m\u001b[0;34m\u001b[0m\u001b[0m\n",
      "\u001b[0;32m/Users/Shravan/anaconda/lib/python3.6/sre_parse.py\u001b[0m in \u001b[0;36mparse\u001b[0;34m(str, flags, pattern)\u001b[0m\n\u001b[1;32m    854\u001b[0m \u001b[0;34m\u001b[0m\u001b[0m\n\u001b[1;32m    855\u001b[0m     \u001b[0;32mtry\u001b[0m\u001b[0;34m:\u001b[0m\u001b[0;34m\u001b[0m\u001b[0m\n\u001b[0;32m--> 856\u001b[0;31m         \u001b[0mp\u001b[0m \u001b[0;34m=\u001b[0m \u001b[0m_parse_sub\u001b[0m\u001b[0;34m(\u001b[0m\u001b[0msource\u001b[0m\u001b[0;34m,\u001b[0m \u001b[0mpattern\u001b[0m\u001b[0;34m,\u001b[0m \u001b[0mflags\u001b[0m \u001b[0;34m&\u001b[0m \u001b[0mSRE_FLAG_VERBOSE\u001b[0m\u001b[0;34m,\u001b[0m \u001b[0;32mFalse\u001b[0m\u001b[0;34m)\u001b[0m\u001b[0;34m\u001b[0m\u001b[0m\n\u001b[0m\u001b[1;32m    857\u001b[0m     \u001b[0;32mexcept\u001b[0m \u001b[0mVerbose\u001b[0m\u001b[0;34m:\u001b[0m\u001b[0;34m\u001b[0m\u001b[0m\n\u001b[1;32m    858\u001b[0m         \u001b[0;31m# the VERBOSE flag was switched on inside the pattern.  to be\u001b[0m\u001b[0;34m\u001b[0m\u001b[0;34m\u001b[0m\u001b[0m\n",
      "\u001b[0;32m/Users/Shravan/anaconda/lib/python3.6/sre_parse.py\u001b[0m in \u001b[0;36m_parse_sub\u001b[0;34m(source, state, verbose, nested)\u001b[0m\n\u001b[1;32m    413\u001b[0m     \u001b[0mstart\u001b[0m \u001b[0;34m=\u001b[0m \u001b[0msource\u001b[0m\u001b[0;34m.\u001b[0m\u001b[0mtell\u001b[0m\u001b[0;34m(\u001b[0m\u001b[0;34m)\u001b[0m\u001b[0;34m\u001b[0m\u001b[0m\n\u001b[1;32m    414\u001b[0m     \u001b[0;32mwhile\u001b[0m \u001b[0;32mTrue\u001b[0m\u001b[0;34m:\u001b[0m\u001b[0;34m\u001b[0m\u001b[0m\n\u001b[0;32m--> 415\u001b[0;31m         \u001b[0mitemsappend\u001b[0m\u001b[0;34m(\u001b[0m\u001b[0m_parse\u001b[0m\u001b[0;34m(\u001b[0m\u001b[0msource\u001b[0m\u001b[0;34m,\u001b[0m \u001b[0mstate\u001b[0m\u001b[0;34m,\u001b[0m \u001b[0mverbose\u001b[0m\u001b[0;34m)\u001b[0m\u001b[0;34m)\u001b[0m\u001b[0;34m\u001b[0m\u001b[0m\n\u001b[0m\u001b[1;32m    416\u001b[0m         \u001b[0;32mif\u001b[0m \u001b[0;32mnot\u001b[0m \u001b[0msourcematch\u001b[0m\u001b[0;34m(\u001b[0m\u001b[0;34m\"|\"\u001b[0m\u001b[0;34m)\u001b[0m\u001b[0;34m:\u001b[0m\u001b[0;34m\u001b[0m\u001b[0m\n\u001b[1;32m    417\u001b[0m             \u001b[0;32mbreak\u001b[0m\u001b[0;34m\u001b[0m\u001b[0m\n",
      "\u001b[0;32m/Users/Shravan/anaconda/lib/python3.6/sre_parse.py\u001b[0m in \u001b[0;36m_parse\u001b[0;34m(source, state, verbose)\u001b[0m\n\u001b[1;32m    613\u001b[0m             \u001b[0;32mif\u001b[0m \u001b[0;32mnot\u001b[0m \u001b[0mitem\u001b[0m \u001b[0;32mor\u001b[0m \u001b[0;34m(\u001b[0m\u001b[0m_len\u001b[0m\u001b[0;34m(\u001b[0m\u001b[0mitem\u001b[0m\u001b[0;34m)\u001b[0m \u001b[0;34m==\u001b[0m \u001b[0;36m1\u001b[0m \u001b[0;32mand\u001b[0m \u001b[0mitem\u001b[0m\u001b[0;34m[\u001b[0m\u001b[0;36m0\u001b[0m\u001b[0;34m]\u001b[0m\u001b[0;34m[\u001b[0m\u001b[0;36m0\u001b[0m\u001b[0;34m]\u001b[0m \u001b[0;32mis\u001b[0m \u001b[0mAT\u001b[0m\u001b[0;34m)\u001b[0m\u001b[0;34m:\u001b[0m\u001b[0;34m\u001b[0m\u001b[0m\n\u001b[1;32m    614\u001b[0m                 raise source.error(\"nothing to repeat\",\n\u001b[0;32m--> 615\u001b[0;31m                                    source.tell() - here + len(this))\n\u001b[0m\u001b[1;32m    616\u001b[0m             \u001b[0;32mif\u001b[0m \u001b[0mitem\u001b[0m\u001b[0;34m[\u001b[0m\u001b[0;36m0\u001b[0m\u001b[0;34m]\u001b[0m\u001b[0;34m[\u001b[0m\u001b[0;36m0\u001b[0m\u001b[0;34m]\u001b[0m \u001b[0;32min\u001b[0m \u001b[0m_REPEATCODES\u001b[0m\u001b[0;34m:\u001b[0m\u001b[0;34m\u001b[0m\u001b[0m\n\u001b[1;32m    617\u001b[0m                 raise source.error(\"multiple repeat\",\n",
      "\u001b[0;31merror\u001b[0m: nothing to repeat at position 0"
     ]
    }
   ],
   "source": [
    "nc_all[nc_all.unit_code.str.match('*SEA*')]"
   ]
  },
  {
   "cell_type": "code",
   "execution_count": null,
   "metadata": {
    "collapsed": true
   },
   "outputs": [],
   "source": []
  },
  {
   "cell_type": "markdown",
   "metadata": {},
   "source": [
    "### Question: Which category has the highest funding ?"
   ]
  },
  {
   "cell_type": "code",
   "execution_count": null,
   "metadata": {
    "collapsed": true
   },
   "outputs": [],
   "source": []
  }
 ],
 "metadata": {
  "kernelspec": {
   "display_name": "Python 3",
   "language": "python",
   "name": "python3"
  },
  "language_info": {
   "codemirror_mode": {
    "name": "ipython",
    "version": 3
   },
   "file_extension": ".py",
   "mimetype": "text/x-python",
   "name": "python",
   "nbconvert_exporter": "python",
   "pygments_lexer": "ipython3",
   "version": "3.6.0"
  }
 },
 "nbformat": 4,
 "nbformat_minor": 2
}
