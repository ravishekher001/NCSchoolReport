{
 "cells": [
  {
   "cell_type": "markdown",
   "metadata": {},
   "source": [
    "## North Carolina Public Schools Report\n",
    "North Carolina Public Schools Report Card [1] and Statistical Profiles Databases [21] contain a large volume of information about public, charter, and alternative schools in the State of North Carolina. Information that is made publicly accessible comprises data at the school, district, and state levels.  This includes statistics on student and school performance, academic growth, diversity, safety, instructor experience levels, school funding, educational attainment, and much more."
   ]
  },
  {
   "cell_type": "markdown",
   "metadata": {},
   "source": [
    "## Data Overview\n",
    "\n",
    "There were 17 tables of data reviewed within the North Carolina report card database. Two additional tables including racial composition statistics were subsequently located in `Statistical profiles database` [21].\n",
    "\n",
    " - **School Profile**: \n",
    "    This table contains profiles at the school, district, and state levels from 2006-2016.  Most data in the other database tables link to a single school profile contained in this table using the unit_code field.  Unit codes with the value “NC-SEA” represent profiles at the state level, and unit codes ending in “LEA” represent data at the district level.  Unit codes belonging to individual schools may be mapped to a given district using the first 3 characters of the unit code.  For example, schools belonging to the district “995LEA” will each have unit code that begins with “995”"
   ]
  },
  {
   "cell_type": "markdown",
   "metadata": {},
   "source": [
    "### Importing data"
   ]
  },
  {
   "cell_type": "code",
   "execution_count": 8,
   "metadata": {
    "collapsed": false
   },
   "outputs": [
    {
     "data": {
      "text/plain": [
       "(32603, 35)"
      ]
     },
     "execution_count": 8,
     "metadata": {},
     "output_type": "execute_result"
    }
   ],
   "source": [
    "import pandas as pd\n",
    "\n",
    "# Read in the School Profile data\n",
    "nc_profile = pd.ExcelFile('data/PROFILE.xlsx')\n",
    "\n",
    "# type(nc_profile) returns: pandas.io.excel.ExcelFile\n",
    "# print the sheets in the Excel file\n",
    "# print(nc_profile.sheet_names) returns: ['PROFILE']\n",
    "\n",
    "# Import sheets from Excel files as data frames.\n",
    "nc_profile_df = nc_profile.parse('PROFILE')\n",
    "nc_profile_df.shape\n"
   ]
  },
  {
   "cell_type": "markdown",
   "metadata": {},
   "source": [
    "### Cleaning data"
   ]
  },
  {
   "cell_type": "markdown",
   "metadata": {},
   "source": [
    "Data almost never comes in clean, so we need to prepare data for analysis. First step would be to diagnose data for problems.\n",
    " - Common data problems include:\n",
    "     - Inconsistent column names\n",
    "     - Missing data\n",
    "     - Outliers\n",
    "     - Duplicate rows\n",
    "     - Untidy\n",
    "     - Need to process columns\n",
    "     - Columns types can signal unexpected data values"
   ]
  },
  {
   "cell_type": "markdown",
   "metadata": {},
   "source": [
    "#### Inconsistent column names\n",
    "Let's start by inspecting the first common data problem: Inconsistent column names. To do this, we need to get the list of column names from the dataframe `nc_profile_df`."
   ]
  },
  {
   "cell_type": "code",
   "execution_count": 9,
   "metadata": {
    "collapsed": false
   },
   "outputs": [
    {
     "data": {
      "text/plain": [
       "Index(['vphone_ad', 'year', 'unit_code', 'street_ad', 'scity_ad', 'state_ad',\n",
       "       'szip_ad', 'type_cd', 'closed_ind', 'new_ind', 'super_nm',\n",
       "       'category_cd', 'url_ad', 'grade_range_cd', 'calendar_type_txt',\n",
       "       'sna_pgm_type_cd', 'cover_letter_ad', 'school_type_txt',\n",
       "       'calendar_only_txt', 'title1_type_cd', 'clp_ind', 'focus_clp_ind',\n",
       "       'summer_program_ind', 'asm_no_spg_ind', 'no_data_spg_ind', 'Lea_Name',\n",
       "       'School_Name', 'State_Name', 'esea_status', 'student_num',\n",
       "       'lea_avg_student_num', 'st_avg_student_num', 'Grad_project_status',\n",
       "       'stem', 'url'],\n",
       "      dtype='object')"
      ]
     },
     "execution_count": 9,
     "metadata": {},
     "output_type": "execute_result"
    }
   ],
   "source": [
    "nc_profile_df.columns"
   ]
  },
  {
   "cell_type": "markdown",
   "metadata": {},
   "source": [
    "By visually inspecting the column names, it can be seen that these column names are in pretty good shape, i.e there are no spaces between the column names and most of them seem to be consistently named with `underscore` separating the words. The column names: `School_Name`, `State_Name`, `Lea_Name`, `Grad_project_status` appear to start with capital letters. We could choose to leave them as is or convert them to lower case to be consistent. "
   ]
  },
  {
   "cell_type": "markdown",
   "metadata": {},
   "source": [
    "#### Missing data\n",
    "To get an idea about the columns with missing data, we can use the `info()` method. "
   ]
  },
  {
   "cell_type": "code",
   "execution_count": 10,
   "metadata": {
    "collapsed": false
   },
   "outputs": [
    {
     "name": "stdout",
     "output_type": "stream",
     "text": [
      "<class 'pandas.core.frame.DataFrame'>\n",
      "RangeIndex: 32603 entries, 0 to 32602\n",
      "Data columns (total 35 columns):\n",
      "vphone_ad              32603 non-null object\n",
      "year                   32603 non-null int64\n",
      "unit_code              32603 non-null object\n",
      "street_ad              32536 non-null object\n",
      "scity_ad               32536 non-null object\n",
      "state_ad               32536 non-null object\n",
      "szip_ad                32536 non-null float64\n",
      "type_cd                32536 non-null object\n",
      "closed_ind             32536 non-null float64\n",
      "new_ind                32536 non-null float64\n",
      "super_nm               5625 non-null object\n",
      "category_cd            32510 non-null object\n",
      "url_ad                 31138 non-null object\n",
      "grade_range_cd         27589 non-null object\n",
      "calendar_type_txt      27577 non-null object\n",
      "sna_pgm_type_cd        27524 non-null object\n",
      "cover_letter_ad        15956 non-null object\n",
      "school_type_txt        27577 non-null object\n",
      "calendar_only_txt      27534 non-null object\n",
      "title1_type_cd         12776 non-null object\n",
      "clp_ind                189 non-null object\n",
      "focus_clp_ind          160 non-null object\n",
      "summer_program_ind     1318 non-null object\n",
      "asm_no_spg_ind         187 non-null object\n",
      "no_data_spg_ind        90 non-null object\n",
      "Lea_Name               32537 non-null object\n",
      "School_Name            27590 non-null object\n",
      "State_Name             32603 non-null object\n",
      "esea_status            1515 non-null object\n",
      "student_num            27447 non-null float64\n",
      "lea_avg_student_num    31078 non-null float64\n",
      "st_avg_student_num     32510 non-null float64\n",
      "Grad_project_status    2474 non-null object\n",
      "stem                   28 non-null object\n",
      "url                    0 non-null float64\n",
      "dtypes: float64(7), int64(1), object(27)\n",
      "memory usage: 8.7+ MB\n"
     ]
    }
   ],
   "source": [
    "nc_profile_df.info()"
   ]
  },
  {
   "cell_type": "markdown",
   "metadata": {},
   "source": [
    "From the output it is evident that many columns have missing data in them. Missing data may not necessarily mean that we have an issue, there are a myriad of reasons for missing data. Each column needs to be investigated."
   ]
  }
 ],
 "metadata": {
  "kernelspec": {
   "display_name": "Python 3",
   "language": "python",
   "name": "python3"
  },
  "language_info": {
   "codemirror_mode": {
    "name": "ipython",
    "version": 3
   },
   "file_extension": ".py",
   "mimetype": "text/x-python",
   "name": "python",
   "nbconvert_exporter": "python",
   "pygments_lexer": "ipython3",
   "version": "3.6.0"
  }
 },
 "nbformat": 4,
 "nbformat_minor": 2
}
