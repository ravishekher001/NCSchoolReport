{
 "cells": [
  {
   "cell_type": "markdown",
   "metadata": {},
   "source": [
    "\n",
    "# Lab 2  CLASSIFICATION-- North Carolina Education Data Set\n",
    "\n",
    "** Austin Hancock, Shravan Kuchkula, Kevin Okiah, Damarcus Thomas **\n",
    "\n",
    "![](http://dthomas.mathematical.guru/Img/NCZones.png)\n",
    "\n",
    "\n",
    "## Introduction.\n",
    "\n",
    "### copy the verbage about NC education systems intro from Lab 1 but add citiation\n",
    "\n"
   ]
  },
  {
   "cell_type": "markdown",
   "metadata": {},
   "source": [
    "#### Describe the purpose of the model you are about to build\n",
    "\n",
    "For this project we'll be using the North Carolina Schools education data set. The data we use is a combination of multiple data tables publicly available by the North Carolina Department of Public Instruction (NCDPI) which is charged with implementing the state's public-school laws and the State Board of Education's policies and procedures governing pre-kindergarten through 12th grade public education. You can learn more about the data by visiting http://www.ncpublicschools.org/data/reports/\n",
    "\n",
    "Our starting datasets [All_Data_By_School_Final] and [1516_Test_Scores] were taken from Dr. Drews GitHub https://github.com/jakemdrew/EducationDataNC where he combines multiple datasets from North Carolina Schools education data, preprocesses them and cleans them for Machine learning.\n",
    "\n",
    "We performed Visualization of high school’s data subset from this data, in our visualization lab hosted at https://github.com/kevimwe/NC_EDUCATION_DATA/tree/master/NC_EDUC_Visualization_Data_Processing.\n",
    "\n",
    "To guage the health of the education system in the state of North Carolina, our team is going to focus on  building models to classify the four year graduation rate `Graduation_Rate4_Yr` on High school data. In this lab we will:\n",
    "\n",
    "> 1.  \n",
    "Build Linear regression model to predict the graduation rate of High Schools in the state of North Carolina. To access the effectiveness of our algorithm we will begin by performing regression diagnostics for any unusual data and nonlinearity in our model. We will look at MSE, MAE, or RMSE among others to see how well our model fits the data. \n",
    "\n",
    "> 2. \n",
    "Build classification models to classify schools based on graduation rate of High Schools. We will begin by create a categorical features \"Above_Avg_Graduation_Rate4_Yr\" based on whether a school is classified as 1 where the school has a Graduation_Rate4_Yr that is above North Carolina (NC) average High school graduation rate (85.4%) or 0 if the school’s Graduation_Rate4_Yr is below the NC State Average graduation rate. We will look at ROC curves to see how well out models perform.\n",
    "\n",
    "For both cases our team hopes to measure the accuracy and performance of our models by leveraging Stratified 10-Fold Cross Validation which will be discussed in detail in our results section of this report.\n"
   ]
  },
  {
   "cell_type": "markdown",
   "metadata": {},
   "source": [
    "###  Part 1: Data Preparation - Define and prepare class variables [15 Points]"
   ]
  },
  {
   "cell_type": "markdown",
   "metadata": {},
   "source": [
    " >[10 points]\n",
    " >* Deﬁne and prepare your class variables. Use proper variable representations (int, ﬂoat, one-hot, etc.). Use pre-processing methods (as needed) for dimensionality reduction, scaling, etc. Remove variables that are not needed/useful for the analysis."
   ]
  },
  {
   "cell_type": "markdown",
   "metadata": {},
   "source": [
    "> *• [5 points] Describe the ﬁnal dataset that is used for classiﬁcation/regression (include a description of any newly formed variables you created). "
   ]
  },
  {
   "cell_type": "markdown",
   "metadata": {},
   "source": [
    "#### Loading the data\n",
    "\n",
    "In the code block, we import python modules that we will use in our analysis and load [All_Data_By_School_Final] and [1516_Test_Scores] from Dr. Drews GitHub https://github.com/jakemdrew/EducationDataNC. `All_Data_By_School_Final` has 2579 rows, 293 features. Dr. Drew consolidated `All_Data_By_School_Final` from various tables within the NC Statistical Profiles and Report Card Databases. Each row represents a public school in the state of North Carolina and each feature is a school's attainment level. `1516_Test_Scores` on the other end is school level attainment data containing 2669 rows, 73 features. The rows represent a school and the features are Percentage of entire student body meeting various subject, End of Grade (EOG), End of Course (EOC), ACT and Graduation Rate benchmarks. \n",
    "\n",
    "`All_Data_By_School_Final` and `1516_Test_Scores` get merged on 'unit_code': a unique identifier for the schools in the state of North Carolina to form 'SchoolData' which we will proceeed with for futher pre processing."
   ]
  },
  {
   "cell_type": "code",
   "execution_count": 2,
   "metadata": {
    "collapsed": false
   },
   "outputs": [
    {
     "name": "stdout",
     "output_type": "stream",
     "text": [
      "<class 'pandas.core.frame.DataFrame'>\n",
      "RangeIndex: 2579 entries, 0 to 2578\n",
      "Columns: 293 entries, Year to State_Prin_Exp_Pct_10+_Years\n",
      "dtypes: float64(255), int64(17), object(21)\n",
      "memory usage: 5.8+ MB\n",
      "<class 'pandas.core.frame.DataFrame'>\n",
      "Int64Index: 2579 entries, 0 to 2578\n",
      "Columns: 365 entries, Year to Passing_Math_III\n",
      "dtypes: float64(324), int64(17), object(24)\n",
      "memory usage: 7.2+ MB\n"
     ]
    }
   ],
   "source": [
    "#ignore warnings\n",
    "import warnings\n",
    "warnings.filterwarnings(\"ignore\")\n",
    "\n",
    "#import required Libraries\n",
    "import pandas as pd\n",
    "import numpy as np\n",
    "\n",
    "import os \n",
    "pd.set_option('display.max_colwidth', -1)\n",
    "import requests\n",
    "import io\n",
    "\n",
    "# Import the stats library\n",
    "from scipy import stats\n",
    "import statsmodels.api as sm\n",
    "\n",
    "# These are the plotting libraries we'll use:\n",
    "import matplotlib as mpl\n",
    "import matplotlib.pyplot as plt\n",
    "import matplotlib.mlab as mlab\n",
    "plt.style.use(\"classic\")\n",
    "import seaborn as sns\n",
    "\n",
    "#Machine learning\n",
    "from sklearn import linear_model\n",
    "from sklearn.cross_validation import train_test_split\n",
    "from sklearn.metrics import mean_squared_error, r2_score\n",
    "from sklearn.metrics import accuracy_score\n",
    "from sklearn.linear_model import LogisticRegression\n",
    "from sklearn import metrics as mt\n",
    "from sklearn.cross_validation import ShuffleSplit\n",
    "from sklearn.metrics import log_loss\n",
    "from sklearn.metrics import roc_auc_score\n",
    "from sklearn.svm import SVC\n",
    "from sklearn.cross_validation import cross_val_score\n",
    "from sklearn.model_selection import StratifiedKFold\n",
    "from sklearn.model_selection import KFold\n",
    "from sklearn.metrics import roc_curve, auc\n",
    "from sklearn.metrics import confusion_matrix\n",
    "from sklearn.ensemble  import RandomForestClassifier\n",
    "from sklearn.neighbors import KNeighborsClassifier\n",
    "from sklearn.neighbors import KNeighborsRegressor\n",
    "\n",
    "# Command for plots to appear in the iPython Notebook\n",
    "%matplotlib inline\n",
    "wd = os.getcwd() #get working directory\n",
    "\n",
    "#Read in raw data\n",
    "\n",
    "#Get school level data\n",
    "#url=\"https://raw.githubusercontent.com/jakemdrew/EducationDataNC/master/All_Data_By_School_Final.csv\"\n",
    "url=\"https://raw.githubusercontent.com/jakemdrew/EducationDataNC/master/Raw%20Datasets/All_Data_By_School_Final.csv\"\n",
    "schoolData=pd.read_csv(url, low_memory=False)\n",
    "\n",
    "#Get test scores level data \n",
    "#url=\"https://raw.githubusercontent.com/jakemdrew/EducationDataNC/master/1516_Test_Scores.csv\"\n",
    "url=\"https://raw.githubusercontent.com/jakemdrew/EducationDataNC/master/Raw%20Datasets/1516_Test_Scores.csv\"\n",
    "testScores=pd.read_csv(url, low_memory=False)\n",
    "\n",
    "#Review raw data before the join\n",
    "schoolData.info()\n",
    "\n",
    "#join files using school / unit code\n",
    "# schoolData = schoolData.join(testScores, on='unit_code',how='left', lsuffix='_schoolData', rsuffix='_testScores')\n",
    "schoolData = schoolData.merge(testScores, on='unit_code', how='left', suffixes=('_schoolData', '_testScores'))\n",
    "schoolData.info()\n"
   ]
  },
  {
   "cell_type": "code",
   "execution_count": 3,
   "metadata": {
    "collapsed": false
   },
   "outputs": [
    {
     "data": {
      "text/plain": [
       "(2579, 365)"
      ]
     },
     "execution_count": 3,
     "metadata": {},
     "output_type": "execute_result"
    }
   ],
   "source": [
    "schoolData.shape"
   ]
  },
  {
   "cell_type": "code",
   "execution_count": 4,
   "metadata": {
    "collapsed": false
   },
   "outputs": [
    {
     "name": "stdout",
     "output_type": "stream",
     "text": [
      "<class 'pandas.core.frame.DataFrame'>\n",
      "Int64Index: 2579 entries, 0 to 2578\n",
      "Columns: 353 entries, unit_code to Passing_Math_III\n",
      "dtypes: float64(324), int64(15), object(14)\n",
      "memory usage: 7.0+ MB\n"
     ]
    }
   ],
   "source": [
    "#Remove fields not needed for machine learning\n",
    "# Code block below is taken from Dr. Drew's notebook on graduation rate from his github link above.\n",
    "excludeFields = ['Year','unit_code_schoolData', 'street_ad','scity_ad','state_ad','szip_ad','Closed_Ind_Text','New_ind_Txt',\n",
    "                 'grades_BYOD','grades_1_to_1_access','District Name','unit_code_testScores','School Name','SBE District']\n",
    "\n",
    "keepFields = [col for col in schoolData.columns if col not in excludeFields]\n",
    "\n",
    "schoolData = schoolData[keepFields]\n",
    "\n",
    "schoolData.info()"
   ]
  },
  {
   "cell_type": "code",
   "execution_count": 5,
   "metadata": {
    "collapsed": false
   },
   "outputs": [
    {
     "data": {
      "text/plain": [
       "(2579, 353)"
      ]
     },
     "execution_count": 5,
     "metadata": {},
     "output_type": "execute_result"
    }
   ],
   "source": [
    "schoolData.shape"
   ]
  },
  {
   "cell_type": "markdown",
   "metadata": {},
   "source": [
    "> In the code block above we drop 12 features from our dataset from the get go. These are features that are unique for each of the records i.e. Street_ad, State_ad, School name etc. Since these features are unique to each record, they won't add value to our machine learning models."
   ]
  },
  {
   "cell_type": "code",
   "execution_count": 6,
   "metadata": {
    "collapsed": true
   },
   "outputs": [],
   "source": [
    "#Clean up the dataset for machine learning \n",
    "boolFields = ['title1_type_flg', 'clp_ind_flg', 'focus_clp_flg', 'summer_program_flg', \n",
    "              'asm_no_spg_flg', 'no_data_spg_flg', 'stem_flg']\n",
    "\n",
    "# Map flag fields into bool \n",
    "schoolData['title1_type_flg'] = schoolData['title1_type_flg'].map({-1:True, 0:False})\n",
    "schoolData['clp_ind_flg'] = schoolData['clp_ind_flg'].map({-1:True, 0:False})\n",
    "schoolData['focus_clp_flg'] = schoolData['focus_clp_flg'].map({-1:True, 0:False})\n",
    "schoolData['summer_program_flg'] = schoolData['summer_program_flg'].map({-1:True, 0:False})\n",
    "schoolData['asm_no_spg_flg'] = schoolData['asm_no_spg_flg'].map({-1:True, 0:False})\n",
    "schoolData['no_data_spg_flg'] = schoolData['no_data_spg_flg'].map({-1:True, 0:False})\n",
    "schoolData['stem_flg'] = schoolData['stem_flg'].map({-1:True, 0:False})\n",
    "\n",
    "#\n",
    "schoolData['esea_status'] = schoolData['esea_status'].map({'P':'Esea_Pass', 'F':'Esea_Fail', np.nan:'Non_Esea'})\n",
    "schoolData['Grad_project_status'] = schoolData['Grad_project_status'].map({'Y':True, 'N':False, np.nan:False})"
   ]
  },
  {
   "cell_type": "markdown",
   "metadata": {},
   "source": [
    "#### I converted -ve to +ve"
   ]
  },
  {
   "cell_type": "markdown",
   "metadata": {},
   "source": [
    "> In the code block above taken from Dr.Drews notebook, boolean fields are mapped into 1s and 0s for machine learning"
   ]
  },
  {
   "cell_type": "code",
   "execution_count": 7,
   "metadata": {
    "collapsed": false
   },
   "outputs": [
    {
     "name": "stdout",
     "output_type": "stream",
     "text": [
      "<class 'pandas.core.frame.DataFrame'>\n",
      "Int64Index: 440 entries, 116 to 2419\n",
      "Columns: 353 entries, unit_code to Passing_Math_III\n",
      "dtypes: bool(8), float64(324), int64(8), object(13)\n",
      "memory usage: 1.2+ MB\n"
     ]
    }
   ],
   "source": [
    "highSchools = schoolData [((schoolData.category_cd == 'H') | \n",
    "                          (schoolData.category_cd == 'T') | \n",
    "                          (schoolData.category_cd == 'A'))&\n",
    "                          (schoolData.Graduation_Rate4_Yr > 0) &\n",
    "                          (schoolData.student_num > 0) & \n",
    "                          (schoolData.type_cd_txt == 'Public') & \n",
    "                          (schoolData.school_type_txt == 'Regular School')\n",
    "                         ]\n",
    "\n",
    "highSchools.info()"
   ]
  },
  {
   "cell_type": "code",
   "execution_count": 8,
   "metadata": {
    "collapsed": false
   },
   "outputs": [
    {
     "data": {
      "text/plain": [
       "(440, 353)"
      ]
     },
     "execution_count": 8,
     "metadata": {},
     "output_type": "execute_result"
    }
   ],
   "source": [
    "highSchools.shape"
   ]
  },
  {
   "cell_type": "markdown",
   "metadata": {},
   "source": [
    "> Since our team targets to classify and build model High school's to predict four-year graduation rate, the data  was filtered to only schools categories that have high school grades based on category_cd flag. Our resulting dataset has 440 records. \n",
    "\n",
    ">In the code block below taken from Dr. Drew's notebook, 225 columns are dropped from our high school data based on various reasons ranging from; feature not being applicable to High Schools, features having the same value for all the records, to duplicated fields or having 100% NANs."
   ]
  },
  {
   "cell_type": "code",
   "execution_count": 9,
   "metadata": {
    "collapsed": false
   },
   "outputs": [
    {
     "name": "stdout",
     "output_type": "stream",
     "text": [
      "<class 'pandas.core.frame.DataFrame'>\n",
      "Int64Index: 440 entries, 116 to 2419\n",
      "Columns: 128 entries, category_cd to Passing_Math_III\n",
      "dtypes: bool(6), float64(115), object(7)\n",
      "memory usage: 425.4+ KB\n"
     ]
    }
   ],
   "source": [
    "#High school - excluded fields and reasons\n",
    "excludeFeaturesHS = ['no_data_spg_flg', #all false or NaN\n",
    " 'Avg_Class_Size_00', #NA for High Schools\n",
    " 'Avg_Class_Size_01', #NA for High Schools\n",
    " 'Avg_Class_Size_02', #NA for High Schools\n",
    " 'Avg_Class_Size_03', #NA for High Schools\n",
    " 'Avg_Class_Size_04', #NA for High Schools\n",
    " 'Avg_Class_Size_05', #NA for High Schools\n",
    " 'Avg_Class_Size_06', #NA for High Schools\n",
    " 'Avg_Class_Size_07', #NA for High Schools\n",
    " 'Avg_Class_Size_08', #NA for High Schools\n",
    " 'Avg_Dist_Size_00', #NA for High Schools\n",
    " 'Avg_Dist_Size_01', #NA for High Schools\n",
    " 'Avg_Dist_Size_02', #NA for High Schools\n",
    " 'Avg_Dist_Size_03', #NA for High Schools\n",
    " 'Avg_Dist_Size_04', #NA for High Schools\n",
    " 'Avg_Dist_Size_05', #NA for High Schools\n",
    " 'Avg_Dist_Size_06', #NA for High Schools\n",
    " 'Avg_Dist_Size_07', #NA for High Schools\n",
    " 'Avg_Dist_Size_08', #NA for High Schools\n",
    " 'Avg_State_Size_00', #NA for High Schools\n",
    " 'Avg_State_Size_01', #NA for High Schools\n",
    " 'Avg_State_Size_02', #NA for High Schools\n",
    " 'Avg_State_Size_03', #NA for High Schools\n",
    " 'Avg_State_Size_04', #NA for High Schools\n",
    " 'Avg_State_Size_05', #NA for High Schools\n",
    " 'Avg_State_Size_06', #NA for High Schools\n",
    " 'Avg_State_Size_07', #NA for High Schools\n",
    " 'Avg_State_Size_08', #NA for High Schools\n",
    " 'total_expense_num', #494 NaN\n",
    " 'salary_expense_pct', #494 NaN\n",
    " 'services_expense_pct', #494 NaN\n",
    " 'supplies_expense_pct', #494 NaN\n",
    " 'instruct_equip_exp_pct', #494 NaN\n",
    " 'other_expense_pct', #494 NaN\n",
    " 'federal_perpupil_num', #494 NaN\n",
    " 'local_perpupil_num', #494 NaN\n",
    " 'state_perpupil_num', #494 NaN\n",
    " 'lea_other_expense_pct', #All 0 or NaN\n",
    " 'st_total_expense_num', #Same Value\n",
    " 'st_salary_expense_pct', #Same Value\n",
    " 'st_benefits_expense_pct', #Same Value\n",
    " 'st_services_expense_pct', #Same Value\n",
    " 'st_supplies_expense_pct', #Same Value\n",
    " 'st_instruct_equip_exp_pct', #Same Value\n",
    " 'st_other_expense_pct', #Same Value\n",
    " 'st_federal_perpupil_num', #Same Value\n",
    " 'st_local_perpupil_num', #Same Value\n",
    " 'st_state_perpupil_num', #Same Value\n",
    " 'Reading SPG Grade', #NA for High Schools\n",
    " 'Reading  SPG Score', #NA for High Schools\n",
    " 'Math SPG Grade', #NA for High Schools\n",
    " 'Math SPG Score', #NA for High Schools\n",
    " 'Read Score', #NA for High Schools\n",
    " 'Math Score', #NA for High Schools\n",
    " 'Science Score', #NA for High Schools\n",
    " 'ACT WorkKeys Score', #81 NaN\n",
    " 'GCE_LEP_School_Pct', #440 NaN\n",
    " 'GCE_PRM_School_Pct', #440 NaN\n",
    " 'GCE_RPF_School_Pct', #440 NaN\n",
    " 'GCE_SWD_School_Pct', #440 NaN\n",
    " 'PASSED_EOG_School_Pct', #438 NaN\n",
    " 'PASSED_LAA_School_Pct', #440 NaN\n",
    " 'PASSED_RTA_School_Pct', #440 NaN\n",
    " 'PROMOTED_School_Pct', #438 NaN\n",
    " 'RETAINED_School_Pct', #440 NaN\n",
    " 'GCE_ALL_Dist_Pct', #437 NaN\n",
    " 'GCE_LEP_Dist_Pct', #440 NaN\n",
    " 'GCE_PRM_Dist_Pct', #440 NaN\n",
    " 'GCE_RPF_Dist_Pct', #439 NaN\n",
    " 'GCE_SWD_Dist_Pct', #438 NaN\n",
    " 'PASSED_EOG_Dist_Pct', #437 NaN\n",
    " 'PASSED_LAA_Dist_Pct', #438 NaN\n",
    " 'PASSED_RTA_Dist_Pct', #440 NaN\n",
    " 'PROMOTED_Dist_Pct', #437 NaN\n",
    " 'RETAINED_Dist_Pct', #438 NaN\n",
    " 'GCE_ALL_State_Pct', #437 NaN\n",
    " 'GCE_LEP_State_Pct', #440 NaN\n",
    " 'GCE_PRM_State_Pct', #440 NaN\n",
    " 'GCE_RPF_State_Pct', #440 NaN\n",
    " 'GCE_SWD_State_Pct', #437 NaN\n",
    " 'PASSED_EOG_State_Pct', #437 NaN\n",
    " 'PASSED_LAA_State_Pct', #437 NaN\n",
    " 'PASSED_RTA_State_Pct', #440 NaN\n",
    " 'PROMOTED_State_Pct', #437 NaN\n",
    " 'RETAINED_State_Pct', #437 NaN\n",
    " 'st_sat_avg_score_num  ', #All Same Value \n",
    " 'nat_sat_avg_score_num', #All Same Value\n",
    " 'st_sat_participation_pct', #All Same Value \n",
    " 'nat_sat_participation_pct', #All Same Value\n",
    " 'esea_attendance', #440 NaN\n",
    " 'lea_esea_attendance', #440 NaN\n",
    " 'st_ap_participation_pct', #All Same Value\n",
    " 'st_ap_pct_3_or_above', #All Same Value\n",
    " 'ib_participation_pct', #434 NaN\n",
    " 'lea_ib_participation_pct', #440 NaN\n",
    " 'st_ib_participation_pct', #440 NaN\n",
    " 'ib_pct_4_or_above', #416 NaN\n",
    " 'lea_ib_pct_4_or_above', #261 NaN\n",
    " 'st_ib_pct_4_or_above', #All Same Value\n",
    " 'st_total_specialized_courses', #All Same Value\n",
    " 'st_ap_ib_courses ', #All Same Value\n",
    " 'st_cte_courses', #All Same Value\n",
    " 'st_univ_college_courses', #All Same Value\n",
    " 'ttl_crimes_num', #440 NaN\n",
    " 'st_expelled_per_c_num', #All Same Value\n",
    " 'st_avg_age_media_collection ', #All Same Value\n",
    " 'st_books_per_student', #All Same Value\n",
    " 'st_wap_num', #All Same Value\n",
    " 'st_wap_per_classroom', #All Same Value\n",
    " 'prin_other_pct', #440 NaN\n",
    " 'prinyrs_0thru3_pct', #440 NaN\n",
    " 'prinyrs_4thru10_pct', #440 NaN\n",
    " 'prinyrs_11plus_pct', #440 NaN\n",
    " 'prin_advance_dgr_pct', #440 NaN\n",
    " '_1yr_prin_trnovr_pct', #440 NaN\n",
    " 'prin_male_pct', #440 NaN\n",
    " 'prin_female_pct', #440 NaN\n",
    " 'prin_black_pct', #440 NaN\n",
    " 'prin_white_pct', #440 NaN\n",
    " 'emer_prov_teach_pct    ', #385 NaN \n",
    " 'st_highqual_class_hp_pct ', #All Same Value\n",
    " 'st_highqual_class_lp_pct ', #All Same Value\n",
    " 'st_highqual_class_all_pct ', #All Same Value\n",
    " 'st_not_highqual_class_hp_pct ', #All Same Value\n",
    " 'st_not_highqual_class_lp_pct ', #All Same Value\n",
    " 'st_not_highqual_class_all_pct ', #All Same Value\n",
    " 'st_prinyrs_0thru3_pct ', #All Same Value\n",
    " 'st_prinyrs_4thru10_pct ', #All Same Value\n",
    " 'st_prinyrs_11plus_pct', #All Same Value\n",
    " 'st_prin_advance_dgr_pct', #All Same Value\n",
    " 'st_1yr_prin_trnovr_pct ', #All Same Value\n",
    " 'st_prin_male_pct ', #All Same Value\n",
    " 'st_prin_female_pct ', #All Same Value\n",
    " 'st_prin_black_pct ', #All Same Value\n",
    " 'st_prin_white_pct', #All Same Value\n",
    " 'st_prin_other_pct', #All Same Value\n",
    " 'State_Prin_Exp_Pct_0_3_Years ', #All Same Value\n",
    " 'State_Prin_Exp_Pct_4_10_Years ', #All Same Value\n",
    " 'State_Prin_Exp_Pct_10+_Years ', #All Same Value\n",
    " 'All_EOG_Subjects_CACR', #428 NaN \n",
    " 'All_EOG_Subjects_GLP', #428 NaN \n",
    " 'EOG_Gr3_CACR', #NA for High Schools\n",
    " 'EOG_Gr3_GLP', #NA for High Schools\n",
    " 'EOG_Gr4_CACR', #NA for High Schools\n",
    " 'EOG_Gr4_GLP', #NA for High Schools\n",
    " 'EOG_Gr5_CACR', #NA for High Schools\n",
    " 'EOG_Gr5_GLP', #NA for High Schools\n",
    " 'EOG_Gr6_CACR', #NA for High Schools\n",
    " 'EOG_Gr6_GLP', #NA for High Schools\n",
    " 'EOG_Gr7_CACR', #NA for High Schools\n",
    " 'EOG_Gr7_GLP', #NA for High Schools\n",
    " 'EOG_Gr8_CACR', #NA for High Schools\n",
    " 'EOG_Gr8_GLP', #NA for High Schools\n",
    " 'EOG_Math_Gr3_CACR', #NA for High Schools\n",
    " 'EOG_Math_Gr3_GLP', #NA for High Schools\n",
    " 'EOG_Math_Gr3-8_CACR', #NA for High Schools\n",
    " 'EOG_Math_Gr3-8_GLP', #NA for High Schools\n",
    " 'EOG_Math_Gr4_CACR', #NA for High Schools\n",
    " 'EOG_Math_Gr4_GLP', #NA for High Schools\n",
    " 'EOG_Math_Gr5_CACR', #NA for High Schools\n",
    " 'EOG_Math_Gr5_GLP', #NA for High Schools\n",
    " 'EOG_Math_Gr6_CACR', #NA for High Schools\n",
    " 'EOG_Math_Gr6_GLP', #NA for High Schools\n",
    " 'EOG_Math_Gr7_CACR', #NA for High Schools\n",
    " 'EOG_Math_Gr7_GLP', #NA for High Schools\n",
    " 'EOG_Math_Gr8_CACR', #NA for High Schools\n",
    " 'EOG_Math_Gr8_GLP', #NA for High Schools\n",
    " 'EOG_Reading_G3_GLP', #NA for High Schools\n",
    " 'EOG_Reading_Gr3_CACR', #NA for High Schools\n",
    " 'EOG_Reading_Gr4_CACR', #NA for High Schools\n",
    " 'EOG_Reading_Gr4_GLP', #NA for High Schools\n",
    " 'EOG_Reading_Gr5_CACR', #NA for High Schools\n",
    " 'EOG_Reading_Gr5_GLP', #NA for High Schools\n",
    " 'EOG_Reading_Gr6_CACR', #NA for High Schools\n",
    " 'EOG_Reading_Gr6_GLP', #NA for High Schools\n",
    " 'EOG_Reading_Gr7_CACR', #NA for High Schools\n",
    " 'EOG_Reading_Gr7_GLP', #NA for High Schools\n",
    " 'EOG_Reading_Gr8_CACR', #NA for High Schools\n",
    " 'EOG_Reading_Gr8_GLP', #NA for High Schools\n",
    " 'EOG_Reading_Grades_3_8_CACR', #NA for High Schools\n",
    " 'EOG_Reading_Grades_3_8_GLP', #NA for High Schools\n",
    " 'EOG_Science_Gr5_CACR', #NA for High Schools\n",
    " 'EOG_Science_Gr5_GLP', #NA for High Schools\n",
    " 'EOG_Science_Gr8_CACR', #NA for High Schools\n",
    " 'EOG_Science_Gr8_GLP', #NA for High Schools\n",
    " 'EOG_Science_Grades_5&8_CACR', #NA for High Schools\n",
    " 'EOG_Science_Grades_5&8_GLP', #NA for High Schools\n",
    " 'Graduation_Rate_5_Yr', #Using 4 year graduation rate as response variable\n",
    " 'type_cd_txt', #Only 'Public' after filter\n",
    " 'school_type_txt', #Only 'Regular School' after filter \n",
    " 'asm_no_spg_flg', #All False after filters\n",
    " 'benefits_expense_pct', #440 NaN\n",
    " 'State Gap Compared', #360 NaN\n",
    " 'GCE_ALL_School_Pct', #437\n",
    " 'emer_prov_teach_pct', #385 NaN\n",
    " 'lea_emer_prov_teach_pct', #226 NaN \n",
    " 'Avg_State_Size_Biology', #All same value\n",
    " 'Avg_State_Size_EnglishII', #All same value\n",
    " 'Avg_State_Size_MathI', #All same value\n",
    " 'st_sat_avg_score_num', #All same value \n",
    " 'st_ap_ib_courses', #All same value\n",
    " 'st_avg_daily_attend_pct', #All same value\n",
    " 'st_crime_per_c_num', #All same value\n",
    " 'st_short_susp_per_c_num', #All same value\n",
    " 'st_long_susp_per_c_num', #All same value\n",
    " 'st_stud_internet_comp_num', #All same value\n",
    " 'st_avg_age_media_collection', #All same value\n",
    " 'st_flicensed_teach_pct', #All same value\n",
    " #'st_tchyrs_0thru3_pct', #All same value\n",
    " #'st_tchyrs_4thru10_pct', #All same value\n",
    " #'st_tchyrs_11plus_pct', #All same value\n",
    " 'st_class_teach_num', #All same value\n",
    " 'st_nbpts_num', #All same value\n",
    " 'st_advance_dgr_pct', #All same value\n",
    " 'st_1yr_tchr_trnovr_pct', #All same value\n",
    " 'st_emer_prov_teach_pct', #All same value\n",
    " 'st_lateral_teach_pct', #All same value\n",
    " 'st_highqual_class_pct', #All same value\n",
    " 'st_highqual_class_hp_pct', #All same value\n",
    " 'st_highqual_class_lp_pct', #All same value\n",
    " 'st_highqual_class_all_pct', #All same value\n",
    " 'st_not_highqual_class_hp_pct', #All same value\n",
    " 'st_not_highqual_class_lp_pct', #All same value\n",
    " 'st_not_highqual_class_all_pct', #All same value\n",
    " 'st_prinyrs_0thru3_pct', #All same value\n",
    " 'st_prinyrs_4thru10_pct', #All same value\n",
    " 'st_1yr_prin_trnovr_pct', #All same value\n",
    " 'st_prin_male_pct', #All same value\n",
    " 'st_prin_female_pct', #All same value\n",
    " 'st_prin_black_pct', #All same value\n",
    " 'State_Tch_Exp_Pct_0_3_Years', #All same value\n",
    " 'State_Tch_Exp_Pct_4_10_Years', #All same value\n",
    " 'State_Tch_Exp_Pct_10+_Years', #All same value\n",
    " 'State_Prin_Exp_Pct_0_3_Years', #All same value\n",
    " 'State_Prin_Exp_Pct_4_10_Years', #All same value\n",
    " 'State_Prin_Exp_Pct_10+_Years', #All same value\n",
    " 'st_avg_student_num', #All same value \n",
    " 'unit_code', #School primary key, different for all records\n",
    " #-----------------------Added 01/30/2018------------------------\n",
    " #Removes dup fields to avoid Multicollinearity\n",
    " 'tchyrs_0thru3_pct', #Duplicate field -> Tch_Exp_Pct_0_3_Years\n",
    " 'tchyrs_4thru10_pct', #Duplicate field -> Tch_Exp_Pct_4_10_Years\n",
    " 'tchyrs_11plus_pct', #Duplicate field -> Tch_Exp_Pct_10+_Years\n",
    " 'lea_tchyrs_0thru3_pct', #Duplicate field -> Dist_Tch_Exp_Pct_0_3_Years\n",
    " 'lea_tchyrs_4thru10_pct', #Duplicate field -> Dist_Tch_Exp_Pct_4_10_Years\n",
    " 'lea_tchyrs_11plus_pct', #Duplicate field -> Dist_Tch_Exp_Pct_10+_Years\n",
    " 'st_tchyrs_0thru3_pct', #Duplicate field -> State_Tch_Exp_Pct_0_3_Years\n",
    " 'st_tchyrs_4thru10_pct', #Duplicate field -> State_Tch_Exp_Pct_4_10_Years\n",
    " 'st_tchyrs_11plus_pct', #Duplicate field -> State_Tch_Exp_Pct_10+_Years\n",
    "                    ]\n",
    "\n",
    "keepFields = [col for col in highSchools.columns if col not in excludeFeaturesHS]\n",
    "\n",
    "highSchools = highSchools[keepFields]\n",
    "\n",
    "highSchools.info()"
   ]
  },
  {
   "cell_type": "code",
   "execution_count": 10,
   "metadata": {
    "collapsed": false
   },
   "outputs": [
    {
     "data": {
      "text/plain": [
       "(440, 128)"
      ]
     },
     "execution_count": 10,
     "metadata": {},
     "output_type": "execute_result"
    }
   ],
   "source": [
    "highSchools.shape"
   ]
  },
  {
   "cell_type": "markdown",
   "metadata": {},
   "source": [
    "#### Missing Data"
   ]
  },
  {
   "cell_type": "code",
   "execution_count": 11,
   "metadata": {
    "collapsed": false
   },
   "outputs": [
    {
     "name": "stdout",
     "output_type": "stream",
     "text": [
      "                                      Variable Name  Number Missing Values\n",
      "11   Avg_Class_Size_Biology                          9                    \n",
      "12   Avg_Class_Size_EnglishII                        8                    \n",
      "13   Avg_Class_Size_MathI                            12                   \n",
      "14   Avg_Dist_Size_Biology                           7                    \n",
      "15   Avg_Dist_Size_EnglishII                         7                    \n",
      "16   Avg_Dist_Size_MathI                             7                    \n",
      "26   SPG Grade                                       1                    \n",
      "27   SPG Score                                       1                    \n",
      "28   EVAAS Growth Status                             8                    \n",
      "29   EVAAS Growth Score                              8                    \n",
      "30   Overall Achievement Score                       1                    \n",
      "31   Math I Score                                    9                    \n",
      "32   English II Score                                9                    \n",
      "33   Biology Score                                   9                    \n",
      "34   The ACT Score                                   2                    \n",
      "35   Math Course Rigor Score                         4                    \n",
      "36   Cohort Graduation Rate Standard Score           5                    \n",
      "37   sat_avg_score_num                               2                    \n",
      "39   sat_participation_pct                           2                    \n",
      "41   ap_participation_pct                            132                  \n",
      "42   lea_ap_participation_pct                        54                   \n",
      "43   ap_pct_3_or_above                               94                   \n",
      "44   lea_ap_pct_3_or_above                           4                    \n",
      "45   AP_Courses_Offered                              103                  \n",
      "46   total_specialized_courses                       2                    \n",
      "47   ap_ib_courses                                   78                   \n",
      "48   cte_courses                                     8                    \n",
      "49   univ_college_courses                            72                   \n",
      "50   lea_total_specialized_courses                   2                    \n",
      "51   lea_ap_ib_courses                               6                    \n",
      "52   lea_cte_courses                                 2                    \n",
      "53   lea_univ_college_courses                        10                   \n",
      "54   sch_percent_college_enrolled_16_mos_post_grad   10                   \n",
      "55   One_Yr_College_Complete_wi_2_yrs_Enrolled_2012  10                   \n",
      "61   stud_internet_comp_num                          5                    \n",
      "68   digital_media_pct                               79                   \n",
      "69   Byod                                            79                   \n",
      "70   avg_age_media_collection                        79                   \n",
      "71   1_to_1_access                                   79                   \n",
      "72   books_per_student                               79                   \n",
      "73   lea_avg_age_media_collection                    79                   \n",
      "74   lea_books_per_student                           79                   \n",
      "75   wap_num                                         6                    \n",
      "76   wap_per_classroom                               6                    \n",
      "81   nbpts_num                                       25                   \n",
      "83   _1yr_tchr_trnovr_pct                            1                    \n",
      "84   lateral_teach_pct                               56                   \n",
      "85   highqual_class_pct                              2                    \n",
      "88   lea_nbpts_num                                   2                    \n",
      "91   lea_lateral_teach_pct                           3                    \n",
      "93   lea_highqual_class_hp_pct                       21                   \n",
      "94   lea_highqual_class_lp_pct                       50                   \n",
      "96   lea_not_highqual_class_hp_pct                   21                   \n",
      "97   lea_not_highqual_class_lp_pct                   50                   \n",
      "108  ACT_Composite_Score_UNC_Min                     1                    \n",
      "109  ACT_English_Benchmark                           1                    \n",
      "110  ACT_Math_Benchmark                              1                    \n",
      "112  ACT_Reading_Benchmark                           1                    \n",
      "113  ACT_Science_Benchmark                           1                    \n",
      "114  ACT_WorkKeys_Silver_Beyond                      85                   \n",
      "115  ACT_Writing_Benchmark                           1                    \n",
      "116  All_EOC_Subjects_CACR                           6                    \n",
      "117  All_EOC_Subjects_GLP                            6                    \n",
      "118  All_EOG_EOC_Subjects_CACR                       6                    \n",
      "119  All_EOG_EOC_Subjects_GLP                        6                    \n",
      "120  EOC_Biology_CACR                                9                    \n",
      "121  EOC_Biology_GLP                                 9                    \n",
      "122  EOC_English_2_CACR                              10                   \n",
      "123  EOC_English_2_GLP                               10                   \n",
      "124  EOC_Math_I_CACR                                 9                    \n",
      "125  EOC_Math_I_GLP                                  9                    \n",
      "127  Passing_Math_III                                1                    \n"
     ]
    }
   ],
   "source": [
    "#Review Missing values \n",
    "missing_values = highSchools.isnull().sum().reset_index()\n",
    "missing_values.columns = ['Variable Name', 'Number Missing Values']\n",
    "missing_values = missing_values[missing_values['Number Missing Values'] > 0] \n",
    "\n",
    "#Print all rows with missing values\n",
    "with pd.option_context('display.max_rows', None, 'display.max_columns', 3):\n",
    "    print(missing_values)"
   ]
  },
  {
   "cell_type": "code",
   "execution_count": 12,
   "metadata": {
    "collapsed": false
   },
   "outputs": [
    {
     "name": "stdout",
     "output_type": "stream",
     "text": [
      "##################################################\n",
      "###              Stats on missing data         ###\n",
      "##################################################\n",
      "No. of rows in HighSchoolS:  440\n",
      "No. of Columns in HighSchoolS:  128\n",
      "No. of Columns with Missing data:  72\n",
      "No. of Complete data columns:  56\n",
      "No. of Columns with 100% missing Values:  0\n",
      "% of Columns with some Missing data:  56.25 %\n",
      "% of Columns with 100% Missing data:  0.0 %\n",
      " \n",
      "##################################################\n",
      "###        Columns with  missing data      ###\n",
      "##################################################\n",
      "    DataMissing                                      ColumnName  Missing %\n",
      "0   132          ap_participation_pct                            30.000000\n",
      "1   103          AP_Courses_Offered                              23.409091\n",
      "2   94           ap_pct_3_or_above                               21.363636\n",
      "3   85           ACT_WorkKeys_Silver_Beyond                      19.318182\n",
      "4   79           1_to_1_access                                   17.954545\n",
      "5   79           books_per_student                               17.954545\n",
      "6   79           lea_avg_age_media_collection                    17.954545\n",
      "7   79           Byod                                            17.954545\n",
      "8   79           avg_age_media_collection                        17.954545\n",
      "9   79           digital_media_pct                               17.954545\n",
      "10  79           lea_books_per_student                           17.954545\n",
      "11  78           ap_ib_courses                                   17.727273\n",
      "12  72           univ_college_courses                            16.363636\n",
      "13  56           lateral_teach_pct                               12.727273\n",
      "14  54           lea_ap_participation_pct                        12.272727\n",
      "15  50           lea_not_highqual_class_lp_pct                   11.363636\n",
      "16  50           lea_highqual_class_lp_pct                       11.363636\n",
      "17  25           nbpts_num                                       5.681818 \n",
      "18  21           lea_highqual_class_hp_pct                       4.772727 \n",
      "19  21           lea_not_highqual_class_hp_pct                   4.772727 \n",
      "20  12           Avg_Class_Size_MathI                            2.727273 \n",
      "21  10           lea_univ_college_courses                        2.272727 \n",
      "22  10           EOC_English_2_CACR                              2.272727 \n",
      "23  10           EOC_English_2_GLP                               2.272727 \n",
      "24  10           One_Yr_College_Complete_wi_2_yrs_Enrolled_2012  2.272727 \n",
      "25  10           sch_percent_college_enrolled_16_mos_post_grad   2.272727 \n",
      "26  9            EOC_Biology_CACR                                2.045455 \n",
      "27  9            EOC_Biology_GLP                                 2.045455 \n",
      "28  9            EOC_Math_I_CACR                                 2.045455 \n",
      "29  9            EOC_Math_I_GLP                                  2.045455 \n",
      ".. ..                       ...                                       ... \n",
      "42  6            All_EOG_EOC_Subjects_CACR                       1.363636 \n",
      "43  6            lea_ap_ib_courses                               1.363636 \n",
      "44  6            All_EOC_Subjects_CACR                           1.363636 \n",
      "45  6            All_EOC_Subjects_GLP                            1.363636 \n",
      "46  6            wap_num                                         1.363636 \n",
      "47  6            All_EOG_EOC_Subjects_GLP                        1.363636 \n",
      "48  5            Cohort Graduation Rate Standard Score           1.136364 \n",
      "49  5            stud_internet_comp_num                          1.136364 \n",
      "50  4            Math Course Rigor Score                         0.909091 \n",
      "51  4            lea_ap_pct_3_or_above                           0.909091 \n",
      "52  3            lea_lateral_teach_pct                           0.681818 \n",
      "53  2            lea_cte_courses                                 0.454545 \n",
      "54  2            The ACT Score                                   0.454545 \n",
      "55  2            lea_total_specialized_courses                   0.454545 \n",
      "56  2            total_specialized_courses                       0.454545 \n",
      "57  2            sat_participation_pct                           0.454545 \n",
      "58  2            lea_nbpts_num                                   0.454545 \n",
      "59  2            highqual_class_pct                              0.454545 \n",
      "60  2            sat_avg_score_num                               0.454545 \n",
      "61  1            _1yr_tchr_trnovr_pct                            0.227273 \n",
      "62  1            SPG Grade                                       0.227273 \n",
      "63  1            SPG Score                                       0.227273 \n",
      "64  1            ACT_Composite_Score_UNC_Min                     0.227273 \n",
      "65  1            ACT_English_Benchmark                           0.227273 \n",
      "66  1            ACT_Writing_Benchmark                           0.227273 \n",
      "67  1            Overall Achievement Score                       0.227273 \n",
      "68  1            ACT_Science_Benchmark                           0.227273 \n",
      "69  1            ACT_Reading_Benchmark                           0.227273 \n",
      "70  1            ACT_Math_Benchmark                              0.227273 \n",
      "71  1            Passing_Math_III                                0.227273 \n",
      "\n",
      "[72 rows x 3 columns]\n"
     ]
    }
   ],
   "source": [
    "#Check for missing values\n",
    "HighSchoolS = highSchools.copy()\n",
    "Temp = pd.DataFrame(HighSchoolS.isnull().sum())\n",
    "#print(Temp)\n",
    "Temp.columns =['DataMissing']\n",
    "#Columns with at least 1 missing value\n",
    "MissingCount = Temp[Temp.DataMissing>0]\n",
    "\n",
    "#sort \n",
    "MissingCount = MissingCount.sort_values('DataMissing',ascending=False)\n",
    "#basic stats on missing data\n",
    "print(\"##################################################\")\n",
    "print(\"###\", '             Stats on missing data        ',  \"###\")\n",
    "print(\"##################################################\")\n",
    "print('No. of rows in HighSchoolS: ',len(HighSchoolS))\n",
    "print('No. of Columns in HighSchoolS: ',len(HighSchoolS.columns))\n",
    "print('No. of Columns with Missing data: ',len(MissingCount))\n",
    "print('No. of Complete data columns: ', len(HighSchoolS.columns) - len(MissingCount))\n",
    "print('No. of Columns with 100% missing Values: ',sum(1 for item in MissingCount.DataMissing if item==len(HighSchoolS)))\n",
    "print('% of Columns with some Missing data: ',round(float(100*len(MissingCount))/len(HighSchoolS.columns),3),'%')\n",
    "print('% of Columns with 100% Missing data: ',round(float(100*sum(1 for item in MissingCount.DataMissing if item==len(HighSchoolS)))/len(HighSchoolS.columns),3),'%')\n",
    "\n",
    "print(\" \")\n",
    "print(\"##################################################\")\n",
    "print(\"###\",'       Columns with  missing data     ',    \"###\")\n",
    "print(\"##################################################\")\n",
    "#add a columnName for Bar charts plot\n",
    "MissingCount['ColumnName'] = MissingCount.index\n",
    "MissingCount['Missing %'] = 100*(MissingCount.DataMissing/len(HighSchoolS))\n",
    "MissingCount = MissingCount.reset_index()\n",
    "del MissingCount['index']\n",
    "print((MissingCount.head(100)))"
   ]
  },
  {
   "cell_type": "markdown",
   "metadata": {},
   "source": [
    ">From above we note, of the 128 columns in HighSchool, 72 features (56.25%) of them have some missing data while 56  features (43.625) have complete data. \n",
    "\n",
    ">Our team chose to replace missing catagorical values with mode and missing continuous values with median. in the code bloack that follows a total of 72 columns with missing values have been cleaned."
   ]
  },
  {
   "cell_type": "code",
   "execution_count": 13,
   "metadata": {
    "collapsed": false
   },
   "outputs": [
    {
     "name": "stdout",
     "output_type": "stream",
     "text": [
      "#######################################\n",
      "## continous and categorical columns ##\n",
      "#######################################\n",
      " \n",
      "##############################\n",
      "## NA count Before Cleaning ##\n",
      "##############################\n",
      "category_cd                       0 \n",
      "calendar_only_txt                 0 \n",
      "title1_type_flg                   0 \n",
      "clp_ind_flg                       0 \n",
      "focus_clp_flg                     0 \n",
      "summer_program_flg                0 \n",
      "esea_status                       0 \n",
      "student_num                       0 \n",
      "lea_avg_student_num               0 \n",
      "Grad_project_status               0 \n",
      "stem_flg                          0 \n",
      "Avg_Class_Size_Biology            9 \n",
      "Avg_Class_Size_EnglishII          8 \n",
      "Avg_Class_Size_MathI              12\n",
      "Avg_Dist_Size_Biology             7 \n",
      "Avg_Dist_Size_EnglishII           7 \n",
      "Avg_Dist_Size_MathI               7 \n",
      "lea_total_expense_num             0 \n",
      "lea_salary_expense_pct            0 \n",
      "lea_benefits_expense_pct          0 \n",
      "lea_services_expense_pct          0 \n",
      "lea_supplies_expense_pct          0 \n",
      "lea_instruct_equip_exp_pct        0 \n",
      "lea_federal_perpupil_num          0 \n",
      "lea_local_perpupil_num            0 \n",
      "lea_state_perpupil_num            0 \n",
      "SPG Grade                         1 \n",
      "SPG Score                         1 \n",
      "EVAAS Growth Status               8 \n",
      "EVAAS Growth Score                8 \n",
      "                                 .. \n",
      "lea_not_highqual_class_all_pct    0 \n",
      "Tch_Exp_Pct_0_3_Years             0 \n",
      "Tch_Exp_Pct_4_10_Years            0 \n",
      "Tch_Exp_Pct_10+_Years             0 \n",
      "Dist_Tch_Exp_Pct_0_3_Years        0 \n",
      "Dist_Tch_Exp_Pct_4_10_Years       0 \n",
      "Dist_Tch_Exp_Pct_10+_Years        0 \n",
      "Dist_Prin_Exp_Pct_0_3_Years       0 \n",
      "Dist_Prin_Exp_Pct_4_10_Years      0 \n",
      "Dist_Prin_Exp_Pct_10+_Years       0 \n",
      "ACT_Composite_Score_UNC_Min       1 \n",
      "ACT_English_Benchmark             1 \n",
      "ACT_Math_Benchmark                1 \n",
      "ACT_Pct_of_Benchmarks_Met         0 \n",
      "ACT_Reading_Benchmark             1 \n",
      "ACT_Science_Benchmark             1 \n",
      "ACT_WorkKeys_Silver_Beyond        85\n",
      "ACT_Writing_Benchmark             1 \n",
      "All_EOC_Subjects_CACR             6 \n",
      "All_EOC_Subjects_GLP              6 \n",
      "All_EOG_EOC_Subjects_CACR         6 \n",
      "All_EOG_EOC_Subjects_GLP          6 \n",
      "EOC_Biology_CACR                  9 \n",
      "EOC_Biology_GLP                   9 \n",
      "EOC_English_2_CACR                10\n",
      "EOC_English_2_GLP                 10\n",
      "EOC_Math_I_CACR                   9 \n",
      "EOC_Math_I_GLP                    9 \n",
      "Graduation_Rate4_Yr               0 \n",
      "Passing_Math_III                  1 \n",
      "dtype: int64\n",
      "##############################\n",
      "## NA Count After Cleaning  ##\n",
      "##############################\n",
      "category_cd                       0\n",
      "calendar_only_txt                 0\n",
      "title1_type_flg                   0\n",
      "clp_ind_flg                       0\n",
      "focus_clp_flg                     0\n",
      "summer_program_flg                0\n",
      "esea_status                       0\n",
      "student_num                       0\n",
      "lea_avg_student_num               0\n",
      "Grad_project_status               0\n",
      "stem_flg                          0\n",
      "Avg_Class_Size_Biology            0\n",
      "Avg_Class_Size_EnglishII          0\n",
      "Avg_Class_Size_MathI              0\n",
      "Avg_Dist_Size_Biology             0\n",
      "Avg_Dist_Size_EnglishII           0\n",
      "Avg_Dist_Size_MathI               0\n",
      "lea_total_expense_num             0\n",
      "lea_salary_expense_pct            0\n",
      "lea_benefits_expense_pct          0\n",
      "lea_services_expense_pct          0\n",
      "lea_supplies_expense_pct          0\n",
      "lea_instruct_equip_exp_pct        0\n",
      "lea_federal_perpupil_num          0\n",
      "lea_local_perpupil_num            0\n",
      "lea_state_perpupil_num            0\n",
      "SPG Grade                         0\n",
      "SPG Score                         0\n",
      "EVAAS Growth Status               0\n",
      "EVAAS Growth Score                0\n",
      "                                 ..\n",
      "lea_not_highqual_class_all_pct    0\n",
      "Tch_Exp_Pct_0_3_Years             0\n",
      "Tch_Exp_Pct_4_10_Years            0\n",
      "Tch_Exp_Pct_10+_Years             0\n",
      "Dist_Tch_Exp_Pct_0_3_Years        0\n",
      "Dist_Tch_Exp_Pct_4_10_Years       0\n",
      "Dist_Tch_Exp_Pct_10+_Years        0\n",
      "Dist_Prin_Exp_Pct_0_3_Years       0\n",
      "Dist_Prin_Exp_Pct_4_10_Years      0\n",
      "Dist_Prin_Exp_Pct_10+_Years       0\n",
      "ACT_Composite_Score_UNC_Min       0\n",
      "ACT_English_Benchmark             0\n",
      "ACT_Math_Benchmark                0\n",
      "ACT_Pct_of_Benchmarks_Met         0\n",
      "ACT_Reading_Benchmark             0\n",
      "ACT_Science_Benchmark             0\n",
      "ACT_WorkKeys_Silver_Beyond        0\n",
      "ACT_Writing_Benchmark             0\n",
      "All_EOC_Subjects_CACR             0\n",
      "All_EOC_Subjects_GLP              0\n",
      "All_EOG_EOC_Subjects_CACR         0\n",
      "All_EOG_EOC_Subjects_GLP          0\n",
      "EOC_Biology_CACR                  0\n",
      "EOC_Biology_GLP                   0\n",
      "EOC_English_2_CACR                0\n",
      "EOC_English_2_GLP                 0\n",
      "EOC_Math_I_CACR                   0\n",
      "EOC_Math_I_GLP                    0\n",
      "Graduation_Rate4_Yr               0\n",
      "Passing_Math_III                  0\n",
      "dtype: int64\n",
      "<class 'pandas.core.frame.DataFrame'>\n",
      "Int64Index: 440 entries, 116 to 2419\n",
      "Columns: 128 entries, category_cd to Passing_Math_III\n",
      "dtypes: bool(6), float64(115), object(7)\n",
      "memory usage: 425.4+ KB\n"
     ]
    }
   ],
   "source": [
    "#this function replaces NA's for columns with continous 'Con' (int or float) variables with median and categorical 'Cat' variable(bool or object) with mode\n",
    "def ReplaceMissingdata(df):\n",
    "    temp_df = df.copy() \n",
    "    print(\"#######################################\")\n",
    "    print(\"## continous and categorical columns ##\")\n",
    "    print(\"#######################################\")\n",
    "    temp  = df.select_dtypes(include=['int64','float'])    #continuous values columns\n",
    "    columnnames = temp.columns\n",
    "    temp1  = df.select_dtypes(include=['object','bool']) #categorical values columns\n",
    "    columnnames1 = temp1.columns\n",
    "    print(\" \")\n",
    "    \n",
    "    print(\"##############################\")\n",
    "    print(\"## NA count Before Cleaning ##\")\n",
    "    print(\"##############################\")\n",
    "    print(df.isnull().sum())\n",
    "    #replacing missing continous values with median\n",
    "    for i in range(0,len(columnnames)):\n",
    "        try:\n",
    "            temp_array =temp[temp[columnnames[i]]!=np.nan][columnnames[i]] #temp array of non NAs for continous values to calculate median\n",
    "            # replace NAs with median for continous variables created from above arrays\n",
    "            temp_df[columnnames[i]] =temp_df[columnnames[i]].replace(np.nan,temp_array.median())     \n",
    "        except Exception as e:\n",
    "            print(e.args) \n",
    "            \n",
    "    #replacing missing contegorical values with mode\n",
    "    for i in range(0,len(columnnames1)):\n",
    "        try:\n",
    "            temp_array1 =temp1[temp1[columnnames1[i]]!=np.nan][columnnames1[i]] #temp array of non NAs for categorical values to calculate mode\n",
    "            # replace NAs with median for categorical values created from above arrays with mode\n",
    "            temp_df[columnnames1[i]] =temp_df[columnnames1[i]].replace(np.nan,str(temp_array1.mode()[0]))      \n",
    "        except Exception as e:\n",
    "            print(e.args)\n",
    "\n",
    "    print(\"##############################\")\n",
    "    print(\"## NA Count After Cleaning  ##\")\n",
    "    print(\"##############################\")\n",
    "    print(temp_df.isnull().sum())\n",
    "    df = temp_df\n",
    "    return df\n",
    "\n",
    "HighSchools_Clean = ReplaceMissingdata(highSchools)    \n",
    "\n",
    "HighSchools_Clean.info()"
   ]
  },
  {
   "cell_type": "code",
   "execution_count": 14,
   "metadata": {
    "collapsed": false
   },
   "outputs": [
    {
     "data": {
      "text/plain": [
       "(440, 128)"
      ]
     },
     "execution_count": 14,
     "metadata": {},
     "output_type": "execute_result"
    }
   ],
   "source": [
    "HighSchools_Clean.shape"
   ]
  },
  {
   "cell_type": "markdown",
   "metadata": {},
   "source": [
    "#### Final Dataset and New Features"
   ]
  },
  {
   "cell_type": "code",
   "execution_count": 15,
   "metadata": {
    "collapsed": false
   },
   "outputs": [],
   "source": [
    "\n",
    "#################################################\n",
    "#               New Features                    #\n",
    "#################################################\n",
    "#1\n",
    "# create Factors for 'Overall Achievement Score'\n",
    "# A: 85-100\n",
    "# B: 70-84\n",
    "# C: 55-69\n",
    "# D: 40-54\n",
    "# F:<40\n",
    "new_schooldata =HighSchools_Clean.copy()\n",
    "new_schooldata = new_schooldata.assign(Overall_Achievement_Score_bins = pd.cut(np.array(new_schooldata['Overall Achievement Score']), \n",
    "                                              5, labels=[\"<40\", \"40-54\", \"55-69\",'70-84',\"85-100\"]))\n",
    "#2 \n",
    "#SchoolWeightedScore:  Summation of all achievement measures Scores.\n",
    "bin1 = ['EVAAS Growth Score','Overall Achievement Score' , 'SPG Score', 'Cohort Graduation Rate Standard Score'] # school perfomance Weight 0.6\n",
    "bin2 = ['The ACT Score' ,'Math Course Rigor Score', 'sat_avg_score_num'] # College Prep weight 0.3\n",
    "bin3 = ['Math I Score', 'English II Score','Biology Score'] # EOC scores weight 0.1\n",
    "#print(Achievement_measures)\n",
    "new_schooldata = new_schooldata.assign(BIN1=new_schooldata[bin1].sum(axis=1)*.6)\n",
    "new_schooldata = new_schooldata.assign(BIN2=new_schooldata[bin2].sum(axis=1)*.3)\n",
    "new_schooldata = new_schooldata.assign(BIN3=new_schooldata[bin3].sum(axis=1)*.1)\n",
    "groupedbins = ['BIN1','BIN2','BIN3']\n",
    "new_schooldata = new_schooldata.assign(SchoolWeightedScore = new_schooldata[groupedbins].sum(axis =1))\n",
    "\n",
    "#3 Binned Graduation_Rate4_Yr for classification. We create a new feature binary feature 'Above_NC_Graduation_Rate4_Yr'. \n",
    "# The feature will be 1 if the school has a Graduation_Rate4_Yr => 85.4% which is the NC average highschool graduation rate else 0.\n",
    "new_schooldata = new_schooldata.assign(Above_NC_AVG_Graduation_Rate4_Yr = np.where(new_schooldata['Graduation_Rate4_Yr']>=85.4, 1, 0))\n",
    "\n",
    "\n",
    "School_Final = new_schooldata.drop(groupedbins, 1)\n",
    "#School_Final.head().T\n"
   ]
  },
  {
   "cell_type": "markdown",
   "metadata": {},
   "source": [
    "> From above code, we have created three new features.\n",
    "\n",
    "> #### 1 .  Overall_Achievement_Score_bins: \n",
    "> This feature is used to group the Overall Achievement Scores into 5 different bins. The bins are selected based on  the splits from http://www.ncpublicschools.org/docs/accountability/reporting/spgbckgrndpack15.pdf\n",
    "\n",
    ">> A: 85-100,\n",
    "\n",
    ">> B: 70-84,\n",
    "\n",
    ">> C: 55-69,\n",
    "\n",
    ">> D: 40-54,\n",
    "\n",
    ">> F:<40\n",
    "\n",
    "> #### 2. SchoolWeightedScore:\n",
    "> Summation of all achievement measures Scores.'EVAAS Growth Score','Overall Achievement Score’, 'SPG Score', 'Cohort Graduation Rate Standard Score' are put on bin1 and given a weight 0.6 of the overall weighted school as they describe the overall rating of a school. 'The ACT Score’, 'sat_avg_score_num', and `Math Course Rigor Score` are put in bin 2 carrying a weight of 0.3 while bin3 contains End of Course scores for `Math I Score`, `English II Score`, and `Biology Score` given a weight 0.1.\n",
    "\n",
    "> #### 3. Above_NC_AVG_Graduation_Rate4_Yr:\n",
    "> This is categorical feature created from Graduation_Rate4_Yr in comparison to North Carolinas state average 4-year high school graduation rate. If a school's Graduation_Rate4_Yr is above 85.4% (NC State Average High School graduation rate), the school is binned as 1 else 0. We will use this feature for the classification tasks. \n",
    "\n",
    "Below we visualize these three newly created features.\n"
   ]
  },
  {
   "cell_type": "code",
   "execution_count": 16,
   "metadata": {
    "collapsed": false
   },
   "outputs": [
    {
     "data": {
      "text/plain": [
       "<matplotlib.text.Text at 0x11e130ac8>"
      ]
     },
     "execution_count": 16,
     "metadata": {},
     "output_type": "execute_result"
    },
    {
     "data": {
      "image/png": "[encoded data removed]",
      "text/plain": [
       "<matplotlib.figure.Figure at 0x11c027c18>"
      ]
     },
     "metadata": {},
     "output_type": "display_data"
    }
   ],
   "source": [
    "f, ax = plt.subplots(figsize=(10, 6))\n",
    "sns.countplot(x=\"Overall_Achievement_Score_bins\", data=new_schooldata )\n",
    "plt.title('Overall_Achievement_Score Binning')"
   ]
  },
  {
   "cell_type": "markdown",
   "metadata": {},
   "source": [
    "> majority of the schools have average overrall achievement score bin 56-69. For classification we will create dummy variable for each of this 5 bins."
   ]
  },
  {
   "cell_type": "code",
   "execution_count": 17,
   "metadata": {
    "collapsed": false
   },
   "outputs": [
    {
     "data": {
      "text/plain": [
       "<matplotlib.text.Text at 0x120846860>"
      ]
     },
     "execution_count": 17,
     "metadata": {},
     "output_type": "execute_result"
    },
    {
     "data": {
      "image/png": "[encoded data removed]",
      "text/plain": [
       "<matplotlib.figure.Figure at 0x11dd97cc0>"
      ]
     },
     "metadata": {},
     "output_type": "display_data"
    }
   ],
   "source": [
    "sns.set(font_scale=1)\n",
    "f, ax = plt.subplots(figsize=(10, 6))\n",
    "sns.distplot(new_schooldata.SchoolWeightedScore);\n",
    "plt.title('SchoolWeightedScore')"
   ]
  },
  {
   "cell_type": "code",
   "execution_count": 18,
   "metadata": {
    "collapsed": false
   },
   "outputs": [
    {
     "data": {
      "text/plain": [
       "<matplotlib.text.Text at 0x11f8e3198>"
      ]
     },
     "execution_count": 18,
     "metadata": {},
     "output_type": "execute_result"
    },
    {
     "data": {
      "image/png": "[encoded data removed]",
      "text/plain": [
       "<matplotlib.figure.Figure at 0x1208a79b0>"
      ]
     },
     "metadata": {},
     "output_type": "display_data"
    }
   ],
   "source": [
    "f, ax = plt.subplots(figsize=(10, 6))\n",
    "sns.countplot(x=\"Above_NC_AVG_Graduation_Rate4_Yr\", data=new_schooldata )\n",
    "plt.title('Above_NC_AVG_Graduation_Rate4_Yr')"
   ]
  },
  {
   "cell_type": "code",
   "execution_count": 19,
   "metadata": {
    "collapsed": false
   },
   "outputs": [
    {
     "data": {
      "text/html": [
       "<div>\n",
       "<table border=\"1\" class=\"dataframe\">\n",
       "  <thead>\n",
       "    <tr style=\"text-align: right;\">\n",
       "      <th></th>\n",
       "      <th>category_cd</th>\n",
       "      <th>calendar_only_txt</th>\n",
       "      <th>title1_type_flg</th>\n",
       "      <th>clp_ind_flg</th>\n",
       "      <th>focus_clp_flg</th>\n",
       "      <th>summer_program_flg</th>\n",
       "      <th>esea_status</th>\n",
       "      <th>student_num</th>\n",
       "      <th>lea_avg_student_num</th>\n",
       "      <th>Grad_project_status</th>\n",
       "      <th>...</th>\n",
       "      <th>EOC_Biology_GLP</th>\n",
       "      <th>EOC_English_2_CACR</th>\n",
       "      <th>EOC_English_2_GLP</th>\n",
       "      <th>EOC_Math_I_CACR</th>\n",
       "      <th>EOC_Math_I_GLP</th>\n",
       "      <th>Graduation_Rate4_Yr</th>\n",
       "      <th>Passing_Math_III</th>\n",
       "      <th>Overall_Achievement_Score_bins</th>\n",
       "      <th>SchoolWeightedScore</th>\n",
       "      <th>Above_NC_AVG_Graduation_Rate4_Yr</th>\n",
       "    </tr>\n",
       "  </thead>\n",
       "  <tbody>\n",
       "    <tr>\n",
       "      <th>116</th>\n",
       "      <td>H</td>\n",
       "      <td>Traditional Calendar</td>\n",
       "      <td>False</td>\n",
       "      <td>False</td>\n",
       "      <td>False</td>\n",
       "      <td>False</td>\n",
       "      <td>Non_Esea</td>\n",
       "      <td>311.0</td>\n",
       "      <td>947.0</td>\n",
       "      <td>True</td>\n",
       "      <td>...</td>\n",
       "      <td>90.4</td>\n",
       "      <td>93.8</td>\n",
       "      <td>100.0</td>\n",
       "      <td>80.3</td>\n",
       "      <td>90.8</td>\n",
       "      <td>100.0</td>\n",
       "      <td>100.0</td>\n",
       "      <td>85-100</td>\n",
       "      <td>639.16</td>\n",
       "      <td>1</td>\n",
       "    </tr>\n",
       "    <tr>\n",
       "      <th>122</th>\n",
       "      <td>H</td>\n",
       "      <td>Traditional Calendar</td>\n",
       "      <td>False</td>\n",
       "      <td>False</td>\n",
       "      <td>False</td>\n",
       "      <td>False</td>\n",
       "      <td>Non_Esea</td>\n",
       "      <td>1033.0</td>\n",
       "      <td>947.0</td>\n",
       "      <td>True</td>\n",
       "      <td>...</td>\n",
       "      <td>59.4</td>\n",
       "      <td>38.3</td>\n",
       "      <td>48.7</td>\n",
       "      <td>29.0</td>\n",
       "      <td>43.9</td>\n",
       "      <td>79.4</td>\n",
       "      <td>100.0</td>\n",
       "      <td>40-54</td>\n",
       "      <td>502.66</td>\n",
       "      <td>0</td>\n",
       "    </tr>\n",
       "    <tr>\n",
       "      <th>124</th>\n",
       "      <td>H</td>\n",
       "      <td>Traditional Calendar</td>\n",
       "      <td>False</td>\n",
       "      <td>False</td>\n",
       "      <td>False</td>\n",
       "      <td>False</td>\n",
       "      <td>Non_Esea</td>\n",
       "      <td>1096.0</td>\n",
       "      <td>947.0</td>\n",
       "      <td>True</td>\n",
       "      <td>...</td>\n",
       "      <td>58.8</td>\n",
       "      <td>50.5</td>\n",
       "      <td>61.4</td>\n",
       "      <td>41.9</td>\n",
       "      <td>55.1</td>\n",
       "      <td>84.0</td>\n",
       "      <td>100.0</td>\n",
       "      <td>55-69</td>\n",
       "      <td>566.24</td>\n",
       "      <td>0</td>\n",
       "    </tr>\n",
       "    <tr>\n",
       "      <th>132</th>\n",
       "      <td>H</td>\n",
       "      <td>Traditional Calendar</td>\n",
       "      <td>False</td>\n",
       "      <td>False</td>\n",
       "      <td>False</td>\n",
       "      <td>False</td>\n",
       "      <td>Non_Esea</td>\n",
       "      <td>1346.0</td>\n",
       "      <td>947.0</td>\n",
       "      <td>True</td>\n",
       "      <td>...</td>\n",
       "      <td>66.9</td>\n",
       "      <td>50.8</td>\n",
       "      <td>58.5</td>\n",
       "      <td>44.1</td>\n",
       "      <td>59.8</td>\n",
       "      <td>88.2</td>\n",
       "      <td>100.0</td>\n",
       "      <td>55-69</td>\n",
       "      <td>546.14</td>\n",
       "      <td>1</td>\n",
       "    </tr>\n",
       "    <tr>\n",
       "      <th>134</th>\n",
       "      <td>H</td>\n",
       "      <td>Traditional Calendar</td>\n",
       "      <td>False</td>\n",
       "      <td>False</td>\n",
       "      <td>False</td>\n",
       "      <td>False</td>\n",
       "      <td>Non_Esea</td>\n",
       "      <td>1279.0</td>\n",
       "      <td>779.0</td>\n",
       "      <td>True</td>\n",
       "      <td>...</td>\n",
       "      <td>62.3</td>\n",
       "      <td>63.7</td>\n",
       "      <td>69.4</td>\n",
       "      <td>46.4</td>\n",
       "      <td>61.2</td>\n",
       "      <td>92.8</td>\n",
       "      <td>100.0</td>\n",
       "      <td>70-84</td>\n",
       "      <td>583.86</td>\n",
       "      <td>1</td>\n",
       "    </tr>\n",
       "  </tbody>\n",
       "</table>\n",
       "<p>5 rows × 131 columns</p>\n",
       "</div>"
      ],
      "text/plain": [
       "    category_cd     calendar_only_txt title1_type_flg clp_ind_flg  \\\n",
       "116  H           Traditional Calendar  False           False        \n",
       "122  H           Traditional Calendar  False           False        \n",
       "124  H           Traditional Calendar  False           False        \n",
       "132  H           Traditional Calendar  False           False        \n",
       "134  H           Traditional Calendar  False           False        \n",
       "\n",
       "    focus_clp_flg summer_program_flg esea_status  student_num  \\\n",
       "116  False         False              Non_Esea    311.0         \n",
       "122  False         False              Non_Esea    1033.0        \n",
       "124  False         False              Non_Esea    1096.0        \n",
       "132  False         False              Non_Esea    1346.0        \n",
       "134  False         False              Non_Esea    1279.0        \n",
       "\n",
       "     lea_avg_student_num Grad_project_status  \\\n",
       "116  947.0                True                 \n",
       "122  947.0                True                 \n",
       "124  947.0                True                 \n",
       "132  947.0                True                 \n",
       "134  779.0                True                 \n",
       "\n",
       "                   ...                EOC_Biology_GLP  EOC_English_2_CACR  \\\n",
       "116                ...                 90.4            93.8                 \n",
       "122                ...                 59.4            38.3                 \n",
       "124                ...                 58.8            50.5                 \n",
       "132                ...                 66.9            50.8                 \n",
       "134                ...                 62.3            63.7                 \n",
       "\n",
       "     EOC_English_2_GLP  EOC_Math_I_CACR  EOC_Math_I_GLP  Graduation_Rate4_Yr  \\\n",
       "116  100.0              80.3             90.8            100.0                 \n",
       "122  48.7               29.0             43.9            79.4                  \n",
       "124  61.4               41.9             55.1            84.0                  \n",
       "132  58.5               44.1             59.8            88.2                  \n",
       "134  69.4               46.4             61.2            92.8                  \n",
       "\n",
       "     Passing_Math_III  Overall_Achievement_Score_bins  SchoolWeightedScore  \\\n",
       "116  100.0             85-100                          639.16                \n",
       "122  100.0             40-54                           502.66                \n",
       "124  100.0             55-69                           566.24                \n",
       "132  100.0             55-69                           546.14                \n",
       "134  100.0             70-84                           583.86                \n",
       "\n",
       "     Above_NC_AVG_Graduation_Rate4_Yr  \n",
       "116  1                                 \n",
       "122  0                                 \n",
       "124  0                                 \n",
       "132  1                                 \n",
       "134  1                                 \n",
       "\n",
       "[5 rows x 131 columns]"
      ]
     },
     "execution_count": 19,
     "metadata": {},
     "output_type": "execute_result"
    }
   ],
   "source": [
    "modelingdata=School_Final.copy()\n",
    "modelingdata.head()"
   ]
  },
  {
   "cell_type": "markdown",
   "metadata": {},
   "source": [
    ">The code block below is derived from taken from Dr. Drews notebook on. We use correlation to eliminate features with more than 0.95 correlation."
   ]
  },
  {
   "cell_type": "code",
   "execution_count": 20,
   "metadata": {
    "collapsed": false
   },
   "outputs": [
    {
     "name": "stdout",
     "output_type": "stream",
     "text": [
      "(440, 117)\n",
      "CPU times: user 442 ms, sys: 49.4 ms, total: 492 ms\n",
      "Wall time: 493 ms\n"
     ]
    },
    {
     "data": {
      "image/png": "[encoded data removed]",
      "text/plain": [
       "<matplotlib.figure.Figure at 0x11de54da0>"
      ]
     },
     "metadata": {},
     "output_type": "display_data"
    }
   ],
   "source": [
    "%%time\n",
    "import seaborn as sns\n",
    "%matplotlib inline\n",
    "temp = modelingdata.select_dtypes(include=['int','float']) # select int to run corr on\n",
    "print(temp.shape)\n",
    "\n",
    "# calculate the correlation matrix\n",
    "corr_matrix  = temp.corr()#.abs()\n",
    "\n",
    "# Select upper triangle of correlation matrix\n",
    "upper = corr_matrix.where(np.triu(np.ones(corr_matrix.shape), k=1).astype(np.bool))\n",
    "\n",
    "# Find index of feature columns with correlation greater than 0.95\n",
    "to_drop = [column for column in upper.columns if any(upper[column] > 0.95)]\n",
    "\n",
    "fig, ax = plt.subplots(figsize=(60,60))\n",
    "sns.set(font_scale=7)\n",
    "sns.heatmap(upper[to_drop], \n",
    "            xticklabels=upper[to_drop].columns.values,\n",
    "            yticklabels=upper[to_drop].columns.values,linewidths=.5, ax=ax)\n"
   ]
  },
  {
   "cell_type": "code",
   "execution_count": 21,
   "metadata": {
    "collapsed": false
   },
   "outputs": [
    {
     "data": {
      "text/plain": [
       "['Overall Achievement Score',\n",
       " 'One_Yr_College_Complete_wi_2_yrs_Enrolled_2012',\n",
       " 'class_teach_num',\n",
       " 'lea_class_teach_num',\n",
       " 'ACT_English_Benchmark',\n",
       " 'ACT_Pct_of_Benchmarks_Met',\n",
       " 'ACT_Reading_Benchmark',\n",
       " 'ACT_Science_Benchmark',\n",
       " 'All_EOC_Subjects_GLP',\n",
       " 'All_EOG_EOC_Subjects_CACR',\n",
       " 'All_EOG_EOC_Subjects_GLP',\n",
       " 'EOC_Biology_GLP',\n",
       " 'EOC_English_2_GLP',\n",
       " 'EOC_Math_I_GLP']"
      ]
     },
     "execution_count": 21,
     "metadata": {},
     "output_type": "execute_result"
    }
   ],
   "source": [
    "# Columns with greater than 0.95 correlations to drop\n",
    "to_drop"
   ]
  },
  {
   "cell_type": "code",
   "execution_count": 24,
   "metadata": {
    "collapsed": false
   },
   "outputs": [
    {
     "name": "stdout",
     "output_type": "stream",
     "text": [
      "Before Drop\n",
      "(440, 131)\n",
      "After Drop\n"
     ]
    },
    {
     "data": {
      "text/plain": [
       "(440, 117)"
      ]
     },
     "execution_count": 24,
     "metadata": {},
     "output_type": "execute_result"
    }
   ],
   "source": [
    "#Restore fontscale back to normal after heatmap\n",
    "sns.set(font_scale=1)\n",
    "# Drop the highly correlated features from our training data \n",
    "print('Before Drop')\n",
    "print(modelingdata.shape)\n",
    "print('After Drop')\n",
    "modelingdata = modelingdata.drop(to_drop, axis=1)\n",
    "modelingdata.shape"
   ]
  },
  {
   "cell_type": "markdown",
   "metadata": {},
   "source": [
    "> using correlation, we eliminate 14 features. Our final dataset ready for modeling has 440 records and 117 features."
   ]
  },
  {
   "cell_type": "markdown",
   "metadata": {},
   "source": [
    " ### Modeling and Evaluation (70 points total)\n",
    " \n",
    " • [10 points] Choose and explain your evaluation metrics that you will use (i.e., accuracy, precision, recall, F-measure, or any metric we have discussed). Why are the measure(s) appropriate for analyzing the results of your modeling? Give a detailed explanation backing up any assertions.\n",
    " \n",
    " "
   ]
  },
  {
   "cell_type": "code",
   "execution_count": null,
   "metadata": {
    "collapsed": true
   },
   "outputs": [],
   "source": []
  },
  {
   "cell_type": "markdown",
   "metadata": {},
   "source": [
    "• [10 points] Choose the method you will use for dividing your data into training and testing splits (i.e., are you using Stratiﬁed 10-fold cross validation? Why?). Explain why your chosen method is appropriate or use more than one method as appropriate.\n",
    " \n",
    " "
   ]
  },
  {
   "cell_type": "markdown",
   "metadata": {},
   "source": [
    "### Creation of  a Test and training Sets"
   ]
  },
  {
   "cell_type": "code",
   "execution_count": 26,
   "metadata": {
    "collapsed": true
   },
   "outputs": [],
   "source": [
    "# select a seed to use for repeatability\n",
    "seed = 100"
   ]
  },
  {
   "cell_type": "markdown",
   "metadata": {},
   "source": [
    "#### Regression"
   ]
  },
  {
   "cell_type": "code",
   "execution_count": 29,
   "metadata": {
    "collapsed": false
   },
   "outputs": [
    {
     "data": {
      "text/plain": [
       "StratifiedKFold(n_splits=10, random_state=100, shuffle=False)"
      ]
     },
     "execution_count": 29,
     "metadata": {},
     "output_type": "execute_result"
    }
   ],
   "source": [
    "\n",
    "Regression_cv = StratifiedKFold(n_splits = 10, random_state = seed)\n",
    "Regression_cv"
   ]
  },
  {
   "cell_type": "code",
   "execution_count": null,
   "metadata": {
    "collapsed": true
   },
   "outputs": [],
   "source": [
    "# need to write some stuff here"
   ]
  },
  {
   "cell_type": "markdown",
   "metadata": {},
   "source": [
    "#### Classification "
   ]
  },
  {
   "cell_type": "code",
   "execution_count": 30,
   "metadata": {
    "collapsed": false
   },
   "outputs": [
    {
     "data": {
      "text/plain": [
       "StratifiedKFold(n_splits=10, random_state=100, shuffle=False)"
      ]
     },
     "execution_count": 30,
     "metadata": {},
     "output_type": "execute_result"
    }
   ],
   "source": [
    "Classification_cv = StratifiedKFold(n_splits = 10, random_state = seed)\n",
    "Classification_cv"
   ]
  },
  {
   "cell_type": "code",
   "execution_count": null,
   "metadata": {
    "collapsed": true
   },
   "outputs": [],
   "source": [
    "# need to write some stuff here"
   ]
  },
  {
   "cell_type": "markdown",
   "metadata": {},
   "source": [
    "• [20 points] Create three different classiﬁcation/regression models (e.g., random forest, KNN, and SVM). Two modeling techniques must be new (but the third could be SVM or logistic regression). Adjust parameters as appropriate to increase generalization performance using your chosen metric.  \n",
    " \n"
   ]
  },
  {
   "cell_type": "markdown",
   "metadata": {},
   "source": [
    "#### Regression"
   ]
  },
  {
   "cell_type": "code",
   "execution_count": null,
   "metadata": {
    "collapsed": true
   },
   "outputs": [],
   "source": [
    "# create X (Exploratory) and y (response) variable"
   ]
  },
  {
   "cell_type": "code",
   "execution_count": 32,
   "metadata": {
    "collapsed": false
   },
   "outputs": [
    {
     "name": "stdout",
     "output_type": "stream",
     "text": [
      "X shape before \n",
      "(440, 117)\n",
      "X shape after \n",
      "(440, 115)\n",
      "Y shape after \n",
      "(440,)\n",
      "Wall time: 3.01 ms\n"
     ]
    }
   ],
   "source": [
    "%%time\n",
    "#Create data = x\n",
    "Reg_X = modelingdata.copy()\n",
    "#create target = Y\n",
    "Reg_y = Reg_X.Graduation_Rate4_Yr\n",
    "print('X shape before ')\n",
    "print(Reg_X.shape)\n",
    "#drop the response column from the x dataset\n",
    "Reg_X.pop('Graduation_Rate4_Yr') #drop 'Graduation_Rate4_Yr'\n",
    "Reg_X.pop('Above_NC_AVG_Graduation_Rate4_Yr') # drop High_Graduation_Rate4_Yr'\n",
    "print('X shape after ')\n",
    "print(Reg_X.shape)\n",
    "print('Y shape after ')\n",
    "print(Reg_y.shape)"
   ]
  },
  {
   "cell_type": "code",
   "execution_count": null,
   "metadata": {
    "collapsed": true
   },
   "outputs": [],
   "source": []
  },
  {
   "cell_type": "code",
   "execution_count": null,
   "metadata": {
    "collapsed": true
   },
   "outputs": [],
   "source": []
  },
  {
   "cell_type": "code",
   "execution_count": null,
   "metadata": {
    "collapsed": true
   },
   "outputs": [],
   "source": []
  },
  {
   "cell_type": "markdown",
   "metadata": {},
   "source": [
    "#### Classification "
   ]
  },
  {
   "cell_type": "code",
   "execution_count": null,
   "metadata": {
    "collapsed": true
   },
   "outputs": [],
   "source": [
    "# create X (Exploratory) and y (response) variable"
   ]
  },
  {
   "cell_type": "code",
   "execution_count": 145,
   "metadata": {
    "collapsed": false
   },
   "outputs": [
    {
     "name": "stdout",
     "output_type": "stream",
     "text": [
      "X shape before \n",
      "(440, 117)\n",
      "X shape after \n",
      "(440, 115)\n",
      "Y shape after \n",
      "(440,)\n",
      "Wall time: 3 ms\n"
     ]
    }
   ],
   "source": [
    "%%time\n",
    "#Create data = x\n",
    "Cls_X = modelingdata.copy()\n",
    "#create target = Y\n",
    "Cls_y = Cls_X.Above_NC_AVG_Graduation_Rate4_Yr\n",
    "print('X shape before ')\n",
    "print(Cls_X.shape)\n",
    "#drop the response column from the x dataset\n",
    "Cls_X.pop('Graduation_Rate4_Yr') #drop 'Graduation_Rate4_Yr'\n",
    "Cls_X.pop('Above_NC_AVG_Graduation_Rate4_Yr') # drop High_Graduation_Rate4_Yr'\n",
    "print('X shape after ')\n",
    "print(Cls_X.shape)\n",
    "print('Y shape after ')\n",
    "print(Cls_y.shape)"
   ]
  },
  {
   "cell_type": "code",
   "execution_count": 146,
   "metadata": {
    "collapsed": false
   },
   "outputs": [
    {
     "name": "stdout",
     "output_type": "stream",
     "text": [
      "Index(['category_cd', 'calendar_only_txt', 'title1_type_flg', 'clp_ind_flg',\n",
      "       'focus_clp_flg', 'summer_program_flg', 'esea_status',\n",
      "       'Grad_project_status', 'stem_flg', 'SPG Grade', 'EVAAS Growth Status',\n",
      "       'Byod', '1_to_1_access', 'Overall_Achievement_Score_bins'],\n",
      "      dtype='object')\n",
      "['Above_NC_AVG_Graduation_Rate4_Yr']\n",
      "Wall time: 121 ms\n"
     ]
    }
   ],
   "source": [
    "%%time\n",
    "def dummy_Create(df):\n",
    "    schoolDataFinal = df.copy()\n",
    "    SchoolDataCat = schoolDataFinal.loc[:,(schoolDataFinal.dtypes == object) |(schoolDataFinal.dtypes == 'category')|(schoolDataFinal.dtypes == bool)]\n",
    "    \n",
    "    \n",
    "    print(SchoolDataCat.columns)\n",
    "    cat_vars=SchoolDataCat.columns\n",
    "    for var in cat_vars:\n",
    "        cat_list='var'+'_'+var\n",
    "        cat_list = pd.get_dummies(schoolDataFinal[var], prefix=var)\n",
    "        df=pd.concat([df,cat_list], axis=1)\n",
    "    data=df\n",
    "    cat_vars=SchoolDataCat.columns\n",
    "    data_vars=data.columns.values.tolist()\n",
    "    \n",
    "    to_keep=[i for i in data_vars if i not in cat_vars]\n",
    "\n",
    "    ## Final data columns\n",
    "    data_final=data[to_keep]\n",
    "    data_final.columns.values\n",
    "    data_final_vars=data_final.columns.values.tolist()\n",
    "    #return(SchoolDataCat)\n",
    "    y=['Above_NC_AVG_Graduation_Rate4_Yr']\n",
    "    X=[i for i in data_final_vars if i not in y]\n",
    " \n",
    "    list(data_final_vars)\n",
    "    print(y)\n",
    "    #print(X)\n",
    "    SchoolDataCat.describe().T\n",
    "    return(data_final.abs())\n",
    "    \n",
    "Cls_X = dummy_Create(Cls_X)\n"
   ]
  },
  {
   "cell_type": "markdown",
   "metadata": {},
   "source": [
    "#### Random Forest model with 10 fold cross validation"
   ]
  },
  {
   "cell_type": "code",
   "execution_count": 147,
   "metadata": {
    "collapsed": false
   },
   "outputs": [
    {
     "name": "stdout",
     "output_type": "stream",
     "text": [
      "[ 0.8         0.75        0.75        0.84090909  0.90909091  0.86363636\n",
      "  0.86363636  0.63636364  0.86363636  0.8372093 ]\n",
      "0.81144820296\n"
     ]
    }
   ],
   "source": [
    "from sklearn.ensemble import RandomForestClassifier\n",
    "title = ['Run1','Run2','Run3','Run4','Run5','Run6','Run7','Run8','Run9','Run10', 'AVG']\n",
    "rf_clf = RandomForestClassifier(n_jobs=2, random_state=seed)\n",
    "acc = cross_val_score(rf_clf, Cls_X, Cls_y, cv=Classification_cv.split(Cls_X, Cls_y)) \n",
    "\n",
    "print(acc)\n",
    "print(acc.mean())"
   ]
  },
  {
   "cell_type": "markdown",
   "metadata": {},
   "source": [
    "#### Logistic Regression model with 10 fold cross validation"
   ]
  },
  {
   "cell_type": "code",
   "execution_count": 153,
   "metadata": {
    "collapsed": false
   },
   "outputs": [
    {
     "name": "stdout",
     "output_type": "stream",
     "text": [
      "#############################################\n",
      "Logistic Regression Model Accuracy vs Cost   \n",
      "#############################################\n"
     ]
    },
    {
     "data": {
      "text/html": [
       "<div>\n",
       "<style>\n",
       "    .dataframe thead tr:only-child th {\n",
       "        text-align: right;\n",
       "    }\n",
       "\n",
       "    .dataframe thead th {\n",
       "        text-align: left;\n",
       "    }\n",
       "\n",
       "    .dataframe tbody tr th {\n",
       "        vertical-align: top;\n",
       "    }\n",
       "</style>\n",
       "<table border=\"1\" class=\"dataframe\">\n",
       "  <thead>\n",
       "    <tr style=\"text-align: right;\">\n",
       "      <th></th>\n",
       "      <th>Run1</th>\n",
       "      <th>Run2</th>\n",
       "      <th>Run3</th>\n",
       "      <th>Run4</th>\n",
       "      <th>Run5</th>\n",
       "      <th>Run6</th>\n",
       "      <th>Run7</th>\n",
       "      <th>Run8</th>\n",
       "      <th>Run9</th>\n",
       "      <th>Run10</th>\n",
       "      <th>AVG_Acc</th>\n",
       "      <th>Cost</th>\n",
       "    </tr>\n",
       "  </thead>\n",
       "  <tbody>\n",
       "    <tr>\n",
       "      <th>0</th>\n",
       "      <td>0.777778</td>\n",
       "      <td>0.772727</td>\n",
       "      <td>0.727273</td>\n",
       "      <td>0.863636</td>\n",
       "      <td>0.795455</td>\n",
       "      <td>0.886364</td>\n",
       "      <td>0.886364</td>\n",
       "      <td>0.659091</td>\n",
       "      <td>0.863636</td>\n",
       "      <td>0.883721</td>\n",
       "      <td>0.811604</td>\n",
       "      <td>0.01</td>\n",
       "    </tr>\n",
       "    <tr>\n",
       "      <th>1</th>\n",
       "      <td>0.777778</td>\n",
       "      <td>0.772727</td>\n",
       "      <td>0.727273</td>\n",
       "      <td>0.840909</td>\n",
       "      <td>0.840909</td>\n",
       "      <td>0.909091</td>\n",
       "      <td>0.863636</td>\n",
       "      <td>0.636364</td>\n",
       "      <td>0.886364</td>\n",
       "      <td>0.883721</td>\n",
       "      <td>0.813877</td>\n",
       "      <td>0.05</td>\n",
       "    </tr>\n",
       "    <tr>\n",
       "      <th>2</th>\n",
       "      <td>0.755556</td>\n",
       "      <td>0.772727</td>\n",
       "      <td>0.704545</td>\n",
       "      <td>0.840909</td>\n",
       "      <td>0.840909</td>\n",
       "      <td>0.909091</td>\n",
       "      <td>0.863636</td>\n",
       "      <td>0.636364</td>\n",
       "      <td>0.886364</td>\n",
       "      <td>0.883721</td>\n",
       "      <td>0.809382</td>\n",
       "      <td>0.10</td>\n",
       "    </tr>\n",
       "    <tr>\n",
       "      <th>3</th>\n",
       "      <td>0.755556</td>\n",
       "      <td>0.772727</td>\n",
       "      <td>0.704545</td>\n",
       "      <td>0.840909</td>\n",
       "      <td>0.840909</td>\n",
       "      <td>0.909091</td>\n",
       "      <td>0.840909</td>\n",
       "      <td>0.590909</td>\n",
       "      <td>0.886364</td>\n",
       "      <td>0.860465</td>\n",
       "      <td>0.800238</td>\n",
       "      <td>0.50</td>\n",
       "    </tr>\n",
       "    <tr>\n",
       "      <th>4</th>\n",
       "      <td>0.755556</td>\n",
       "      <td>0.750000</td>\n",
       "      <td>0.750000</td>\n",
       "      <td>0.840909</td>\n",
       "      <td>0.840909</td>\n",
       "      <td>0.909091</td>\n",
       "      <td>0.818182</td>\n",
       "      <td>0.636364</td>\n",
       "      <td>0.886364</td>\n",
       "      <td>0.860465</td>\n",
       "      <td>0.804784</td>\n",
       "      <td>1.00</td>\n",
       "    </tr>\n",
       "    <tr>\n",
       "      <th>5</th>\n",
       "      <td>0.755556</td>\n",
       "      <td>0.750000</td>\n",
       "      <td>0.727273</td>\n",
       "      <td>0.772727</td>\n",
       "      <td>0.840909</td>\n",
       "      <td>0.909091</td>\n",
       "      <td>0.840909</td>\n",
       "      <td>0.568182</td>\n",
       "      <td>0.886364</td>\n",
       "      <td>0.883721</td>\n",
       "      <td>0.793473</td>\n",
       "      <td>5.00</td>\n",
       "    </tr>\n",
       "    <tr>\n",
       "      <th>6</th>\n",
       "      <td>0.755556</td>\n",
       "      <td>0.772727</td>\n",
       "      <td>0.750000</td>\n",
       "      <td>0.863636</td>\n",
       "      <td>0.818182</td>\n",
       "      <td>0.909091</td>\n",
       "      <td>0.840909</td>\n",
       "      <td>0.636364</td>\n",
       "      <td>0.886364</td>\n",
       "      <td>0.860465</td>\n",
       "      <td>0.809329</td>\n",
       "      <td>10.00</td>\n",
       "    </tr>\n",
       "  </tbody>\n",
       "</table>\n",
       "</div>"
      ],
      "text/plain": [
       "       Run1      Run2      Run3      Run4      Run5      Run6      Run7  \\\n",
       "0  0.777778  0.772727  0.727273  0.863636  0.795455  0.886364  0.886364   \n",
       "1  0.777778  0.772727  0.727273  0.840909  0.840909  0.909091  0.863636   \n",
       "2  0.755556  0.772727  0.704545  0.840909  0.840909  0.909091  0.863636   \n",
       "3  0.755556  0.772727  0.704545  0.840909  0.840909  0.909091  0.840909   \n",
       "4  0.755556  0.750000  0.750000  0.840909  0.840909  0.909091  0.818182   \n",
       "5  0.755556  0.750000  0.727273  0.772727  0.840909  0.909091  0.840909   \n",
       "6  0.755556  0.772727  0.750000  0.863636  0.818182  0.909091  0.840909   \n",
       "\n",
       "       Run8      Run9     Run10   AVG_Acc   Cost  \n",
       "0  0.659091  0.863636  0.883721  0.811604  0.01   \n",
       "1  0.636364  0.886364  0.883721  0.813877  0.05   \n",
       "2  0.636364  0.886364  0.883721  0.809382  0.10   \n",
       "3  0.590909  0.886364  0.860465  0.800238  0.50   \n",
       "4  0.636364  0.886364  0.860465  0.804784  1.00   \n",
       "5  0.568182  0.886364  0.883721  0.793473  5.00   \n",
       "6  0.636364  0.886364  0.860465  0.809329  10.00  "
      ]
     },
     "metadata": {},
     "output_type": "display_data"
    },
    {
     "name": "stdout",
     "output_type": "stream",
     "text": [
      "#############################################\n",
      "Logistic Regression Model Accuracy vs Penalty   \n",
      "#############################################\n"
     ]
    },
    {
     "data": {
      "text/html": [
       "<div>\n",
       "<style>\n",
       "    .dataframe thead tr:only-child th {\n",
       "        text-align: right;\n",
       "    }\n",
       "\n",
       "    .dataframe thead th {\n",
       "        text-align: left;\n",
       "    }\n",
       "\n",
       "    .dataframe tbody tr th {\n",
       "        vertical-align: top;\n",
       "    }\n",
       "</style>\n",
       "<table border=\"1\" class=\"dataframe\">\n",
       "  <thead>\n",
       "    <tr style=\"text-align: right;\">\n",
       "      <th></th>\n",
       "      <th>Run1</th>\n",
       "      <th>Run2</th>\n",
       "      <th>Run3</th>\n",
       "      <th>Run4</th>\n",
       "      <th>Run5</th>\n",
       "      <th>Run6</th>\n",
       "      <th>Run7</th>\n",
       "      <th>Run8</th>\n",
       "      <th>Run9</th>\n",
       "      <th>Run10</th>\n",
       "      <th>AVG_Acc</th>\n",
       "      <th>Penalty</th>\n",
       "    </tr>\n",
       "  </thead>\n",
       "  <tbody>\n",
       "    <tr>\n",
       "      <th>0</th>\n",
       "      <td>0.755556</td>\n",
       "      <td>0.863636</td>\n",
       "      <td>0.727273</td>\n",
       "      <td>0.931818</td>\n",
       "      <td>0.840909</td>\n",
       "      <td>0.909091</td>\n",
       "      <td>0.863636</td>\n",
       "      <td>0.636364</td>\n",
       "      <td>0.863636</td>\n",
       "      <td>0.883721</td>\n",
       "      <td>0.827564</td>\n",
       "      <td>l1</td>\n",
       "    </tr>\n",
       "    <tr>\n",
       "      <th>1</th>\n",
       "      <td>0.777778</td>\n",
       "      <td>0.772727</td>\n",
       "      <td>0.727273</td>\n",
       "      <td>0.840909</td>\n",
       "      <td>0.840909</td>\n",
       "      <td>0.909091</td>\n",
       "      <td>0.863636</td>\n",
       "      <td>0.636364</td>\n",
       "      <td>0.886364</td>\n",
       "      <td>0.883721</td>\n",
       "      <td>0.813877</td>\n",
       "      <td>l2</td>\n",
       "    </tr>\n",
       "  </tbody>\n",
       "</table>\n",
       "</div>"
      ],
      "text/plain": [
       "       Run1      Run2      Run3      Run4      Run5      Run6      Run7  \\\n",
       "0  0.755556  0.863636  0.727273  0.931818  0.840909  0.909091  0.863636   \n",
       "1  0.777778  0.772727  0.727273  0.840909  0.840909  0.909091  0.863636   \n",
       "\n",
       "       Run8      Run9     Run10   AVG_Acc Penalty  \n",
       "0  0.636364  0.863636  0.883721  0.827564  l1      \n",
       "1  0.636364  0.886364  0.883721  0.813877  l2      "
      ]
     },
     "metadata": {},
     "output_type": "display_data"
    },
    {
     "name": "stdout",
     "output_type": "stream",
     "text": [
      "##################################################################\n",
      "Logistic Regression Model Accuracy vs Penalty and Cost Combination\n",
      "##################################################################\n"
     ]
    },
    {
     "data": {
      "text/html": [
       "<div>\n",
       "<style>\n",
       "    .dataframe thead tr:only-child th {\n",
       "        text-align: right;\n",
       "    }\n",
       "\n",
       "    .dataframe thead th {\n",
       "        text-align: left;\n",
       "    }\n",
       "\n",
       "    .dataframe tbody tr th {\n",
       "        vertical-align: top;\n",
       "    }\n",
       "</style>\n",
       "<table border=\"1\" class=\"dataframe\">\n",
       "  <thead>\n",
       "    <tr style=\"text-align: right;\">\n",
       "      <th></th>\n",
       "      <th>Run1</th>\n",
       "      <th>Run2</th>\n",
       "      <th>Run3</th>\n",
       "      <th>Run4</th>\n",
       "      <th>Run5</th>\n",
       "      <th>Run6</th>\n",
       "      <th>Run7</th>\n",
       "      <th>Run8</th>\n",
       "      <th>Run9</th>\n",
       "      <th>Run10</th>\n",
       "      <th>AVG_Acc</th>\n",
       "      <th>Penalty</th>\n",
       "      <th>Cost</th>\n",
       "    </tr>\n",
       "  </thead>\n",
       "  <tbody>\n",
       "    <tr>\n",
       "      <th>0</th>\n",
       "      <td>0.755556</td>\n",
       "      <td>0.886364</td>\n",
       "      <td>0.75</td>\n",
       "      <td>0.931818</td>\n",
       "      <td>0.840909</td>\n",
       "      <td>0.909091</td>\n",
       "      <td>0.863636</td>\n",
       "      <td>0.659091</td>\n",
       "      <td>0.886364</td>\n",
       "      <td>0.906977</td>\n",
       "      <td>0.838981</td>\n",
       "      <td>0.01</td>\n",
       "      <td>l1</td>\n",
       "    </tr>\n",
       "    <tr>\n",
       "      <th>1</th>\n",
       "      <td>0.777778</td>\n",
       "      <td>0.772727</td>\n",
       "      <td>0.727273</td>\n",
       "      <td>0.863636</td>\n",
       "      <td>0.795455</td>\n",
       "      <td>0.886364</td>\n",
       "      <td>0.886364</td>\n",
       "      <td>0.659091</td>\n",
       "      <td>0.863636</td>\n",
       "      <td>0.883721</td>\n",
       "      <td>0.811604</td>\n",
       "      <td>0.01</td>\n",
       "      <td>l2</td>\n",
       "    </tr>\n",
       "    <tr>\n",
       "      <th>2</th>\n",
       "      <td>0.755556</td>\n",
       "      <td>0.863636</td>\n",
       "      <td>0.727273</td>\n",
       "      <td>0.931818</td>\n",
       "      <td>0.840909</td>\n",
       "      <td>0.909091</td>\n",
       "      <td>0.863636</td>\n",
       "      <td>0.636364</td>\n",
       "      <td>0.863636</td>\n",
       "      <td>0.883721</td>\n",
       "      <td>0.827564</td>\n",
       "      <td>0.05</td>\n",
       "      <td>l1</td>\n",
       "    </tr>\n",
       "    <tr>\n",
       "      <th>3</th>\n",
       "      <td>0.777778</td>\n",
       "      <td>0.772727</td>\n",
       "      <td>0.727273</td>\n",
       "      <td>0.840909</td>\n",
       "      <td>0.840909</td>\n",
       "      <td>0.909091</td>\n",
       "      <td>0.863636</td>\n",
       "      <td>0.636364</td>\n",
       "      <td>0.886364</td>\n",
       "      <td>0.883721</td>\n",
       "      <td>0.813877</td>\n",
       "      <td>0.05</td>\n",
       "      <td>l2</td>\n",
       "    </tr>\n",
       "    <tr>\n",
       "      <th>4</th>\n",
       "      <td>0.755556</td>\n",
       "      <td>0.818182</td>\n",
       "      <td>0.704545</td>\n",
       "      <td>0.863636</td>\n",
       "      <td>0.795455</td>\n",
       "      <td>0.909091</td>\n",
       "      <td>0.886364</td>\n",
       "      <td>0.636364</td>\n",
       "      <td>0.863636</td>\n",
       "      <td>0.906977</td>\n",
       "      <td>0.813981</td>\n",
       "      <td>0.1</td>\n",
       "      <td>l1</td>\n",
       "    </tr>\n",
       "    <tr>\n",
       "      <th>5</th>\n",
       "      <td>0.755556</td>\n",
       "      <td>0.772727</td>\n",
       "      <td>0.704545</td>\n",
       "      <td>0.840909</td>\n",
       "      <td>0.840909</td>\n",
       "      <td>0.909091</td>\n",
       "      <td>0.863636</td>\n",
       "      <td>0.636364</td>\n",
       "      <td>0.886364</td>\n",
       "      <td>0.883721</td>\n",
       "      <td>0.809382</td>\n",
       "      <td>0.1</td>\n",
       "      <td>l2</td>\n",
       "    </tr>\n",
       "    <tr>\n",
       "      <th>6</th>\n",
       "      <td>0.777778</td>\n",
       "      <td>0.818182</td>\n",
       "      <td>0.75</td>\n",
       "      <td>0.840909</td>\n",
       "      <td>0.840909</td>\n",
       "      <td>0.909091</td>\n",
       "      <td>0.863636</td>\n",
       "      <td>0.590909</td>\n",
       "      <td>0.886364</td>\n",
       "      <td>0.883721</td>\n",
       "      <td>0.81615</td>\n",
       "      <td>0.5</td>\n",
       "      <td>l1</td>\n",
       "    </tr>\n",
       "    <tr>\n",
       "      <th>7</th>\n",
       "      <td>0.755556</td>\n",
       "      <td>0.772727</td>\n",
       "      <td>0.704545</td>\n",
       "      <td>0.840909</td>\n",
       "      <td>0.840909</td>\n",
       "      <td>0.909091</td>\n",
       "      <td>0.840909</td>\n",
       "      <td>0.590909</td>\n",
       "      <td>0.886364</td>\n",
       "      <td>0.860465</td>\n",
       "      <td>0.800238</td>\n",
       "      <td>0.5</td>\n",
       "      <td>l2</td>\n",
       "    </tr>\n",
       "    <tr>\n",
       "      <th>8</th>\n",
       "      <td>0.755556</td>\n",
       "      <td>0.772727</td>\n",
       "      <td>0.727273</td>\n",
       "      <td>0.795455</td>\n",
       "      <td>0.863636</td>\n",
       "      <td>0.909091</td>\n",
       "      <td>0.863636</td>\n",
       "      <td>0.590909</td>\n",
       "      <td>0.886364</td>\n",
       "      <td>0.883721</td>\n",
       "      <td>0.804837</td>\n",
       "      <td>1.0</td>\n",
       "      <td>l1</td>\n",
       "    </tr>\n",
       "    <tr>\n",
       "      <th>9</th>\n",
       "      <td>0.755556</td>\n",
       "      <td>0.75</td>\n",
       "      <td>0.75</td>\n",
       "      <td>0.840909</td>\n",
       "      <td>0.840909</td>\n",
       "      <td>0.909091</td>\n",
       "      <td>0.818182</td>\n",
       "      <td>0.636364</td>\n",
       "      <td>0.886364</td>\n",
       "      <td>0.860465</td>\n",
       "      <td>0.804784</td>\n",
       "      <td>1.0</td>\n",
       "      <td>l2</td>\n",
       "    </tr>\n",
       "    <tr>\n",
       "      <th>10</th>\n",
       "      <td>0.755556</td>\n",
       "      <td>0.681818</td>\n",
       "      <td>0.704545</td>\n",
       "      <td>0.795455</td>\n",
       "      <td>0.795455</td>\n",
       "      <td>0.886364</td>\n",
       "      <td>0.840909</td>\n",
       "      <td>0.545455</td>\n",
       "      <td>0.795455</td>\n",
       "      <td>0.860465</td>\n",
       "      <td>0.766148</td>\n",
       "      <td>5.0</td>\n",
       "      <td>l1</td>\n",
       "    </tr>\n",
       "    <tr>\n",
       "      <th>11</th>\n",
       "      <td>0.755556</td>\n",
       "      <td>0.75</td>\n",
       "      <td>0.727273</td>\n",
       "      <td>0.772727</td>\n",
       "      <td>0.840909</td>\n",
       "      <td>0.909091</td>\n",
       "      <td>0.840909</td>\n",
       "      <td>0.568182</td>\n",
       "      <td>0.886364</td>\n",
       "      <td>0.883721</td>\n",
       "      <td>0.793473</td>\n",
       "      <td>5.0</td>\n",
       "      <td>l2</td>\n",
       "    </tr>\n",
       "    <tr>\n",
       "      <th>12</th>\n",
       "      <td>0.777778</td>\n",
       "      <td>0.681818</td>\n",
       "      <td>0.704545</td>\n",
       "      <td>0.818182</td>\n",
       "      <td>0.772727</td>\n",
       "      <td>0.886364</td>\n",
       "      <td>0.863636</td>\n",
       "      <td>0.590909</td>\n",
       "      <td>0.795455</td>\n",
       "      <td>0.860465</td>\n",
       "      <td>0.775188</td>\n",
       "      <td>10.0</td>\n",
       "      <td>l1</td>\n",
       "    </tr>\n",
       "    <tr>\n",
       "      <th>13</th>\n",
       "      <td>0.755556</td>\n",
       "      <td>0.772727</td>\n",
       "      <td>0.75</td>\n",
       "      <td>0.863636</td>\n",
       "      <td>0.818182</td>\n",
       "      <td>0.909091</td>\n",
       "      <td>0.840909</td>\n",
       "      <td>0.636364</td>\n",
       "      <td>0.886364</td>\n",
       "      <td>0.860465</td>\n",
       "      <td>0.809329</td>\n",
       "      <td>10.0</td>\n",
       "      <td>l2</td>\n",
       "    </tr>\n",
       "  </tbody>\n",
       "</table>\n",
       "</div>"
      ],
      "text/plain": [
       "        Run1      Run2      Run3      Run4      Run5      Run6      Run7  \\\n",
       "0   0.755556  0.886364  0.75      0.931818  0.840909  0.909091  0.863636   \n",
       "1   0.777778  0.772727  0.727273  0.863636  0.795455  0.886364  0.886364   \n",
       "2   0.755556  0.863636  0.727273  0.931818  0.840909  0.909091  0.863636   \n",
       "3   0.777778  0.772727  0.727273  0.840909  0.840909  0.909091  0.863636   \n",
       "4   0.755556  0.818182  0.704545  0.863636  0.795455  0.909091  0.886364   \n",
       "5   0.755556  0.772727  0.704545  0.840909  0.840909  0.909091  0.863636   \n",
       "6   0.777778  0.818182  0.75      0.840909  0.840909  0.909091  0.863636   \n",
       "7   0.755556  0.772727  0.704545  0.840909  0.840909  0.909091  0.840909   \n",
       "8   0.755556  0.772727  0.727273  0.795455  0.863636  0.909091  0.863636   \n",
       "9   0.755556  0.75      0.75      0.840909  0.840909  0.909091  0.818182   \n",
       "10  0.755556  0.681818  0.704545  0.795455  0.795455  0.886364  0.840909   \n",
       "11  0.755556  0.75      0.727273  0.772727  0.840909  0.909091  0.840909   \n",
       "12  0.777778  0.681818  0.704545  0.818182  0.772727  0.886364  0.863636   \n",
       "13  0.755556  0.772727  0.75      0.863636  0.818182  0.909091  0.840909   \n",
       "\n",
       "        Run8      Run9     Run10   AVG_Acc Penalty Cost  \n",
       "0   0.659091  0.886364  0.906977  0.838981  0.01    l1   \n",
       "1   0.659091  0.863636  0.883721  0.811604  0.01    l2   \n",
       "2   0.636364  0.863636  0.883721  0.827564  0.05    l1   \n",
       "3   0.636364  0.886364  0.883721  0.813877  0.05    l2   \n",
       "4   0.636364  0.863636  0.906977  0.813981  0.1     l1   \n",
       "5   0.636364  0.886364  0.883721  0.809382  0.1     l2   \n",
       "6   0.590909  0.886364  0.883721  0.81615   0.5     l1   \n",
       "7   0.590909  0.886364  0.860465  0.800238  0.5     l2   \n",
       "8   0.590909  0.886364  0.883721  0.804837  1.0     l1   \n",
       "9   0.636364  0.886364  0.860465  0.804784  1.0     l2   \n",
       "10  0.545455  0.795455  0.860465  0.766148  5.0     l1   \n",
       "11  0.568182  0.886364  0.883721  0.793473  5.0     l2   \n",
       "12  0.590909  0.795455  0.860465  0.775188  10.0    l1   \n",
       "13  0.636364  0.886364  0.860465  0.809329  10.0    l2   "
      ]
     },
     "metadata": {},
     "output_type": "display_data"
    }
   ],
   "source": [
    "# titles to be used for column names for our summary tables\n",
    "title = ['Run1','Run2','Run3','Run4','Run5','Run6','Run7','Run8','Run9','Run10', 'AVG_Acc', 'Cost']\n",
    "title3 = ['Run1','Run2','Run3','Run4','Run5','Run6','Run7','Run8','Run9','Run10', 'AVG_Acc', 'Penalty']\n",
    "title4 = ['Run1','Run2','Run3','Run4','Run5','Run6','Run7','Run8','Run9','Run10', 'AVG_Acc', 'Penalty', 'Cost']\n",
    "title2 = [1,2,3,4,5,6,7,8,9,10, 'AVG_Acc', 'Cost']\n",
    "#Logistic Regression Paramaters to manipulate to increase generalization\n",
    "penalty = ['l1', 'l2']\n",
    "cost = [0.01, 0.05, 0.1, 0.5, 1, 5, 10]\n",
    "i = 0\n",
    "LR_list = []\n",
    "\n",
    "print('#############################################')\n",
    "print('Logistic Regression Model Accuracy vs Cost   ')\n",
    "print('#############################################')\n",
    "\n",
    "#For loop to evaluate accuracy for the different costs\n",
    "for i in cost:\n",
    "    lr_clf = LogisticRegression(C=i,class_weight=None, random_state=seed)\n",
    "\n",
    "    acc = cross_val_score(lr_clf, Cls_X, Cls_y, cv=Classification_cv.split(Cls_X, Cls_y))\n",
    "    acc = np.append(acc,acc.mean())\n",
    "    acc = np.round(np.append(acc,i), 6)\n",
    "    #print(acc)\n",
    "    #print(acc.mean())\n",
    "    #LR_list.append(title)\n",
    "    LR_list.append(list(acc))\n",
    "\n",
    "LR_list = pd.DataFrame(LR_list)\n",
    "LR_list.columns = title\n",
    "display(LR_list)\n",
    "LR_list.columns = title2\n",
    "LR_list_T =pd.melt(LR_list, id_vars=['Cost'], value_vars=[1,2,3,4,5,6,7,8,9,10])\n",
    "LR_list_T.columns = ['Cost', 'Run', 'Accuracy']\n",
    "\n",
    "#For loop to evaluate accuracy for the different penalty\n",
    "print('#############################################')\n",
    "print('Logistic Regression Model Accuracy vs Penalty   ')\n",
    "print('#############################################')\n",
    "#LR_list_T\n",
    "LR_list2 = []\n",
    "for i in penalty:\n",
    "    lr_clf = LogisticRegression(penalty=i, C = 0.05, class_weight=None, random_state=seed)\n",
    "\n",
    "    acc = cross_val_score(lr_clf, Cls_X, Cls_y, cv=Classification_cv.split(Cls_X, Cls_y))\n",
    "    acc = np.round(np.append(acc, acc.mean()),6)\n",
    "    acc = np.append(acc,i)\n",
    "    #print(acc)\n",
    "    #print(acc.mean())\n",
    "    #LR_list.append(title)\n",
    "    LR_list2.append(list(acc))\n",
    "\n",
    "LR_list2 = pd.DataFrame(LR_list2)\n",
    "LR_list2.columns = title3\n",
    "display(LR_list2)\n",
    "\n",
    "#For loop to evaluate accuracy for the different penalty\n",
    "print('##################################################################')\n",
    "print('Logistic Regression Model Accuracy vs Penalty and Cost Combination')\n",
    "print('##################################################################')\n",
    "LR_list3 = []\n",
    "for i in cost:\n",
    "    for j in penalty:\n",
    "        lr_clf = LogisticRegression(penalty=j, C = i, class_weight=None, random_state=seed)\n",
    "\n",
    "        acc = cross_val_score(lr_clf, Cls_X, Cls_y, cv=Classification_cv.split(Cls_X, Cls_y))\n",
    "        acc = np.round(np.append(acc, acc.mean()),6)\n",
    "        acc = np.append(acc,i)\n",
    "        acc = np.append(acc,j)\n",
    "        #print(acc)\n",
    "        #print(acc.mean())\n",
    "        #LR_list.append(title)\n",
    "        LR_list3.append(list(acc))\n",
    "\n",
    "LR_list3 = pd.DataFrame(LR_list3)\n",
    "LR_list3.columns = title4\n",
    "display(LR_list3)\n",
    "\n"
   ]
  },
  {
   "cell_type": "code",
   "execution_count": 152,
   "metadata": {
    "collapsed": false
   },
   "outputs": [
    {
     "data": {
      "text/html": [
       "<div>\n",
       "<style>\n",
       "    .dataframe thead tr:only-child th {\n",
       "        text-align: right;\n",
       "    }\n",
       "\n",
       "    .dataframe thead th {\n",
       "        text-align: left;\n",
       "    }\n",
       "\n",
       "    .dataframe tbody tr th {\n",
       "        vertical-align: top;\n",
       "    }\n",
       "</style>\n",
       "<table border=\"1\" class=\"dataframe\">\n",
       "  <thead>\n",
       "    <tr style=\"text-align: right;\">\n",
       "      <th></th>\n",
       "    </tr>\n",
       "  </thead>\n",
       "  <tbody>\n",
       "  </tbody>\n",
       "</table>\n",
       "</div>"
      ],
      "text/plain": [
       "Empty DataFrame\n",
       "Columns: []\n",
       "Index: []"
      ]
     },
     "execution_count": 152,
     "metadata": {},
     "output_type": "execute_result"
    }
   ],
   "source": [
    "LR_list3"
   ]
  },
  {
   "cell_type": "markdown",
   "metadata": {},
   "source": [
    "> ### Cost"
   ]
  },
  {
   "cell_type": "markdown",
   "metadata": {},
   "source": [
    "> ### Penalty\n",
    "https://www.aaai.org/Papers/AAAI/2006/AAAI06-064.pdf\n",
    "http://www.chioka.in/differences-between-l1-and-l2-as-loss-function-and-regularization/"
   ]
  },
  {
   "cell_type": "code",
   "execution_count": 149,
   "metadata": {
    "collapsed": false
   },
   "outputs": [
    {
     "data": {
      "text/plain": [
       "<matplotlib.text.Text at 0x1b819d83ac8>"
      ]
     },
     "execution_count": 149,
     "metadata": {},
     "output_type": "execute_result"
    },
    {
     "data": {
      "image/png": "[encoded data removed]",
      "text/plain": [
       "<matplotlib.figure.Figure at 0x1b819e27ba8>"
      ]
     },
     "metadata": {},
     "output_type": "display_data"
    }
   ],
   "source": [
    "#Visualize\n",
    "#sns.set()\n",
    "f, ax = plt.subplots(figsize=(15, 8))\n",
    "plt.ylim(.53, .95)\n",
    "ax = sns.tsplot(time=\"Run\", value=\"Accuracy\", unit =\"Cost\", condition=\"Cost\", data=LR_list_T)\n",
    "plt.title('Logistic regression accuracy by cost')\n",
    "#plt.show()"
   ]
  },
  {
   "cell_type": "markdown",
   "metadata": {},
   "source": [
    "#### KNN model with 10 fold cross validation"
   ]
  },
  {
   "cell_type": "code",
   "execution_count": 56,
   "metadata": {
    "collapsed": false
   },
   "outputs": [
    {
     "name": "stdout",
     "output_type": "stream",
     "text": [
      "[ 0.64444444  0.70454545  0.84090909  0.65909091  0.77272727  0.79545455\n",
      "  0.63636364  0.56818182  0.75        0.76744186]\n",
      "0.713915903218\n"
     ]
    }
   ],
   "source": [
    "knn_clf = KNeighborsClassifier()\n",
    "acc = cross_val_score(knn_clf, Cls_X, Cls_y, cv=Classification_cv.split(Cls_X, Cls_y)) \n",
    "print(acc)\n",
    "print(acc.mean())"
   ]
  },
  {
   "cell_type": "markdown",
   "metadata": {},
   "source": [
    " • [10 points] Analyze the results using your chosen method of evaluation. Use visualizations of the results to bolster the analysis. Explain any visuals and analyze why they are interesting to someone that might use this model. \n",
    " \n",
    " "
   ]
  },
  {
   "cell_type": "code",
   "execution_count": null,
   "metadata": {
    "collapsed": true
   },
   "outputs": [],
   "source": []
  },
  {
   "cell_type": "markdown",
   "metadata": {},
   "source": [
    "• [10 points] Discuss the advantages of each model for each classiﬁcation task, if any. If there are not advantages, explain why. Is any model better than another? Is the difference signiﬁcant with 95% conﬁdence? Use proper statistical comparison methods. \n",
    " \n"
   ]
  },
  {
   "cell_type": "code",
   "execution_count": null,
   "metadata": {
    "collapsed": true
   },
   "outputs": [],
   "source": []
  },
  {
   "cell_type": "markdown",
   "metadata": {},
   "source": [
    " • [10 points] Which attributes from your analysis are most important? Use proper methods discussed in class to evaluate the importance of different attributes. Discuss the results and hypothesize about why certain attributes are more important than others for a given classiﬁcation task. "
   ]
  },
  {
   "cell_type": "code",
   "execution_count": null,
   "metadata": {
    "collapsed": true
   },
   "outputs": [],
   "source": []
  },
  {
   "cell_type": "markdown",
   "metadata": {},
   "source": [
    "###  Deployment (5 points total) "
   ]
  },
  {
   "cell_type": "markdown",
   "metadata": {},
   "source": [
    "• [5 points] How useful is your model for interested parties (i.e., the companies or organizations that might want to use it for prediction)? How would you measure the model's value if it was used by these parties? How would your deploy your model for interested parties? What other data should be collected? How often would the model need to be updated, etc.? "
   ]
  },
  {
   "cell_type": "code",
   "execution_count": null,
   "metadata": {
    "collapsed": true
   },
   "outputs": [],
   "source": []
  },
  {
   "cell_type": "markdown",
   "metadata": {},
   "source": [
    "###  Exceptional Work (10 points total)  "
   ]
  },
  {
   "cell_type": "markdown",
   "metadata": {},
   "source": [
    "• You have free reign to provide additional modeling. \n",
    "\n",
    "• One idea: grid search parameters in a parallelized fashion and visualize the performances across attributes. Which parameters are most signiﬁcant for making a good model for each classiﬁcation algorithm?"
   ]
  },
  {
   "cell_type": "code",
   "execution_count": null,
   "metadata": {
    "collapsed": true
   },
   "outputs": [],
   "source": []
  }
 ],
 "metadata": {
  "anaconda-cloud": {},
  "kernelspec": {
   "display_name": "Python 3",
   "language": "python",
   "name": "python3"
  },
  "language_info": {
   "codemirror_mode": {
    "name": "ipython",
    "version": 3
   },
   "file_extension": ".py",
   "mimetype": "text/x-python",
   "name": "python",
   "nbconvert_exporter": "python",
   "pygments_lexer": "ipython3",
   "version": "3.6.0"
  }
 },
 "nbformat": 4,
 "nbformat_minor": 2
}
