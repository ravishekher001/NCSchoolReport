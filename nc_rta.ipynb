{
 "cells": [
  {
   "cell_type": "markdown",
   "metadata": {},
   "source": [
    "## Data overview\n",
    "* **Ready to Achieve (RTA)**: Contains 2014-2016 school, district, and state outcome metrics for GCE_ALL, GCE_LEP, GCE_PRM, GCE_RPF, GCE_SWD, PASSED_EOG, PASSED_LAA, PASSED_RTA, PROMOTED, RETAINED [8].  "
   ]
  },
  {
   "cell_type": "code",
   "execution_count": 2,
   "metadata": {
    "collapsed": false
   },
   "outputs": [
    {
     "data": {
      "text/plain": [
       "(47220, 13)"
      ]
     },
     "execution_count": 2,
     "metadata": {},
     "output_type": "execute_result"
    }
   ],
   "source": [
    "import pandas as pd\n",
    "\n",
    "# Read in the School Profile data\n",
    "nc_rta = pd.ExcelFile('data/RTA.xlsx')\n",
    "\n",
    "# type(nc_profile) returns: pandas.io.excel.ExcelFile\n",
    "# print the sheets in the Excel file\n",
    "# print(nc_ready_act.sheet_names)\n",
    "\n",
    "# Import sheets from Excel files as data frames.\n",
    "nc_rta = nc_rta.parse('RTA')\n",
    "nc_rta.shape"
   ]
  },
  {
   "cell_type": "code",
   "execution_count": 3,
   "metadata": {
    "collapsed": false
   },
   "outputs": [
    {
     "data": {
      "text/plain": [
       "Index(['metrics', 'year', 'unit_code', 'Lea_Name', 'School_Name', 'State_Name',\n",
       "       'category_cd', 'pct', 'num', 'lea_num', 'lea_pct', 'st_num', 'st_pct'],\n",
       "      dtype='object')"
      ]
     },
     "execution_count": 3,
     "metadata": {},
     "output_type": "execute_result"
    }
   ],
   "source": [
    "nc_rta.columns"
   ]
  },
  {
   "cell_type": "code",
   "execution_count": 4,
   "metadata": {
    "collapsed": false
   },
   "outputs": [
    {
     "name": "stdout",
     "output_type": "stream",
     "text": [
      "<class 'pandas.core.frame.DataFrame'>\n",
      "RangeIndex: 47220 entries, 0 to 47219\n",
      "Data columns (total 13 columns):\n",
      "metrics        47220 non-null object\n",
      "year           47220 non-null int64\n",
      "unit_code      47220 non-null object\n",
      "Lea_Name       47190 non-null object\n",
      "School_Name    43740 non-null object\n",
      "State_Name     47220 non-null object\n",
      "category_cd    43710 non-null object\n",
      "pct            20127 non-null float64\n",
      "num            19040 non-null float64\n",
      "lea_num        25030 non-null float64\n",
      "lea_pct        25406 non-null float64\n",
      "st_num         28332 non-null float64\n",
      "st_pct         28332 non-null float64\n",
      "dtypes: float64(6), int64(1), object(6)\n",
      "memory usage: 4.7+ MB\n"
     ]
    }
   ],
   "source": [
    "nc_rta.info()"
   ]
  }
 ],
 "metadata": {
  "kernelspec": {
   "display_name": "Python 3",
   "language": "python",
   "name": "python3"
  },
  "language_info": {
   "codemirror_mode": {
    "name": "ipython",
    "version": 3
   },
   "file_extension": ".py",
   "mimetype": "text/x-python",
   "name": "python",
   "nbconvert_exporter": "python",
   "pygments_lexer": "ipython3",
   "version": "3.6.0"
  }
 },
 "nbformat": 4,
 "nbformat_minor": 2
}
