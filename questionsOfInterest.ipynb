{
 "cells": [
  {
   "cell_type": "markdown",
   "metadata": {},
   "source": [
    "# Questions of interest"
   ]
  },
  {
   "cell_type": "markdown",
   "metadata": {},
   "source": [
    "## What is the average funding accross school levels ?"
   ]
  },
  {
   "cell_type": "markdown",
   "metadata": {},
   "source": [
    "Get the count of number of schools at school level, lea level and state level\n",
    "We may need to create sub dataframes which will hold school level, lea level and state level data.\n",
    "Within each of the school level, what are the counts of 6 categories of schools.\n",
    "So, you are grouping by school level and categories and calcuating statistics on some numeric variable, eg. Funding, Graduation rates.\n",
    "\n",
    "What influences graduation rates ? In order to answer that, we need to first get an idea of how to get the counts and basic statistics at each of the levels."
   ]
  },
  {
   "cell_type": "markdown",
   "metadata": {},
   "source": [
    "Notes: \n",
    "There are 3 levels \n",
    "- school level\n",
    "- LEA level (district level)\n",
    "- state level\n",
    "\n",
    "There are 6 categories\n",
    "* **E**: School has elementary schools(PK-5)\n",
    "* **M**: School has middle school grades(6-8)\n",
    "* **H**: School has high school grades(9-13)\n",
    "* **I**: School has elementary and middle school grades\n",
    "* **T**: School has middle and high school grades\n",
    "* **A**: School has elementary, middle and high school grades"
   ]
  },
  {
   "cell_type": "markdown",
   "metadata": {},
   "source": [
    "### Data cleaning tasks\n",
    "- There are some column names which have spaces. These need to be fixed.\n",
    "- Create a new column which will determine if a record is school, lea or state. Doing this will help in grouping/filtering data at each of the three levels: school, lea and state.\n",
    "\n",
    "### Preparing data for analysis\n",
    "- Object types can be converted to type category, as this will be useful when we move to analysis. Storing categorical data as `categories` also reduces memory footprint."
   ]
  },
  {
   "cell_type": "markdown",
   "metadata": {},
   "source": [
    "## Columns with not enough data\n",
    "- School_Name\n",
    "- State_Name"
   ]
  }
 ],
 "metadata": {
  "kernelspec": {
   "display_name": "Python 3",
   "language": "python",
   "name": "python3"
  },
  "language_info": {
   "codemirror_mode": {
    "name": "ipython",
    "version": 3
   },
   "file_extension": ".py",
   "mimetype": "text/x-python",
   "name": "python",
   "nbconvert_exporter": "python",
   "pygments_lexer": "ipython3",
   "version": "3.6.0"
  }
 },
 "nbformat": 4,
 "nbformat_minor": 2
}
