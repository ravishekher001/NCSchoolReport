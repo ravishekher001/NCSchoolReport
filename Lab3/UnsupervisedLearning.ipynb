{
 "cells": [
  {
   "cell_type": "markdown",
   "metadata": {},
   "source": [
    "## Unsupervised Learning notes"
   ]
  },
  {
   "cell_type": "markdown",
   "metadata": {},
   "source": [
    "### What is Unsupervised Learning ?\n",
    "The goal of `Unsupervised Learning` is to find structure in unlabeled data. Unlabeled data is data without a target, i.e without labeled responses. With unsupervised learning, there are two major goals:\n",
    "- To find `homogeneous sub-groups` within larger group. For example, amoung high schools (larger group) find schools which are similar to each other. The process of finding homogeneous sub-groups is known as `Clustering`. \n",
    "- To find `patterns` in the features of the data. One way to do this is using `Dimensionality reduction`. Dimensionality reduction is a method to decrease the number of features to describe an observation while maintaining the maximum information content under the constraint of lower dimensionality. Dimensionality reduction is often used for two goals (in addition to finding patters in the data):\n",
    "    - It allows one to visually represent high dimension data, by maintaining much of the data variablity.\n",
    "    - The other goal of dimensionality reduction is as a pre-processing step for Supervised Learning.\n",
    "\n",
    "### Challenges and benefits\n",
    "In Unsupervised learning there is often no single goal of the analysis. This can be like, someone asking the analyst to `find some patterns in the data`. With this challenge, Unsupervised learning requires deep creativity of the analyst. \n",
    "The benefits are that there is much more unlabeled data, than there is labeled data, this means there are more opportunities to apply Unsupervised learning in the world."
   ]
  },
  {
   "cell_type": "markdown",
   "metadata": {},
   "source": []
  }
 ],
 "metadata": {
  "kernelspec": {
   "display_name": "R",
   "language": "R",
   "name": "ir"
  },
  "language_info": {
   "codemirror_mode": "r",
   "file_extension": ".r",
   "mimetype": "text/x-r-source",
   "name": "R",
   "pygments_lexer": "r",
   "version": "3.4.3"
  }
 },
 "nbformat": 4,
 "nbformat_minor": 2
}
