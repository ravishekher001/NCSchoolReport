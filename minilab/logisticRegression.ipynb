{
 "cells": [
  {
   "cell_type": "code",
   "execution_count": 1,
   "metadata": {
    "collapsed": false
   },
   "outputs": [
    {
     "name": "stderr",
     "output_type": "stream",
     "text": [
      "/Users/Shravan/anaconda/lib/python3.6/site-packages/sklearn/cross_validation.py:44: DeprecationWarning: This module was deprecated in version 0.18 in favor of the model_selection module into which all the refactored classes and functions are moved. Also note that the interface of the new CV iterators are different from that of this module. This module will be removed in 0.20.\n",
      "  \"This module will be removed in 0.20.\", DeprecationWarning)\n"
     ]
    }
   ],
   "source": [
    "#ignore warnings\n",
    "import warnings\n",
    "warnings.filterwarnings(\"ignore\")\n",
    "\n",
    "#import required Libraries\n",
    "import pandas as pd\n",
    "import numpy as np\n",
    "\n",
    "import os \n",
    "pd.set_option('display.max_colwidth', -1)\n",
    "import requests\n",
    "import io\n",
    "\n",
    "# Import the stats library\n",
    "from scipy import stats\n",
    "\n",
    "import statsmodels.api as sm\n",
    "\n",
    "# These are the plotting libraries we'll use:\n",
    "import matplotlib as mpl\n",
    "import matplotlib.pyplot as plt\n",
    "import matplotlib.mlab as mlab\n",
    "plt.style.use(\"classic\")\n",
    "import seaborn as sns\n",
    "\n",
    "#Machine learning\n",
    "from sklearn import linear_model\n",
    "from sklearn.cross_validation import train_test_split\n",
    "from sklearn.metrics import mean_squared_error, r2_score\n",
    "from sklearn.metrics import accuracy_score\n",
    "\n",
    "\n",
    "# Command for plots to appear in the iPython Notebook\n",
    "%matplotlib inline"
   ]
  },
  {
   "cell_type": "code",
   "execution_count": 7,
   "metadata": {
    "collapsed": true
   },
   "outputs": [],
   "source": [
    "modelingdata = pd.read_csv('modelingdata_sk.csv')"
   ]
  },
  {
   "cell_type": "code",
   "execution_count": 8,
   "metadata": {
    "collapsed": false
   },
   "outputs": [
    {
     "data": {
      "text/plain": [
       "(2579, 268)"
      ]
     },
     "execution_count": 8,
     "metadata": {},
     "output_type": "execute_result"
    }
   ],
   "source": [
    "modelingdata.shape"
   ]
  },
  {
   "cell_type": "code",
   "execution_count": 9,
   "metadata": {
    "collapsed": false
   },
   "outputs": [
    {
     "data": {
      "text/html": [
       "<div>\n",
       "<table border=\"1\" class=\"dataframe\">\n",
       "  <thead>\n",
       "    <tr style=\"text-align: right;\">\n",
       "      <th></th>\n",
       "      <th>avg_age_media_collection</th>\n",
       "      <th>Read Score</th>\n",
       "      <th>Avg_State_Size_EnglishII</th>\n",
       "      <th>lea_cte_courses</th>\n",
       "      <th>szip_ad</th>\n",
       "      <th>st_wap_num</th>\n",
       "      <th>sat_participation_pct</th>\n",
       "      <th>st_total_specialized_courses</th>\n",
       "      <th>Avg_Dist_Size_04</th>\n",
       "      <th>st_supplies_expense_pct</th>\n",
       "      <th>...</th>\n",
       "      <th>New_ind_Txt</th>\n",
       "      <th>st_avg_daily_attend_pct</th>\n",
       "      <th>lea_benefits_expense_pct</th>\n",
       "      <th>advance_dgr_pct</th>\n",
       "      <th>Avg_State_Size_00</th>\n",
       "      <th>English II Score</th>\n",
       "      <th>Avg_Class_Size_01</th>\n",
       "      <th>st_not_highqual_class_lp_pct</th>\n",
       "      <th>Overall_Achievement_Score_bins</th>\n",
       "      <th>SchoolWeightedScore</th>\n",
       "    </tr>\n",
       "  </thead>\n",
       "  <tbody>\n",
       "    <tr>\n",
       "      <th>0</th>\n",
       "      <td>2000.0</td>\n",
       "      <td>56.0</td>\n",
       "      <td>18.0</td>\n",
       "      <td>0.700774</td>\n",
       "      <td>28115</td>\n",
       "      <td>111757</td>\n",
       "      <td>0.92</td>\n",
       "      <td>0.964635</td>\n",
       "      <td>21.0</td>\n",
       "      <td>0.075</td>\n",
       "      <td>...</td>\n",
       "      <td>School Is Not New</td>\n",
       "      <td>0.958</td>\n",
       "      <td>0.210</td>\n",
       "      <td>0.268</td>\n",
       "      <td>19.0</td>\n",
       "      <td>60.0</td>\n",
       "      <td>18.0</td>\n",
       "      <td>0.024</td>\n",
       "      <td>55-69</td>\n",
       "      <td>173.07</td>\n",
       "    </tr>\n",
       "    <tr>\n",
       "      <th>1</th>\n",
       "      <td>2000.0</td>\n",
       "      <td>56.0</td>\n",
       "      <td>18.0</td>\n",
       "      <td>0.700774</td>\n",
       "      <td>27560</td>\n",
       "      <td>111757</td>\n",
       "      <td>0.45</td>\n",
       "      <td>0.964635</td>\n",
       "      <td>21.0</td>\n",
       "      <td>0.075</td>\n",
       "      <td>...</td>\n",
       "      <td>School Is Not New</td>\n",
       "      <td>0.957</td>\n",
       "      <td>0.210</td>\n",
       "      <td>0.268</td>\n",
       "      <td>19.0</td>\n",
       "      <td>60.0</td>\n",
       "      <td>19.0</td>\n",
       "      <td>0.024</td>\n",
       "      <td>55-69</td>\n",
       "      <td>173.07</td>\n",
       "    </tr>\n",
       "    <tr>\n",
       "      <th>2</th>\n",
       "      <td>2000.0</td>\n",
       "      <td>56.0</td>\n",
       "      <td>18.0</td>\n",
       "      <td>0.700774</td>\n",
       "      <td>27253</td>\n",
       "      <td>111757</td>\n",
       "      <td>0.43</td>\n",
       "      <td>0.964635</td>\n",
       "      <td>21.0</td>\n",
       "      <td>0.075</td>\n",
       "      <td>...</td>\n",
       "      <td>School Is Not New</td>\n",
       "      <td>0.951</td>\n",
       "      <td>0.212</td>\n",
       "      <td>0.143</td>\n",
       "      <td>19.0</td>\n",
       "      <td>60.0</td>\n",
       "      <td>19.0</td>\n",
       "      <td>0.024</td>\n",
       "      <td>55-69</td>\n",
       "      <td>173.07</td>\n",
       "    </tr>\n",
       "    <tr>\n",
       "      <th>3</th>\n",
       "      <td>2001.0</td>\n",
       "      <td>56.0</td>\n",
       "      <td>18.0</td>\n",
       "      <td>0.700774</td>\n",
       "      <td>27253</td>\n",
       "      <td>111757</td>\n",
       "      <td>0.45</td>\n",
       "      <td>0.964635</td>\n",
       "      <td>21.0</td>\n",
       "      <td>0.075</td>\n",
       "      <td>...</td>\n",
       "      <td>School Is Not New</td>\n",
       "      <td>0.952</td>\n",
       "      <td>0.212</td>\n",
       "      <td>0.194</td>\n",
       "      <td>19.0</td>\n",
       "      <td>60.0</td>\n",
       "      <td>19.0</td>\n",
       "      <td>0.024</td>\n",
       "      <td>55-69</td>\n",
       "      <td>173.07</td>\n",
       "    </tr>\n",
       "    <tr>\n",
       "      <th>4</th>\n",
       "      <td>2000.0</td>\n",
       "      <td>56.0</td>\n",
       "      <td>18.0</td>\n",
       "      <td>0.700774</td>\n",
       "      <td>27244</td>\n",
       "      <td>111757</td>\n",
       "      <td>0.45</td>\n",
       "      <td>0.964635</td>\n",
       "      <td>21.0</td>\n",
       "      <td>0.075</td>\n",
       "      <td>...</td>\n",
       "      <td>School Is Not New</td>\n",
       "      <td>0.952</td>\n",
       "      <td>0.212</td>\n",
       "      <td>0.529</td>\n",
       "      <td>19.0</td>\n",
       "      <td>60.0</td>\n",
       "      <td>18.0</td>\n",
       "      <td>0.024</td>\n",
       "      <td>55-69</td>\n",
       "      <td>173.07</td>\n",
       "    </tr>\n",
       "  </tbody>\n",
       "</table>\n",
       "<p>5 rows × 268 columns</p>\n",
       "</div>"
      ],
      "text/plain": [
       "   avg_age_media_collection  Read Score  Avg_State_Size_EnglishII  \\\n",
       "0  2000.0                    56.0        18.0                       \n",
       "1  2000.0                    56.0        18.0                       \n",
       "2  2000.0                    56.0        18.0                       \n",
       "3  2001.0                    56.0        18.0                       \n",
       "4  2000.0                    56.0        18.0                       \n",
       "\n",
       "   lea_cte_courses  szip_ad  st_wap_num  sat_participation_pct  \\\n",
       "0  0.700774         28115    111757      0.92                    \n",
       "1  0.700774         27560    111757      0.45                    \n",
       "2  0.700774         27253    111757      0.43                    \n",
       "3  0.700774         27253    111757      0.45                    \n",
       "4  0.700774         27244    111757      0.45                    \n",
       "\n",
       "   st_total_specialized_courses  Avg_Dist_Size_04  st_supplies_expense_pct  \\\n",
       "0  0.964635                      21.0              0.075                     \n",
       "1  0.964635                      21.0              0.075                     \n",
       "2  0.964635                      21.0              0.075                     \n",
       "3  0.964635                      21.0              0.075                     \n",
       "4  0.964635                      21.0              0.075                     \n",
       "\n",
       "          ...                 New_ind_Txt  st_avg_daily_attend_pct  \\\n",
       "0         ...           School Is Not New  0.958                     \n",
       "1         ...           School Is Not New  0.957                     \n",
       "2         ...           School Is Not New  0.951                     \n",
       "3         ...           School Is Not New  0.952                     \n",
       "4         ...           School Is Not New  0.952                     \n",
       "\n",
       "   lea_benefits_expense_pct  advance_dgr_pct  Avg_State_Size_00  \\\n",
       "0  0.210                     0.268            19.0                \n",
       "1  0.210                     0.268            19.0                \n",
       "2  0.212                     0.143            19.0                \n",
       "3  0.212                     0.194            19.0                \n",
       "4  0.212                     0.529            19.0                \n",
       "\n",
       "   English II Score  Avg_Class_Size_01  st_not_highqual_class_lp_pct  \\\n",
       "0  60.0              18.0               0.024                          \n",
       "1  60.0              19.0               0.024                          \n",
       "2  60.0              19.0               0.024                          \n",
       "3  60.0              19.0               0.024                          \n",
       "4  60.0              18.0               0.024                          \n",
       "\n",
       "   Overall_Achievement_Score_bins  SchoolWeightedScore  \n",
       "0  55-69                           173.07               \n",
       "1  55-69                           173.07               \n",
       "2  55-69                           173.07               \n",
       "3  55-69                           173.07               \n",
       "4  55-69                           173.07               \n",
       "\n",
       "[5 rows x 268 columns]"
      ]
     },
     "execution_count": 9,
     "metadata": {},
     "output_type": "execute_result"
    }
   ],
   "source": [
    "modelingdata.head()"
   ]
  },
  {
   "cell_type": "code",
   "execution_count": 10,
   "metadata": {
    "collapsed": false
   },
   "outputs": [
    {
     "data": {
      "text/plain": [
       "0    55-69\n",
       "1    55-69\n",
       "2    55-69\n",
       "3    55-69\n",
       "4    55-69\n",
       "Name: Overall_Achievement_Score_bins, dtype: object"
      ]
     },
     "execution_count": 10,
     "metadata": {},
     "output_type": "execute_result"
    }
   ],
   "source": [
    "modelingdata.Overall_Achievement_Score_bins.head()"
   ]
  },
  {
   "cell_type": "code",
   "execution_count": 11,
   "metadata": {
    "collapsed": true
   },
   "outputs": [],
   "source": [
    "modelingdata = pd.read_pickle('modelingdata.pickle')"
   ]
  },
  {
   "cell_type": "code",
   "execution_count": 12,
   "metadata": {
    "collapsed": false
   },
   "outputs": [
    {
     "data": {
      "text/plain": [
       "(2579, 268)"
      ]
     },
     "execution_count": 12,
     "metadata": {},
     "output_type": "execute_result"
    }
   ],
   "source": [
    "modelingdata.shape"
   ]
  },
  {
   "cell_type": "code",
   "execution_count": 13,
   "metadata": {
    "collapsed": false
   },
   "outputs": [
    {
     "data": {
      "text/html": [
       "<div>\n",
       "<table border=\"1\" class=\"dataframe\">\n",
       "  <thead>\n",
       "    <tr style=\"text-align: right;\">\n",
       "      <th></th>\n",
       "      <th>avg_age_media_collection</th>\n",
       "      <th>Read Score</th>\n",
       "      <th>Avg_State_Size_EnglishII</th>\n",
       "      <th>lea_cte_courses</th>\n",
       "      <th>szip_ad</th>\n",
       "      <th>st_wap_num</th>\n",
       "      <th>sat_participation_pct</th>\n",
       "      <th>st_total_specialized_courses</th>\n",
       "      <th>Avg_Dist_Size_04</th>\n",
       "      <th>st_supplies_expense_pct</th>\n",
       "      <th>...</th>\n",
       "      <th>New_ind_Txt</th>\n",
       "      <th>st_avg_daily_attend_pct</th>\n",
       "      <th>lea_benefits_expense_pct</th>\n",
       "      <th>advance_dgr_pct</th>\n",
       "      <th>Avg_State_Size_00</th>\n",
       "      <th>English II Score</th>\n",
       "      <th>Avg_Class_Size_01</th>\n",
       "      <th>st_not_highqual_class_lp_pct</th>\n",
       "      <th>Overall_Achievement_Score_bins</th>\n",
       "      <th>SchoolWeightedScore</th>\n",
       "    </tr>\n",
       "  </thead>\n",
       "  <tbody>\n",
       "    <tr>\n",
       "      <th>0</th>\n",
       "      <td>2000.0</td>\n",
       "      <td>56.0</td>\n",
       "      <td>18.0</td>\n",
       "      <td>0.700774</td>\n",
       "      <td>28115</td>\n",
       "      <td>111757</td>\n",
       "      <td>0.92</td>\n",
       "      <td>0.964635</td>\n",
       "      <td>21.0</td>\n",
       "      <td>0.075</td>\n",
       "      <td>...</td>\n",
       "      <td>School Is Not New</td>\n",
       "      <td>0.958</td>\n",
       "      <td>0.210</td>\n",
       "      <td>0.268</td>\n",
       "      <td>19.0</td>\n",
       "      <td>60.0</td>\n",
       "      <td>18.0</td>\n",
       "      <td>0.024</td>\n",
       "      <td>55-69</td>\n",
       "      <td>173.07</td>\n",
       "    </tr>\n",
       "    <tr>\n",
       "      <th>1</th>\n",
       "      <td>2000.0</td>\n",
       "      <td>56.0</td>\n",
       "      <td>18.0</td>\n",
       "      <td>0.700774</td>\n",
       "      <td>27560</td>\n",
       "      <td>111757</td>\n",
       "      <td>0.45</td>\n",
       "      <td>0.964635</td>\n",
       "      <td>21.0</td>\n",
       "      <td>0.075</td>\n",
       "      <td>...</td>\n",
       "      <td>School Is Not New</td>\n",
       "      <td>0.957</td>\n",
       "      <td>0.210</td>\n",
       "      <td>0.268</td>\n",
       "      <td>19.0</td>\n",
       "      <td>60.0</td>\n",
       "      <td>19.0</td>\n",
       "      <td>0.024</td>\n",
       "      <td>55-69</td>\n",
       "      <td>173.07</td>\n",
       "    </tr>\n",
       "    <tr>\n",
       "      <th>2</th>\n",
       "      <td>2000.0</td>\n",
       "      <td>56.0</td>\n",
       "      <td>18.0</td>\n",
       "      <td>0.700774</td>\n",
       "      <td>27253</td>\n",
       "      <td>111757</td>\n",
       "      <td>0.43</td>\n",
       "      <td>0.964635</td>\n",
       "      <td>21.0</td>\n",
       "      <td>0.075</td>\n",
       "      <td>...</td>\n",
       "      <td>School Is Not New</td>\n",
       "      <td>0.951</td>\n",
       "      <td>0.212</td>\n",
       "      <td>0.143</td>\n",
       "      <td>19.0</td>\n",
       "      <td>60.0</td>\n",
       "      <td>19.0</td>\n",
       "      <td>0.024</td>\n",
       "      <td>55-69</td>\n",
       "      <td>173.07</td>\n",
       "    </tr>\n",
       "    <tr>\n",
       "      <th>3</th>\n",
       "      <td>2001.0</td>\n",
       "      <td>56.0</td>\n",
       "      <td>18.0</td>\n",
       "      <td>0.700774</td>\n",
       "      <td>27253</td>\n",
       "      <td>111757</td>\n",
       "      <td>0.45</td>\n",
       "      <td>0.964635</td>\n",
       "      <td>21.0</td>\n",
       "      <td>0.075</td>\n",
       "      <td>...</td>\n",
       "      <td>School Is Not New</td>\n",
       "      <td>0.952</td>\n",
       "      <td>0.212</td>\n",
       "      <td>0.194</td>\n",
       "      <td>19.0</td>\n",
       "      <td>60.0</td>\n",
       "      <td>19.0</td>\n",
       "      <td>0.024</td>\n",
       "      <td>55-69</td>\n",
       "      <td>173.07</td>\n",
       "    </tr>\n",
       "    <tr>\n",
       "      <th>4</th>\n",
       "      <td>2000.0</td>\n",
       "      <td>56.0</td>\n",
       "      <td>18.0</td>\n",
       "      <td>0.700774</td>\n",
       "      <td>27244</td>\n",
       "      <td>111757</td>\n",
       "      <td>0.45</td>\n",
       "      <td>0.964635</td>\n",
       "      <td>21.0</td>\n",
       "      <td>0.075</td>\n",
       "      <td>...</td>\n",
       "      <td>School Is Not New</td>\n",
       "      <td>0.952</td>\n",
       "      <td>0.212</td>\n",
       "      <td>0.529</td>\n",
       "      <td>19.0</td>\n",
       "      <td>60.0</td>\n",
       "      <td>18.0</td>\n",
       "      <td>0.024</td>\n",
       "      <td>55-69</td>\n",
       "      <td>173.07</td>\n",
       "    </tr>\n",
       "  </tbody>\n",
       "</table>\n",
       "<p>5 rows × 268 columns</p>\n",
       "</div>"
      ],
      "text/plain": [
       "   avg_age_media_collection  Read Score  Avg_State_Size_EnglishII  \\\n",
       "0  2000.0                    56.0        18.0                       \n",
       "1  2000.0                    56.0        18.0                       \n",
       "2  2000.0                    56.0        18.0                       \n",
       "3  2001.0                    56.0        18.0                       \n",
       "4  2000.0                    56.0        18.0                       \n",
       "\n",
       "   lea_cte_courses  szip_ad  st_wap_num  sat_participation_pct  \\\n",
       "0  0.700774         28115    111757      0.92                    \n",
       "1  0.700774         27560    111757      0.45                    \n",
       "2  0.700774         27253    111757      0.43                    \n",
       "3  0.700774         27253    111757      0.45                    \n",
       "4  0.700774         27244    111757      0.45                    \n",
       "\n",
       "   st_total_specialized_courses  Avg_Dist_Size_04  st_supplies_expense_pct  \\\n",
       "0  0.964635                      21.0              0.075                     \n",
       "1  0.964635                      21.0              0.075                     \n",
       "2  0.964635                      21.0              0.075                     \n",
       "3  0.964635                      21.0              0.075                     \n",
       "4  0.964635                      21.0              0.075                     \n",
       "\n",
       "          ...                 New_ind_Txt  st_avg_daily_attend_pct  \\\n",
       "0         ...           School Is Not New  0.958                     \n",
       "1         ...           School Is Not New  0.957                     \n",
       "2         ...           School Is Not New  0.951                     \n",
       "3         ...           School Is Not New  0.952                     \n",
       "4         ...           School Is Not New  0.952                     \n",
       "\n",
       "   lea_benefits_expense_pct  advance_dgr_pct  Avg_State_Size_00  \\\n",
       "0  0.210                     0.268            19.0                \n",
       "1  0.210                     0.268            19.0                \n",
       "2  0.212                     0.143            19.0                \n",
       "3  0.212                     0.194            19.0                \n",
       "4  0.212                     0.529            19.0                \n",
       "\n",
       "   English II Score  Avg_Class_Size_01  st_not_highqual_class_lp_pct  \\\n",
       "0  60.0              18.0               0.024                          \n",
       "1  60.0              19.0               0.024                          \n",
       "2  60.0              19.0               0.024                          \n",
       "3  60.0              19.0               0.024                          \n",
       "4  60.0              18.0               0.024                          \n",
       "\n",
       "   Overall_Achievement_Score_bins  SchoolWeightedScore  \n",
       "0  55-69                           173.07               \n",
       "1  55-69                           173.07               \n",
       "2  55-69                           173.07               \n",
       "3  55-69                           173.07               \n",
       "4  55-69                           173.07               \n",
       "\n",
       "[5 rows x 268 columns]"
      ]
     },
     "execution_count": 13,
     "metadata": {},
     "output_type": "execute_result"
    }
   ],
   "source": [
    "modelingdata.head()"
   ]
  },
  {
   "cell_type": "code",
   "execution_count": 15,
   "metadata": {
    "collapsed": false
   },
   "outputs": [
    {
     "data": {
      "text/plain": [
       "0    55-69\n",
       "1    55-69\n",
       "2    55-69\n",
       "3    55-69\n",
       "4    55-69\n",
       "Name: Overall_Achievement_Score_bins, dtype: category\n",
       "Categories (5, object): [<40 < 40-54 < 55-69 < 70-84 < 85-100]"
      ]
     },
     "execution_count": 15,
     "metadata": {},
     "output_type": "execute_result"
    }
   ],
   "source": [
    "modelingdata.Overall_Achievement_Score_bins.head()"
   ]
  },
  {
   "cell_type": "code",
   "execution_count": 22,
   "metadata": {
    "collapsed": false
   },
   "outputs": [
    {
     "data": {
      "text/html": [
       "<div>\n",
       "<table border=\"1\" class=\"dataframe\">\n",
       "  <thead>\n",
       "    <tr style=\"text-align: right;\">\n",
       "      <th></th>\n",
       "    </tr>\n",
       "  </thead>\n",
       "  <tbody>\n",
       "    <tr>\n",
       "      <th>0</th>\n",
       "    </tr>\n",
       "    <tr>\n",
       "      <th>1</th>\n",
       "    </tr>\n",
       "    <tr>\n",
       "      <th>2</th>\n",
       "    </tr>\n",
       "    <tr>\n",
       "      <th>3</th>\n",
       "    </tr>\n",
       "    <tr>\n",
       "      <th>4</th>\n",
       "    </tr>\n",
       "    <tr>\n",
       "      <th>5</th>\n",
       "    </tr>\n",
       "    <tr>\n",
       "      <th>6</th>\n",
       "    </tr>\n",
       "    <tr>\n",
       "      <th>7</th>\n",
       "    </tr>\n",
       "    <tr>\n",
       "      <th>8</th>\n",
       "    </tr>\n",
       "    <tr>\n",
       "      <th>9</th>\n",
       "    </tr>\n",
       "    <tr>\n",
       "      <th>10</th>\n",
       "    </tr>\n",
       "    <tr>\n",
       "      <th>11</th>\n",
       "    </tr>\n",
       "    <tr>\n",
       "      <th>12</th>\n",
       "    </tr>\n",
       "    <tr>\n",
       "      <th>13</th>\n",
       "    </tr>\n",
       "    <tr>\n",
       "      <th>14</th>\n",
       "    </tr>\n",
       "    <tr>\n",
       "      <th>15</th>\n",
       "    </tr>\n",
       "    <tr>\n",
       "      <th>16</th>\n",
       "    </tr>\n",
       "    <tr>\n",
       "      <th>17</th>\n",
       "    </tr>\n",
       "    <tr>\n",
       "      <th>18</th>\n",
       "    </tr>\n",
       "    <tr>\n",
       "      <th>19</th>\n",
       "    </tr>\n",
       "    <tr>\n",
       "      <th>20</th>\n",
       "    </tr>\n",
       "    <tr>\n",
       "      <th>21</th>\n",
       "    </tr>\n",
       "    <tr>\n",
       "      <th>22</th>\n",
       "    </tr>\n",
       "    <tr>\n",
       "      <th>23</th>\n",
       "    </tr>\n",
       "    <tr>\n",
       "      <th>24</th>\n",
       "    </tr>\n",
       "    <tr>\n",
       "      <th>25</th>\n",
       "    </tr>\n",
       "    <tr>\n",
       "      <th>26</th>\n",
       "    </tr>\n",
       "    <tr>\n",
       "      <th>27</th>\n",
       "    </tr>\n",
       "    <tr>\n",
       "      <th>28</th>\n",
       "    </tr>\n",
       "    <tr>\n",
       "      <th>29</th>\n",
       "    </tr>\n",
       "    <tr>\n",
       "      <th>...</th>\n",
       "    </tr>\n",
       "    <tr>\n",
       "      <th>2549</th>\n",
       "    </tr>\n",
       "    <tr>\n",
       "      <th>2550</th>\n",
       "    </tr>\n",
       "    <tr>\n",
       "      <th>2551</th>\n",
       "    </tr>\n",
       "    <tr>\n",
       "      <th>2552</th>\n",
       "    </tr>\n",
       "    <tr>\n",
       "      <th>2553</th>\n",
       "    </tr>\n",
       "    <tr>\n",
       "      <th>2554</th>\n",
       "    </tr>\n",
       "    <tr>\n",
       "      <th>2555</th>\n",
       "    </tr>\n",
       "    <tr>\n",
       "      <th>2556</th>\n",
       "    </tr>\n",
       "    <tr>\n",
       "      <th>2557</th>\n",
       "    </tr>\n",
       "    <tr>\n",
       "      <th>2558</th>\n",
       "    </tr>\n",
       "    <tr>\n",
       "      <th>2559</th>\n",
       "    </tr>\n",
       "    <tr>\n",
       "      <th>2560</th>\n",
       "    </tr>\n",
       "    <tr>\n",
       "      <th>2561</th>\n",
       "    </tr>\n",
       "    <tr>\n",
       "      <th>2562</th>\n",
       "    </tr>\n",
       "    <tr>\n",
       "      <th>2563</th>\n",
       "    </tr>\n",
       "    <tr>\n",
       "      <th>2564</th>\n",
       "    </tr>\n",
       "    <tr>\n",
       "      <th>2565</th>\n",
       "    </tr>\n",
       "    <tr>\n",
       "      <th>2566</th>\n",
       "    </tr>\n",
       "    <tr>\n",
       "      <th>2567</th>\n",
       "    </tr>\n",
       "    <tr>\n",
       "      <th>2568</th>\n",
       "    </tr>\n",
       "    <tr>\n",
       "      <th>2569</th>\n",
       "    </tr>\n",
       "    <tr>\n",
       "      <th>2570</th>\n",
       "    </tr>\n",
       "    <tr>\n",
       "      <th>2571</th>\n",
       "    </tr>\n",
       "    <tr>\n",
       "      <th>2572</th>\n",
       "    </tr>\n",
       "    <tr>\n",
       "      <th>2573</th>\n",
       "    </tr>\n",
       "    <tr>\n",
       "      <th>2574</th>\n",
       "    </tr>\n",
       "    <tr>\n",
       "      <th>2575</th>\n",
       "    </tr>\n",
       "    <tr>\n",
       "      <th>2576</th>\n",
       "    </tr>\n",
       "    <tr>\n",
       "      <th>2577</th>\n",
       "    </tr>\n",
       "    <tr>\n",
       "      <th>2578</th>\n",
       "    </tr>\n",
       "  </tbody>\n",
       "</table>\n",
       "<p>2579 rows × 0 columns</p>\n",
       "</div>"
      ],
      "text/plain": [
       "Empty DataFrame\n",
       "Columns: []\n",
       "Index: [0, 1, 2, 3, 4, 5, 6, 7, 8, 9, 10, 11, 12, 13, 14, 15, 16, 17, 18, 19, 20, 21, 22, 23, 24, 25, 26, 27, 28, 29, 30, 31, 32, 33, 34, 35, 36, 37, 38, 39, 40, 41, 42, 43, 44, 45, 46, 47, 48, 49, 50, 51, 52, 53, 54, 55, 56, 57, 58, 59, 60, 61, 62, 63, 64, 65, 66, 67, 68, 69, 70, 71, 72, 73, 74, 75, 76, 77, 78, 79, 80, 81, 82, 83, 84, 85, 86, 87, 88, 89, 90, 91, 92, 93, 94, 95, 96, 97, 98, 99, ...]\n",
       "\n",
       "[2579 rows x 0 columns]"
      ]
     },
     "execution_count": 22,
     "metadata": {},
     "output_type": "execute_result"
    }
   ],
   "source": [
    "modelingdata.loc[:, modelingdata.dtypes == bool]"
   ]
  },
  {
   "cell_type": "code",
   "execution_count": 24,
   "metadata": {
    "collapsed": false
   },
   "outputs": [
    {
     "data": {
      "text/plain": [
       "dtype('int64')"
      ]
     },
     "execution_count": 24,
     "metadata": {},
     "output_type": "execute_result"
    }
   ],
   "source": [
    "modelingdata.summer_program_flg.dtype"
   ]
  },
  {
   "cell_type": "code",
   "execution_count": 31,
   "metadata": {
    "collapsed": false
   },
   "outputs": [
    {
     "name": "stdout",
     "output_type": "stream",
     "text": [
      "['stem_flg', 'clp_ind_flg', 'title1_type_flg', 'summer_program_flg', 'focus_clp_flg', 'no_data_spg_flg', 'asm_no_spg_flg']\n"
     ]
    }
   ],
   "source": [
    "flags = modelingdata.columns[modelingdata.columns.str.contains('flg')]\n",
    "print(list(flags))"
   ]
  },
  {
   "cell_type": "code",
   "execution_count": 36,
   "metadata": {
    "collapsed": false
   },
   "outputs": [
    {
     "data": {
      "text/html": [
       "<div>\n",
       "<table border=\"1\" class=\"dataframe\">\n",
       "  <thead>\n",
       "    <tr style=\"text-align: right;\">\n",
       "      <th></th>\n",
       "      <th>stem_flg</th>\n",
       "      <th>clp_ind_flg</th>\n",
       "      <th>title1_type_flg</th>\n",
       "      <th>summer_program_flg</th>\n",
       "      <th>focus_clp_flg</th>\n",
       "      <th>no_data_spg_flg</th>\n",
       "      <th>asm_no_spg_flg</th>\n",
       "    </tr>\n",
       "  </thead>\n",
       "  <tbody>\n",
       "    <tr>\n",
       "      <th>0</th>\n",
       "      <td>0</td>\n",
       "      <td>0</td>\n",
       "      <td>0</td>\n",
       "      <td>0</td>\n",
       "      <td>0</td>\n",
       "      <td>0</td>\n",
       "      <td>0</td>\n",
       "    </tr>\n",
       "    <tr>\n",
       "      <th>1</th>\n",
       "      <td>0</td>\n",
       "      <td>0</td>\n",
       "      <td>0</td>\n",
       "      <td>0</td>\n",
       "      <td>0</td>\n",
       "      <td>0</td>\n",
       "      <td>0</td>\n",
       "    </tr>\n",
       "    <tr>\n",
       "      <th>2</th>\n",
       "      <td>0</td>\n",
       "      <td>0</td>\n",
       "      <td>0</td>\n",
       "      <td>0</td>\n",
       "      <td>0</td>\n",
       "      <td>0</td>\n",
       "      <td>0</td>\n",
       "    </tr>\n",
       "    <tr>\n",
       "      <th>3</th>\n",
       "      <td>0</td>\n",
       "      <td>0</td>\n",
       "      <td>0</td>\n",
       "      <td>0</td>\n",
       "      <td>0</td>\n",
       "      <td>0</td>\n",
       "      <td>0</td>\n",
       "    </tr>\n",
       "    <tr>\n",
       "      <th>4</th>\n",
       "      <td>0</td>\n",
       "      <td>0</td>\n",
       "      <td>0</td>\n",
       "      <td>0</td>\n",
       "      <td>0</td>\n",
       "      <td>0</td>\n",
       "      <td>0</td>\n",
       "    </tr>\n",
       "  </tbody>\n",
       "</table>\n",
       "</div>"
      ],
      "text/plain": [
       "   stem_flg  clp_ind_flg  title1_type_flg  summer_program_flg  focus_clp_flg  \\\n",
       "0  0         0            0                0                   0               \n",
       "1  0         0            0                0                   0               \n",
       "2  0         0            0                0                   0               \n",
       "3  0         0            0                0                   0               \n",
       "4  0         0            0                0                   0               \n",
       "\n",
       "   no_data_spg_flg  asm_no_spg_flg  \n",
       "0  0                0               \n",
       "1  0                0               \n",
       "2  0                0               \n",
       "3  0                0               \n",
       "4  0                0               "
      ]
     },
     "execution_count": 36,
     "metadata": {},
     "output_type": "execute_result"
    }
   ],
   "source": [
    "allFlags = modelingdata.loc[:, list(flags)]\n",
    "allFlags.head()"
   ]
  },
  {
   "cell_type": "code",
   "execution_count": 37,
   "metadata": {
    "collapsed": false
   },
   "outputs": [
    {
     "data": {
      "text/plain": [
       " 0    1702\n",
       "-1    877 \n",
       "Name: summer_program_flg, dtype: int64"
      ]
     },
     "execution_count": 37,
     "metadata": {},
     "output_type": "execute_result"
    }
   ],
   "source": [
    "allFlags.summer_program_flg.value_counts()"
   ]
  },
  {
   "cell_type": "code",
   "execution_count": 38,
   "metadata": {
    "collapsed": false
   },
   "outputs": [
    {
     "name": "stdout",
     "output_type": "stream",
     "text": [
      "X shape before \n",
      "(2579, 268)\n",
      "X shape after \n",
      "(2579, 267)\n",
      "Y shape after \n",
      "(2579,)\n"
     ]
    }
   ],
   "source": [
    "#Create data = x\n",
    "df_X = modelingdata.copy()\n",
    "#create target = Y\n",
    "df_y = df_X.summer_program_flg\n",
    "print('X shape before ')\n",
    "print(df_X.shape)\n",
    "#drop the response column from the x dataset\n",
    "df_X.pop('summer_program_flg')\n",
    "print('X shape after ')\n",
    "print(df_X.shape)\n",
    "print('Y shape after ')\n",
    "print(df_y.shape)"
   ]
  },
  {
   "cell_type": "code",
   "execution_count": 39,
   "metadata": {
    "collapsed": false
   },
   "outputs": [
    {
     "name": "stdout",
     "output_type": "stream",
     "text": [
      "Index(['grades_1_to_1_access', 'type_cd_txt', 'Reading SPG Grade', 'Byod',\n",
      "       'Grad_project_status', 'esea_status', 'school_type_txt',\n",
      "       'Math SPG Grade', 'Closed_Ind_Text', 'category_cd', 'state_ad',\n",
      "       '1_to_1_access', 'grades_BYOD', 'State Gap Compared',\n",
      "       'EVAAS Growth Status', 'calendar_only_txt', 'SPG Grade', 'New_ind_Txt',\n",
      "       'Overall_Achievement_Score_bins'],\n",
      "      dtype='object')\n",
      "['summer_program_flg']\n",
      "['avg_age_media_collection', 'Read Score', 'Avg_State_Size_EnglishII', 'lea_cte_courses', 'szip_ad', 'st_wap_num', 'sat_participation_pct', 'st_total_specialized_courses', 'Avg_Dist_Size_04', 'st_supplies_expense_pct', 'RETAINED_School_Pct', 'Avg_Class_Size_07', 'services_expense_pct', 'st_long_susp_per_c_num', 'Avg_Class_Size_04', 'st_prinyrs_0thru3_pct', 'st_emer_prov_teach_pct', 'other_expense_pct', 'Avg_Class_Size_00', 'GCE_ALL_School_Pct', 'st_wap_per_classroom', 'lea_sat_participation_pct', 'books_per_student', 'Avg_Class_Size_Biology', 'GCE_RPF_School_Pct', 'tchyrs_0thru3_pct', 'st_short_susp_per_c_num', 'lea_avg_daily_attend_pct', 'st_highqual_class_lp_pct', 'lea_emer_prov_teach_pct', 'st_crime_per_c_num', 'st_flicensed_teach_pct', 'Avg_Dist_Size_07', 'Avg_Dist_Size_06', 'st_stud_internet_comp_num', 'Tch_Exp_Pct_10+_Years', 'Avg_Dist_Size_01', 'Avg_Dist_Size_02', 'highqual_class_pct', 'lea_univ_college_courses', 'lea_wap_num', 'Dist_Tch_Exp_Pct_10+_Years', 'GCE_RPF_Dist_Pct', 'lea_nbpts_num', 'Avg_Class_Size_06', 'lea_tchyrs_4thru10_pct', 'cte_courses', 'st_total_expense_num', 'Avg_Dist_Size_MathI', 'lea_ib_pct_4_or_above', 'Dist_Tch_Exp_Pct_0_3_Years', 'st_class_teach_num', 'Avg_Class_Size_EnglishII', 'Avg_State_Size_02', 'st_federal_perpupil_num', 'lea_ap_participation_pct', 'lea_total_expense_num', 'GCE_SWD_State_Pct', 'lea_ap_ib_courses', 'State_Prin_Exp_Pct_0_3_Years', 'stem_flg', 'total_specialized_courses', 'ACT WorkKeys Score', 'lea_tchyrs_11plus_pct', '_1yr_tchr_trnovr_pct', 'Avg_Dist_Size_03', 'st_salary_expense_pct', 'State_Tch_Exp_Pct_4_10_Years', 'student_num', 'lea_highqual_class_all_pct', 'st_lateral_teach_pct', 'lea_not_highqual_class_hp_pct', 'PASSED_LAA_State_Pct', 'Avg_State_Size_04', 'st_univ_college_courses', 'instruct_equip_exp_pct', 'st_prinyrs_4thru10_pct', 'ap_pct_3_or_above', 'lea_tchyrs_0thru3_pct', 'lea_crime_per_c_num', 'GCE_ALL_State_Pct', 'st_tchyrs_4thru10_pct', 'PASSED_RTA_Dist_Pct', 'univ_college_courses', 'Dist_Prin_Exp_Pct_4_10_Years', 'st_highqual_class_pct', 'lea_avg_age_media_collection', 'GCE_SWD_Dist_Pct', 'State_Prin_Exp_Pct_4_10_Years', 'RETAINED_State_Pct', 'PROMOTED_Dist_Pct', 'Math Score', 'PASSED_LAA_School_Pct', 'st_prin_white_pct', 'Avg_State_Size_07', 'long_susp_per_c_num', 'lea_services_expense_pct', 'lea_avg_student_num', 'clp_ind_flg', 'st_ap_pct_3_or_above', 'Math I Score', 'st_prin_black_pct', 'stud_internet_comp_num', 'Dist_Tch_Exp_Pct_4_10_Years', 'nat_sat_participation_pct', 'lea_short_susp_per_c_num', 'lea_books_per_student', 'sat_avg_score_num', 'total_expense_num', 'lea_stud_internet_comp_num', 'lea_sat_avg_score_num', 'Year', 'st_nbpts_num', 'st_highqual_class_all_pct', 'GCE_SWD_School_Pct', 'st_state_perpupil_num', 'State_Tch_Exp_Pct_10+_Years', 'lea_flicensed_teach_pct', 'lea_expelled_per_c_num', 'One_Yr_College_Complete_wi_2_yrs_Enrolled_2012', 'title1_type_flg', 'lea_state_perpupil_num', 'avg_daily_attend_pct', 'Avg_State_Size_06', 'Avg_Class_Size_02', 'PASSED_EOG_State_Pct', 'State_Tch_Exp_Pct_0_3_Years', 'focus_clp_flg', 'lea_other_expense_pct', 'EVAAS Growth Score', 'sch_percent_college_enrolled_16_mos_post_grad', 'AP_Courses_Offered', 'salary_expense_pct', 'PASSED_EOG_Dist_Pct', 'nat_sat_avg_score_num', 'st_prin_advance_dgr_pct', 'ap_participation_pct', 'digital_media_pct', 'Avg_Class_Size_03', 'st_cte_courses', 'Avg_State_Size_Biology', 'wap_num', 'ap_ib_courses', 'Cohort Graduation Rate Standard Score', 'Tch_Exp_Pct_4_10_Years', 'st_ap_ib_courses', 'Avg_Dist_Size_08', 'st_1yr_tchr_trnovr_pct', 'lea_not_highqual_class_all_pct', 'st_prinyrs_11plus_pct', 'Math SPG Score', 'Tch_Exp_Pct_0_3_Years', 'lea_local_perpupil_num', 'st_prin_male_pct', 'lea_1yr_tchr_trnovr_pct', 'class_teach_num', 'lea_ap_pct_3_or_above', 'st_sat_avg_score_num', 'Avg_State_Size_08', 'lea_class_teach_num', 'Avg_State_Size_03', 'crime_per_c_num', 'The ACT Score', 'st_instruct_equip_exp_pct', 'benefits_expense_pct', 'st_prin_female_pct', 'Avg_State_Size_MathI', 'lea_supplies_expense_pct', 'Avg_Class_Size_08', 'st_ap_participation_pct', 'Avg_Dist_Size_Biology', 'st_advance_dgr_pct', 'st_not_highqual_class_hp_pct', 'Avg_Dist_Size_EnglishII', 'lateral_teach_pct', 'st_expelled_per_c_num', 'st_sat_participation_pct', 'st_benefits_expense_pct', 'lea_not_highqual_class_lp_pct', 'lea_total_specialized_courses', 'PROMOTED_School_Pct', 'Science Score', 'Avg_Dist_Size_00', 'Reading  SPG Score', 'lea_highqual_class_hp_pct', 'SPG Score', 'lea_wap_per_classroom', 'short_susp_per_c_num', 'tchyrs_4thru10_pct', 'st_avg_student_num', 'st_highqual_class_hp_pct', 'Dist_Prin_Exp_Pct_10+_Years', 'tchyrs_11plus_pct', 'lea_instruct_equip_exp_pct', 'local_perpupil_num', 'state_perpupil_num', 'federal_perpupil_num', 'Avg_State_Size_05', 'st_not_highqual_class_all_pct', 'lea_highqual_class_lp_pct', 'Avg_State_Size_01', 'nbpts_num', 'PROMOTED_State_Pct', 'st_avg_age_media_collection', 'st_1yr_prin_trnovr_pct', 'Avg_Class_Size_MathI', 'st_other_expense_pct', 'no_data_spg_flg', 'lea_highqual_class_pct', 'State_Prin_Exp_Pct_10+_Years', 'st_books_per_student', 'flicensed_teach_pct', 'st_prin_other_pct', 'st_tchyrs_0thru3_pct', 'st_services_expense_pct', 'lea_long_susp_per_c_num', 'lea_federal_perpupil_num', 'Avg_Dist_Size_05', 'st_local_perpupil_num', 'Dist_Prin_Exp_Pct_0_3_Years', 'Overall Achievement Score', 'supplies_expense_pct', 'lea_salary_expense_pct', 'wap_per_classroom', 'PASSED_LAA_Dist_Pct', 'Biology Score', 'st_tchyrs_11plus_pct', 'GCE_ALL_Dist_Pct', 'Math Course Rigor Score', 'expelled_per_c_num', 'PASSED_EOG_School_Pct', 'Avg_Class_Size_05', 'lea_advance_dgr_pct', 'asm_no_spg_flg', 'lea_lateral_teach_pct', 'RETAINED_Dist_Pct', 'emer_prov_teach_pct', 'st_ib_pct_4_or_above', 'st_avg_daily_attend_pct', 'lea_benefits_expense_pct', 'advance_dgr_pct', 'Avg_State_Size_00', 'English II Score', 'Avg_Class_Size_01', 'st_not_highqual_class_lp_pct', 'SchoolWeightedScore', 'grades_1_to_1_access_-', 'grades_1_to_1_access_10:11:12', 'grades_1_to_1_access_11:12:13', 'grades_1_to_1_access_3', 'grades_1_to_1_access_3:04:05', 'grades_1_to_1_access_4', 'grades_1_to_1_access_4:05', 'grades_1_to_1_access_4:05:06', 'grades_1_to_1_access_4:5:6:7:8:9:10:11:12', 'grades_1_to_1_access_5', 'grades_1_to_1_access_5:06', 'grades_1_to_1_access_5:06:07', 'grades_1_to_1_access_5:6:7:8:9:10:11:12', 'grades_1_to_1_access_6', 'grades_1_to_1_access_6:07', 'grades_1_to_1_access_6:07:08', 'grades_1_to_1_access_6:08', 'grades_1_to_1_access_6:7:8:9', 'grades_1_to_1_access_6:7:8:9:10', 'grades_1_to_1_access_6:7:8:9:10:11:12', 'grades_1_to_1_access_6:7:8:9:10:11:12:13', 'grades_1_to_1_access_7', 'grades_1_to_1_access_7:08', 'grades_1_to_1_access_8', 'grades_1_to_1_access_8:09', 'grades_1_to_1_access_8:9:10:11:12', 'grades_1_to_1_access_9', 'grades_1_to_1_access_9:10', 'grades_1_to_1_access_9:10:11', 'grades_1_to_1_access_9:10:11:12', 'grades_1_to_1_access_9:10:11:12:13', 'grades_1_to_1_access_9:10:12', 'grades_1_to_1_access_9:12', 'grades_1_to_1_access_K:1:2:3', 'grades_1_to_1_access_K:1:2:3:4:5', 'grades_1_to_1_access_K:1:2:3:4:5:6:7:8', 'grades_1_to_1_access_PK', 'type_cd_txt_Charter', 'type_cd_txt_Public', 'Reading SPG Grade_A', 'Reading SPG Grade_B', 'Reading SPG Grade_C', 'Reading SPG Grade_D', 'Reading SPG Grade_F', 'Byod_-', 'Byod_No', 'Byod_Yes', 'Grad_project_status_N', 'Grad_project_status_Y', 'esea_status_F', 'esea_status_P', 'school_type_txt_Alternative Education', 'school_type_txt_Hospital School', 'school_type_txt_Magnet School', 'school_type_txt_Regular School', 'school_type_txt_Special Education', 'school_type_txt_Vocational Education', 'Math SPG Grade_A', 'Math SPG Grade_B', 'Math SPG Grade_C', 'Math SPG Grade_D', 'Math SPG Grade_F', 'Closed_Ind_Text_Open', 'category_cd_A', 'category_cd_E', 'category_cd_H', 'category_cd_I', 'category_cd_M', 'category_cd_T', 'state_ad_NC', '1_to_1_access_No', '1_to_1_access_Yes', 'grades_BYOD_-', 'grades_BYOD_11:12', 'grades_BYOD_1:2:3:4:5', 'grades_BYOD_1:3:4:5', 'grades_BYOD_2:03:04', 'grades_BYOD_2:3:4:5', 'grades_BYOD_2:3:4:5:6:7:8', 'grades_BYOD_3', 'grades_BYOD_3:04', 'grades_BYOD_3:04:05', 'grades_BYOD_3:4:5:6', 'grades_BYOD_3:4:5:6:7:8', 'grades_BYOD_3:4:5:6:7:8:9:10', 'grades_BYOD_3:4:5:6:7:8:9:10:11:12', 'grades_BYOD_4', 'grades_BYOD_4:05', 'grades_BYOD_4:05:06', 'grades_BYOD_4:5:6:7:8', 'grades_BYOD_5', 'grades_BYOD_5:06', 'grades_BYOD_5:6:7:8', 'grades_BYOD_6', 'grades_BYOD_6:07', 'grades_BYOD_6:07:08', 'grades_BYOD_6:08', 'grades_BYOD_6:7:8:9:10', 'grades_BYOD_6:7:8:9:10:11', 'grades_BYOD_6:7:8:9:10:11:12', 'grades_BYOD_6:7:8:9:10:11:12:13', 'grades_BYOD_6:7:8:9:11:12', 'grades_BYOD_7', 'grades_BYOD_7:08', 'grades_BYOD_7:8:9:10:11:12', 'grades_BYOD_8:09', 'grades_BYOD_8:9:10:11:12', 'grades_BYOD_9:10', 'grades_BYOD_9:10:11', 'grades_BYOD_9:10:11:12', 'grades_BYOD_9:10:11:12:13', 'grades_BYOD_9:11:12', 'grades_BYOD_K:1:2:3:4', 'grades_BYOD_K:1:2:3:4:5', 'grades_BYOD_K:1:2:3:4:5:6', 'grades_BYOD_K:1:2:3:4:5:6:7:8', 'grades_BYOD_K:1:2:3:4:5:6:7:8:9:10:11:12', 'grades_BYOD_K:1:2:3:4:5:6:7:8:9:10:11:12:13', 'grades_BYOD_K:1:2:4:5', 'grades_BYOD_K:1:2:4:6', 'grades_BYOD_K:3:4', 'grades_BYOD_PK:5', 'grades_BYOD_PK:9:10:11:12', 'grades_BYOD_PK:K:1:2:3', 'grades_BYOD_PK:K:1:2:3:4', 'grades_BYOD_PK:K:1:2:3:4:5', 'grades_BYOD_PK:K:1:2:3:4:5:6:7', 'grades_BYOD_PK:K:1:2:3:4:5:6:7:8', 'grades_BYOD_PK:K:1:2:3:4:5:6:7:8:9:10:11:12:13', 'grades_BYOD_PK:K:1:2:3:4:5:7:8', 'State Gap Compared_N', 'State Gap Compared_Y', 'EVAAS Growth Status_Exceeded', 'EVAAS Growth Status_Met', 'EVAAS Growth Status_NotMet', 'calendar_only_txt_Traditional Calendar', 'calendar_only_txt_Traditional Calendar plus Year-Round Calendar', 'calendar_only_txt_Year-Round Calendar', 'SPG Grade_A', 'SPG Grade_A+NG', 'SPG Grade_B', 'SPG Grade_C', 'SPG Grade_D', 'SPG Grade_F', 'SPG Grade_I', 'New_ind_Txt_School Is Not New', 'Overall_Achievement_Score_bins_<40', 'Overall_Achievement_Score_bins_40-54', 'Overall_Achievement_Score_bins_55-69', 'Overall_Achievement_Score_bins_70-84', 'Overall_Achievement_Score_bins_85-100']\n"
     ]
    }
   ],
   "source": [
    "def dummy_Create(df):\n",
    "    schoolDataFinal = df.copy()\n",
    "    SchoolDataCat = schoolDataFinal.loc[:,(schoolDataFinal.dtypes == bool)| (schoolDataFinal.dtypes == object) |(schoolDataFinal.dtypes == 'category')]#.columnscategory\n",
    "    # drop the two street address columns\n",
    "    try: \n",
    "        SchoolDataCat.pop('street_ad')\n",
    "        SchoolDataCat.pop('scity_ad')\n",
    "    except Exception as e:\n",
    "        print(e.args)\n",
    "    print(SchoolDataCat.columns)\n",
    "    cat_vars=SchoolDataCat.columns\n",
    "    for var in cat_vars:\n",
    "        cat_list='var'+'_'+var\n",
    "        cat_list = pd.get_dummies(schoolDataFinal[var], prefix=var)\n",
    "        df=pd.concat([df,cat_list], axis=1)\n",
    "    data=df\n",
    "    cat_vars=SchoolDataCat.columns\n",
    "    data_vars=data.columns.values.tolist()\n",
    "    \n",
    "    to_keep=[i for i in data_vars if i not in cat_vars]\n",
    "\n",
    "    ## Final data columns\n",
    "    data_final=data[to_keep]\n",
    "    try:\n",
    "        data_final.pop('street_ad')\n",
    "        data_final.pop('scity_ad')\n",
    "    except Exception as e:\n",
    "        print(e.args)\n",
    "    data_final.columns.values\n",
    "    data_final_vars=data_final.columns.values.tolist()\n",
    "    #return(SchoolDataCat)\n",
    "    y=['summer_program_flg']\n",
    "    X=[i for i in data_final_vars if i not in y]\n",
    " \n",
    "    list(data_final_vars)\n",
    "    print(y)\n",
    "    print(X)\n",
    "    return(data_final.abs())\n",
    "    \n",
    "df_X = dummy_Create(df_X)"
   ]
  },
  {
   "cell_type": "code",
   "execution_count": 40,
   "metadata": {
    "collapsed": false
   },
   "outputs": [
    {
     "name": "stdout",
     "output_type": "stream",
     "text": [
      "(2579, 397)\n",
      "(2579,)\n"
     ]
    }
   ],
   "source": [
    "print(df_X.shape)\n",
    "print(df_y.shape)"
   ]
  },
  {
   "cell_type": "code",
   "execution_count": 41,
   "metadata": {
    "collapsed": false
   },
   "outputs": [
    {
     "data": {
      "text/plain": [
       " 0    1702\n",
       "-1    877 \n",
       "Name: summer_program_flg, dtype: int64"
      ]
     },
     "execution_count": 41,
     "metadata": {},
     "output_type": "execute_result"
    }
   ],
   "source": [
    "df_y.value_counts()"
   ]
  },
  {
   "cell_type": "code",
   "execution_count": null,
   "metadata": {
    "collapsed": true
   },
   "outputs": [],
   "source": []
  },
  {
   "cell_type": "markdown",
   "metadata": {},
   "source": [
    "## How do I choose which model to use for my supervised learning task ?"
   ]
  },
  {
   "cell_type": "markdown",
   "metadata": {},
   "source": [
    "Our classification task is to predict `summer_program_flg` of an unknown school profile. We tried using the following classification models:\n",
    "* Logistic Regression (default parameters)\n",
    "* Logistic Regression (with model tuning)\n",
    "* SVM (default parameters)\n",
    "* SVM (with model tuning)"
   ]
  },
  {
   "cell_type": "markdown",
   "metadata": {},
   "source": [
    "We received 4 different sets of predictions. \n",
    "The goal of supervised learning is to build a model that generalizes to out-of-sample data, that is, what we really need is a procedure that allows us to estimate how well a given model is likely to perform on out-of-sample data. This is known as model evaluation procedure. If we can estimate the likely performance of our 4 models, then we can use that performance estimate to choose between the models."
   ]
  },
  {
   "cell_type": "markdown",
   "metadata": {},
   "source": [
    "We will first explore the simplest of model evaluation procedures: `Train and Test on the entire dataset`"
   ]
  },
  {
   "cell_type": "markdown",
   "metadata": {},
   "source": [
    "### Evaluation procedure 1: Train and Test on the entrire dataset"
   ]
  },
  {
   "cell_type": "code",
   "execution_count": 42,
   "metadata": {
    "collapsed": false
   },
   "outputs": [
    {
     "data": {
      "text/plain": [
       "LogisticRegression(C=1.0, class_weight=None, dual=False, fit_intercept=True,\n",
       "          intercept_scaling=1, max_iter=100, multi_class='ovr', n_jobs=1,\n",
       "          penalty='l2', random_state=None, solver='liblinear', tol=0.0001,\n",
       "          verbose=0, warm_start=False)"
      ]
     },
     "execution_count": 42,
     "metadata": {},
     "output_type": "execute_result"
    }
   ],
   "source": [
    "# import the class\n",
    "from sklearn.linear_model import LogisticRegression\n",
    "\n",
    "# instantiate the model (using default parameters)\n",
    "logreg = LogisticRegression()\n",
    "\n",
    "# take a look at the default model tuning parameters\n",
    "logreg"
   ]
  },
  {
   "cell_type": "code",
   "execution_count": 43,
   "metadata": {
    "collapsed": false
   },
   "outputs": [
    {
     "data": {
      "text/plain": [
       "LogisticRegression(C=1.0, class_weight=None, dual=False, fit_intercept=True,\n",
       "          intercept_scaling=1, max_iter=100, multi_class='ovr', n_jobs=1,\n",
       "          penalty='l2', random_state=None, solver='liblinear', tol=0.0001,\n",
       "          verbose=0, warm_start=False)"
      ]
     },
     "execution_count": 43,
     "metadata": {},
     "output_type": "execute_result"
    }
   ],
   "source": [
    "# fit the model with data (model training)\n",
    "# In this step, the model learns the relationship b/w features in df_X and the reponse df_y.\n",
    "logreg.fit(df_X, df_y)"
   ]
  },
  {
   "cell_type": "code",
   "execution_count": 44,
   "metadata": {
    "collapsed": true
   },
   "outputs": [],
   "source": [
    "# predict the response for observations in X\n",
    "y_pred = logreg.predict(df_X)"
   ]
  },
  {
   "cell_type": "code",
   "execution_count": 45,
   "metadata": {
    "collapsed": false
   },
   "outputs": [
    {
     "data": {
      "text/plain": [
       "2579"
      ]
     },
     "execution_count": 45,
     "metadata": {},
     "output_type": "execute_result"
    }
   ],
   "source": [
    "# check the length of y_pred\n",
    "len(y_pred)"
   ]
  },
  {
   "cell_type": "markdown",
   "metadata": {},
   "source": [
    "Now we need a numerical way to evaluate how well our model performed. The most obvious choice would be `Classification Accuracy` which is the proportion of correct predictions. This is our first evaluation metric."
   ]
  },
  {
   "cell_type": "markdown",
   "metadata": {},
   "source": [
    "### Compute classification accuracy"
   ]
  },
  {
   "cell_type": "markdown",
   "metadata": {},
   "source": [
    "We will calculate the classification accuracy using the `metrics` module of scikit-learn:\n",
    "* First we import the metrics module\n",
    "* Second we invoke the *accuracy_score* **function**"
   ]
  },
  {
   "cell_type": "code",
   "execution_count": 46,
   "metadata": {
    "collapsed": false
   },
   "outputs": [
    {
     "data": {
      "text/plain": [
       "0.70492438929817758"
      ]
     },
     "execution_count": 46,
     "metadata": {},
     "output_type": "execute_result"
    }
   ],
   "source": [
    "# compute classification accuracy for our logistic regression model\n",
    "from sklearn import metrics\n",
    "metrics.accuracy_score(df_y, y_pred)"
   ]
  },
  {
   "cell_type": "code",
   "execution_count": 51,
   "metadata": {
    "collapsed": false
   },
   "outputs": [
    {
     "name": "stdout",
     "output_type": "stream",
     "text": [
      "[ 0  0  0  0  0  0  0  0  0  0  0  0  0  0  0  0  0  0  0  0  0  0  0  0  0\n",
      "  0  0  0  0  0  0  0  0  0  0  0  0  0 -1  0  0  0  0  0  0  0  0  0  0  0\n",
      "  0  0 -1 -1 -1  0 -1 -1 -1 -1 -1 -1 -1  0  0  0  0  0  0 -1 -1 -1 -1 -1 -1\n",
      " -1  0  0  0  0  0  0 -1  0 -1  0 -1  0  0  0  0 -1  0 -1 -1 -1 -1 -1 -1 -1]\n",
      "[ 0  0  0  0  0  0  0  0  0  0  0  0  0  0  0  0  0  0  0  0  0  0  0  0  0\n",
      "  0  0  0  0  0  0  0  0  0  0  0  0  0  0  0  0  0  0  0  0  0  0  0 -1 -1\n",
      " -1 -1 -1  0 -1 -1 -1 -1 -1 -1 -1 -1 -1  0  0  0  0  0 -1 -1 -1 -1 -1 -1 -1\n",
      " -1  0 -1 -1 -1 -1  0  0  0 -1 -1 -1 -1 -1 -1 -1 -1 -1 -1 -1 -1 -1 -1 -1 -1]\n"
     ]
    }
   ],
   "source": [
    "print(np.array(df_y[0:100]))\n",
    "print(y_pred[0:100])"
   ]
  },
  {
   "cell_type": "markdown",
   "metadata": {},
   "source": [
    "That means, it compared 2579 true responses with the corresponding 2579 predicted responses and calculated that 70% of our predictions were correct. This is known as **training accuracy** because we are testing the model on the same data that we used to train the model."
   ]
  },
  {
   "cell_type": "markdown",
   "metadata": {},
   "source": [
    "### Evaluation procedure 2: Train/Test split 80-20"
   ]
  },
  {
   "cell_type": "code",
   "execution_count": 52,
   "metadata": {
    "collapsed": false
   },
   "outputs": [
    {
     "name": "stdout",
     "output_type": "stream",
     "text": [
      "(2579, 397)\n",
      "(2579,)\n"
     ]
    }
   ],
   "source": [
    "# print shapes of df_X and df_y\n",
    "print(df_X.shape)\n",
    "print(df_y.shape)"
   ]
  },
  {
   "cell_type": "markdown",
   "metadata": {},
   "source": [
    "To split the data into training and testing sets, we are going to use sckit-learn's built-in, `train_test_split` function."
   ]
  },
  {
   "cell_type": "code",
   "execution_count": 53,
   "metadata": {
    "collapsed": true
   },
   "outputs": [],
   "source": [
    "# STEP 1: split df_X and df_y into training and testing sets\n",
    "from sklearn.model_selection import train_test_split\n",
    "df_X_train, df_X_test, df_y_train, df_y_test = train_test_split(df_X, df_y, test_size=0.2, random_state=4)"
   ]
  },
  {
   "cell_type": "code",
   "execution_count": 54,
   "metadata": {
    "collapsed": false
   },
   "outputs": [
    {
     "name": "stdout",
     "output_type": "stream",
     "text": [
      "(2063, 397)\n",
      "(516, 397)\n"
     ]
    }
   ],
   "source": [
    "print(df_X_train.shape)\n",
    "print(df_X_test.shape)"
   ]
  },
  {
   "cell_type": "code",
   "execution_count": 55,
   "metadata": {
    "collapsed": false
   },
   "outputs": [
    {
     "name": "stdout",
     "output_type": "stream",
     "text": [
      "(2063,)\n",
      "(516,)\n"
     ]
    }
   ],
   "source": [
    "print(df_y_train.shape)\n",
    "print(df_y_test.shape)"
   ]
  },
  {
   "cell_type": "code",
   "execution_count": 56,
   "metadata": {
    "collapsed": false
   },
   "outputs": [
    {
     "data": {
      "text/plain": [
       "LogisticRegression(C=1.0, class_weight=None, dual=False, fit_intercept=True,\n",
       "          intercept_scaling=1, max_iter=100, multi_class='ovr', n_jobs=1,\n",
       "          penalty='l2', random_state=None, solver='liblinear', tol=0.0001,\n",
       "          verbose=0, warm_start=False)"
      ]
     },
     "execution_count": 56,
     "metadata": {},
     "output_type": "execute_result"
    }
   ],
   "source": [
    "# STEP 2: train the model on the training set\n",
    "logreg = LogisticRegression()\n",
    "logreg.fit(df_X_train, df_y_train)"
   ]
  },
  {
   "cell_type": "code",
   "execution_count": 57,
   "metadata": {
    "collapsed": true
   },
   "outputs": [],
   "source": [
    "# STEP 3: make predictions on the testing set\n",
    "y_pred = logreg.predict(df_X_test)"
   ]
  },
  {
   "cell_type": "code",
   "execution_count": 58,
   "metadata": {
    "collapsed": false
   },
   "outputs": [
    {
     "name": "stdout",
     "output_type": "stream",
     "text": [
      "0.72480620155\n"
     ]
    }
   ],
   "source": [
    "# Compute the prediction accuracy\n",
    "print(metrics.accuracy_score(df_y_test, y_pred))"
   ]
  },
  {
   "cell_type": "markdown",
   "metadata": {},
   "source": [
    "### Evaluation procedure 3: Use k-fold Cross-validation"
   ]
  },
  {
   "cell_type": "markdown",
   "metadata": {},
   "source": [
    "**Goal**: Use cross-validation to find the classification accuracy of default Logistic Regression model."
   ]
  },
  {
   "cell_type": "markdown",
   "metadata": {},
   "source": [
    "Our primary **function** for cross-validation in scikit-learn will be `cross_val_score` which we will import from the `sklearn.cross_validation` module."
   ]
  },
  {
   "cell_type": "code",
   "execution_count": 59,
   "metadata": {
    "collapsed": true
   },
   "outputs": [],
   "source": [
    "from sklearn.cross_validation import cross_val_score"
   ]
  },
  {
   "cell_type": "code",
   "execution_count": 60,
   "metadata": {
    "collapsed": true
   },
   "outputs": [],
   "source": [
    "# Create the model object\n",
    "logreg = LogisticRegression()"
   ]
  },
  {
   "cell_type": "markdown",
   "metadata": {},
   "source": [
    "We will now use the cross_val_score function, giving this function 5 parameters:\n",
    "* **first parameter**: model object logreg\n",
    "* **second parameter**: df_X - our feature matrix, it is important to note that we don't pass df_X_train but the entire dataframe. \n",
    "* **third parameter**: df_y - our response vector. \n",
    "* **fourth parameter**: cv - 10 fold cross validation.\n",
    "* **fifth parameter**: scoring='accuracy' - which means we want to use classification accuracy as the evaluation metric. "
   ]
  },
  {
   "cell_type": "code",
   "execution_count": 61,
   "metadata": {
    "collapsed": false
   },
   "outputs": [
    {
     "name": "stdout",
     "output_type": "stream",
     "text": [
      "[ 0.57142857  0.66023166  0.63565891  0.69767442  0.75581395  0.71705426\n",
      "  0.53875969  0.73540856  0.75486381  0.6848249 ]\n"
     ]
    }
   ],
   "source": [
    "scores = cross_val_score(logreg, df_X, df_y, cv=10, scoring='accuracy')\n",
    "print(scores)"
   ]
  },
  {
   "cell_type": "code",
   "execution_count": 62,
   "metadata": {
    "collapsed": false
   },
   "outputs": [
    {
     "name": "stdout",
     "output_type": "stream",
     "text": [
      "0.675171874823\n"
     ]
    }
   ],
   "source": [
    "# take the average of the scores\n",
    "print(scores.mean())"
   ]
  },
  {
   "cell_type": "markdown",
   "metadata": {
    "collapsed": true
   },
   "source": [
    "## Cross-validation example: parameter tuning"
   ]
  },
  {
   "cell_type": "markdown",
   "metadata": {},
   "source": [
    "**Goal**: Select the best tuning parameters (hyperparameters) for LogisticRegression on this dataset."
   ]
  },
  {
   "cell_type": "markdown",
   "metadata": {},
   "source": [
    "In other words, we want to choose the tuning parameters for Logistic Regression that best generalizes to the out-of-sample data. We will be using the C parameter to tune our model."
   ]
  },
  {
   "cell_type": "code",
   "execution_count": 64,
   "metadata": {
    "collapsed": false
   },
   "outputs": [
    {
     "name": "stdout",
     "output_type": "stream",
     "text": [
      "[0.67517187482349006, 0.66973503099645537, 0.66395094954048894, 0.66894781850894414, 0.66548488713903609, 0.66275071107665451, 0.66781201163157555, 0.6693593945562093, 0.66936535731667401, 0.66199799991312069, 0.66701729328640924, 0.66237962240586445]\n"
     ]
    }
   ],
   "source": [
    "# search for an optimal value of C for LogisticRegression\n",
    "c_vals = [1.0, 2.0, 3.0, 0.1, 0.5, 0.01, 0.05, 10, 20, 30, 40, 100]\n",
    "c_scores = []\n",
    "for c in c_vals:\n",
    "    logreg = LogisticRegression(C=c)\n",
    "    scores = cross_val_score(logreg, df_X, df_y, cv=10, scoring='accuracy')\n",
    "    c_scores.append(scores.mean())\n",
    "print(c_scores)"
   ]
  },
  {
   "cell_type": "markdown",
   "metadata": {},
   "source": [
    "### More efficient parameter tuning using `GridSearchCV`"
   ]
  },
  {
   "cell_type": "code",
   "execution_count": null,
   "metadata": {
    "collapsed": true
   },
   "outputs": [],
   "source": []
  }
 ],
 "metadata": {
  "kernelspec": {
   "display_name": "Python 3",
   "language": "python",
   "name": "python3"
  },
  "language_info": {
   "codemirror_mode": {
    "name": "ipython",
    "version": 3
   },
   "file_extension": ".py",
   "mimetype": "text/x-python",
   "name": "python",
   "nbconvert_exporter": "python",
   "pygments_lexer": "ipython3",
   "version": "3.6.0"
  }
 },
 "nbformat": 4,
 "nbformat_minor": 2
}
