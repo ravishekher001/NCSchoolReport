{
 "cells": [
  {
   "cell_type": "markdown",
   "metadata": {},
   "source": [
    "Let's start by importing the libraries and class that we will need."
   ]
  },
  {
   "cell_type": "code",
   "execution_count": 1,
   "metadata": {
    "collapsed": false
   },
   "outputs": [
    {
     "name": "stderr",
     "output_type": "stream",
     "text": [
      "/Users/Shravan/anaconda/lib/python3.6/site-packages/sklearn/cross_validation.py:44: DeprecationWarning: This module was deprecated in version 0.18 in favor of the model_selection module into which all the refactored classes and functions are moved. Also note that the interface of the new CV iterators are different from that of this module. This module will be removed in 0.20.\n",
      "  \"This module will be removed in 0.20.\", DeprecationWarning)\n"
     ]
    }
   ],
   "source": [
    "#ignore warnings\n",
    "import warnings\n",
    "warnings.filterwarnings(\"ignore\")\n",
    "\n",
    "#import required Libraries\n",
    "import pandas as pd\n",
    "import numpy as np\n",
    "\n",
    "import os \n",
    "pd.set_option('display.max_colwidth', -1)\n",
    "import requests\n",
    "import io\n",
    "\n",
    "# Import the stats library\n",
    "from scipy import stats\n",
    "\n",
    "import statsmodels.api as sm\n",
    "\n",
    "# These are the plotting libraries we'll use:\n",
    "import matplotlib as mpl\n",
    "import matplotlib.pyplot as plt\n",
    "import matplotlib.mlab as mlab\n",
    "plt.style.use(\"classic\")\n",
    "import seaborn as sns\n",
    "\n",
    "#Machine learning\n",
    "from sklearn import linear_model\n",
    "from sklearn.cross_validation import train_test_split\n",
    "from sklearn.metrics import mean_squared_error, r2_score\n",
    "from sklearn.metrics import accuracy_score\n",
    "\n",
    "\n",
    "# Command for plots to appear in the iPython Notebook\n",
    "%matplotlib inline"
   ]
  },
  {
   "cell_type": "markdown",
   "metadata": {},
   "source": [
    "Next, let's import the pickeled dataset"
   ]
  },
  {
   "cell_type": "code",
   "execution_count": 2,
   "metadata": {
    "collapsed": true
   },
   "outputs": [],
   "source": [
    "modelingdata = pd.read_pickle('modelingdata.pickle')"
   ]
  },
  {
   "cell_type": "code",
   "execution_count": 3,
   "metadata": {
    "collapsed": false
   },
   "outputs": [
    {
     "data": {
      "text/plain": [
       "(2579, 268)"
      ]
     },
     "execution_count": 3,
     "metadata": {},
     "output_type": "execute_result"
    }
   ],
   "source": [
    "modelingdata.shape"
   ]
  },
  {
   "cell_type": "markdown",
   "metadata": {},
   "source": [
    "The first step in ML is for the model to learn the relationship between the features and the response. Our first task is make sure that the features and the response are in the form that scikit-learn expects. There are 4 key requirements to keep in mind, which are as follows:\n",
    "\n",
    "1. Features and response are separate objects.\n",
    "2. Features and response should be numeric\n",
    "3. Features and response should be NumPy arrays.\n",
    "4. Features and response should have specific shapes."
   ]
  },
  {
   "cell_type": "markdown",
   "metadata": {},
   "source": [
    "In order to meet our first requirement, we need to break up the dataframe into features and response."
   ]
  },
  {
   "cell_type": "code",
   "execution_count": 4,
   "metadata": {
    "collapsed": false
   },
   "outputs": [
    {
     "name": "stdout",
     "output_type": "stream",
     "text": [
      "X shape before \n",
      "(2579, 268)\n",
      "X shape after \n",
      "(2579, 267)\n",
      "Y shape after \n",
      "(2579,)\n"
     ]
    }
   ],
   "source": [
    "# Create feature object\n",
    "df_X = modelingdata.copy()\n",
    "# Create target = Y\n",
    "df_y = df_X.summer_program_flg\n",
    "\n",
    "print('X shape before ')\n",
    "print(df_X.shape)\n",
    "\n",
    "#drop the response column from the x dataset\n",
    "df_X.pop('summer_program_flg')\n",
    "\n",
    "print('X shape after ')\n",
    "print(df_X.shape)\n",
    "print('Y shape after ')\n",
    "print(df_y.shape)"
   ]
  },
  {
   "cell_type": "markdown",
   "metadata": {},
   "source": [
    "Second requirement is that scikit-learn is only expecting to see numbers. So we need to convert the non-numeric features to dummy-encoded features. "
   ]
  },
  {
   "cell_type": "code",
   "execution_count": 5,
   "metadata": {
    "collapsed": false
   },
   "outputs": [
    {
     "name": "stdout",
     "output_type": "stream",
     "text": [
      "Index(['grades_1_to_1_access', 'type_cd_txt', 'Reading SPG Grade', 'Byod',\n",
      "       'Grad_project_status', 'esea_status', 'school_type_txt',\n",
      "       'Math SPG Grade', 'Closed_Ind_Text', 'category_cd', 'state_ad',\n",
      "       '1_to_1_access', 'grades_BYOD', 'State Gap Compared',\n",
      "       'EVAAS Growth Status', 'calendar_only_txt', 'SPG Grade', 'New_ind_Txt',\n",
      "       'Overall_Achievement_Score_bins'],\n",
      "      dtype='object')\n",
      "['summer_program_flg']\n",
      "['avg_age_media_collection', 'Read Score', 'Avg_State_Size_EnglishII', 'lea_cte_courses', 'szip_ad', 'st_wap_num', 'sat_participation_pct', 'st_total_specialized_courses', 'Avg_Dist_Size_04', 'st_supplies_expense_pct', 'RETAINED_School_Pct', 'Avg_Class_Size_07', 'services_expense_pct', 'st_long_susp_per_c_num', 'Avg_Class_Size_04', 'st_prinyrs_0thru3_pct', 'st_emer_prov_teach_pct', 'other_expense_pct', 'Avg_Class_Size_00', 'GCE_ALL_School_Pct', 'st_wap_per_classroom', 'lea_sat_participation_pct', 'books_per_student', 'Avg_Class_Size_Biology', 'GCE_RPF_School_Pct', 'tchyrs_0thru3_pct', 'st_short_susp_per_c_num', 'lea_avg_daily_attend_pct', 'st_highqual_class_lp_pct', 'lea_emer_prov_teach_pct', 'st_crime_per_c_num', 'st_flicensed_teach_pct', 'Avg_Dist_Size_07', 'Avg_Dist_Size_06', 'st_stud_internet_comp_num', 'Tch_Exp_Pct_10+_Years', 'Avg_Dist_Size_01', 'Avg_Dist_Size_02', 'highqual_class_pct', 'lea_univ_college_courses', 'lea_wap_num', 'Dist_Tch_Exp_Pct_10+_Years', 'GCE_RPF_Dist_Pct', 'lea_nbpts_num', 'Avg_Class_Size_06', 'lea_tchyrs_4thru10_pct', 'cte_courses', 'st_total_expense_num', 'Avg_Dist_Size_MathI', 'lea_ib_pct_4_or_above', 'Dist_Tch_Exp_Pct_0_3_Years', 'st_class_teach_num', 'Avg_Class_Size_EnglishII', 'Avg_State_Size_02', 'st_federal_perpupil_num', 'lea_ap_participation_pct', 'lea_total_expense_num', 'GCE_SWD_State_Pct', 'lea_ap_ib_courses', 'State_Prin_Exp_Pct_0_3_Years', 'stem_flg', 'total_specialized_courses', 'ACT WorkKeys Score', 'lea_tchyrs_11plus_pct', '_1yr_tchr_trnovr_pct', 'Avg_Dist_Size_03', 'st_salary_expense_pct', 'State_Tch_Exp_Pct_4_10_Years', 'student_num', 'lea_highqual_class_all_pct', 'st_lateral_teach_pct', 'lea_not_highqual_class_hp_pct', 'PASSED_LAA_State_Pct', 'Avg_State_Size_04', 'st_univ_college_courses', 'instruct_equip_exp_pct', 'st_prinyrs_4thru10_pct', 'ap_pct_3_or_above', 'lea_tchyrs_0thru3_pct', 'lea_crime_per_c_num', 'GCE_ALL_State_Pct', 'st_tchyrs_4thru10_pct', 'PASSED_RTA_Dist_Pct', 'univ_college_courses', 'Dist_Prin_Exp_Pct_4_10_Years', 'st_highqual_class_pct', 'lea_avg_age_media_collection', 'GCE_SWD_Dist_Pct', 'State_Prin_Exp_Pct_4_10_Years', 'RETAINED_State_Pct', 'PROMOTED_Dist_Pct', 'Math Score', 'PASSED_LAA_School_Pct', 'st_prin_white_pct', 'Avg_State_Size_07', 'long_susp_per_c_num', 'lea_services_expense_pct', 'lea_avg_student_num', 'clp_ind_flg', 'st_ap_pct_3_or_above', 'Math I Score', 'st_prin_black_pct', 'stud_internet_comp_num', 'Dist_Tch_Exp_Pct_4_10_Years', 'nat_sat_participation_pct', 'lea_short_susp_per_c_num', 'lea_books_per_student', 'sat_avg_score_num', 'total_expense_num', 'lea_stud_internet_comp_num', 'lea_sat_avg_score_num', 'Year', 'st_nbpts_num', 'st_highqual_class_all_pct', 'GCE_SWD_School_Pct', 'st_state_perpupil_num', 'State_Tch_Exp_Pct_10+_Years', 'lea_flicensed_teach_pct', 'lea_expelled_per_c_num', 'One_Yr_College_Complete_wi_2_yrs_Enrolled_2012', 'title1_type_flg', 'lea_state_perpupil_num', 'avg_daily_attend_pct', 'Avg_State_Size_06', 'Avg_Class_Size_02', 'PASSED_EOG_State_Pct', 'State_Tch_Exp_Pct_0_3_Years', 'focus_clp_flg', 'lea_other_expense_pct', 'EVAAS Growth Score', 'sch_percent_college_enrolled_16_mos_post_grad', 'AP_Courses_Offered', 'salary_expense_pct', 'PASSED_EOG_Dist_Pct', 'nat_sat_avg_score_num', 'st_prin_advance_dgr_pct', 'ap_participation_pct', 'digital_media_pct', 'Avg_Class_Size_03', 'st_cte_courses', 'Avg_State_Size_Biology', 'wap_num', 'ap_ib_courses', 'Cohort Graduation Rate Standard Score', 'Tch_Exp_Pct_4_10_Years', 'st_ap_ib_courses', 'Avg_Dist_Size_08', 'st_1yr_tchr_trnovr_pct', 'lea_not_highqual_class_all_pct', 'st_prinyrs_11plus_pct', 'Math SPG Score', 'Tch_Exp_Pct_0_3_Years', 'lea_local_perpupil_num', 'st_prin_male_pct', 'lea_1yr_tchr_trnovr_pct', 'class_teach_num', 'lea_ap_pct_3_or_above', 'st_sat_avg_score_num', 'Avg_State_Size_08', 'lea_class_teach_num', 'Avg_State_Size_03', 'crime_per_c_num', 'The ACT Score', 'st_instruct_equip_exp_pct', 'benefits_expense_pct', 'st_prin_female_pct', 'Avg_State_Size_MathI', 'lea_supplies_expense_pct', 'Avg_Class_Size_08', 'st_ap_participation_pct', 'Avg_Dist_Size_Biology', 'st_advance_dgr_pct', 'st_not_highqual_class_hp_pct', 'Avg_Dist_Size_EnglishII', 'lateral_teach_pct', 'st_expelled_per_c_num', 'st_sat_participation_pct', 'st_benefits_expense_pct', 'lea_not_highqual_class_lp_pct', 'lea_total_specialized_courses', 'PROMOTED_School_Pct', 'Science Score', 'Avg_Dist_Size_00', 'Reading  SPG Score', 'lea_highqual_class_hp_pct', 'SPG Score', 'lea_wap_per_classroom', 'short_susp_per_c_num', 'tchyrs_4thru10_pct', 'st_avg_student_num', 'st_highqual_class_hp_pct', 'Dist_Prin_Exp_Pct_10+_Years', 'tchyrs_11plus_pct', 'lea_instruct_equip_exp_pct', 'local_perpupil_num', 'state_perpupil_num', 'federal_perpupil_num', 'Avg_State_Size_05', 'st_not_highqual_class_all_pct', 'lea_highqual_class_lp_pct', 'Avg_State_Size_01', 'nbpts_num', 'PROMOTED_State_Pct', 'st_avg_age_media_collection', 'st_1yr_prin_trnovr_pct', 'Avg_Class_Size_MathI', 'st_other_expense_pct', 'no_data_spg_flg', 'lea_highqual_class_pct', 'State_Prin_Exp_Pct_10+_Years', 'st_books_per_student', 'flicensed_teach_pct', 'st_prin_other_pct', 'st_tchyrs_0thru3_pct', 'st_services_expense_pct', 'lea_long_susp_per_c_num', 'lea_federal_perpupil_num', 'Avg_Dist_Size_05', 'st_local_perpupil_num', 'Dist_Prin_Exp_Pct_0_3_Years', 'Overall Achievement Score', 'supplies_expense_pct', 'lea_salary_expense_pct', 'wap_per_classroom', 'PASSED_LAA_Dist_Pct', 'Biology Score', 'st_tchyrs_11plus_pct', 'GCE_ALL_Dist_Pct', 'Math Course Rigor Score', 'expelled_per_c_num', 'PASSED_EOG_School_Pct', 'Avg_Class_Size_05', 'lea_advance_dgr_pct', 'asm_no_spg_flg', 'lea_lateral_teach_pct', 'RETAINED_Dist_Pct', 'emer_prov_teach_pct', 'st_ib_pct_4_or_above', 'st_avg_daily_attend_pct', 'lea_benefits_expense_pct', 'advance_dgr_pct', 'Avg_State_Size_00', 'English II Score', 'Avg_Class_Size_01', 'st_not_highqual_class_lp_pct', 'SchoolWeightedScore', 'grades_1_to_1_access_-', 'grades_1_to_1_access_10:11:12', 'grades_1_to_1_access_11:12:13', 'grades_1_to_1_access_3', 'grades_1_to_1_access_3:04:05', 'grades_1_to_1_access_4', 'grades_1_to_1_access_4:05', 'grades_1_to_1_access_4:05:06', 'grades_1_to_1_access_4:5:6:7:8:9:10:11:12', 'grades_1_to_1_access_5', 'grades_1_to_1_access_5:06', 'grades_1_to_1_access_5:06:07', 'grades_1_to_1_access_5:6:7:8:9:10:11:12', 'grades_1_to_1_access_6', 'grades_1_to_1_access_6:07', 'grades_1_to_1_access_6:07:08', 'grades_1_to_1_access_6:08', 'grades_1_to_1_access_6:7:8:9', 'grades_1_to_1_access_6:7:8:9:10', 'grades_1_to_1_access_6:7:8:9:10:11:12', 'grades_1_to_1_access_6:7:8:9:10:11:12:13', 'grades_1_to_1_access_7', 'grades_1_to_1_access_7:08', 'grades_1_to_1_access_8', 'grades_1_to_1_access_8:09', 'grades_1_to_1_access_8:9:10:11:12', 'grades_1_to_1_access_9', 'grades_1_to_1_access_9:10', 'grades_1_to_1_access_9:10:11', 'grades_1_to_1_access_9:10:11:12', 'grades_1_to_1_access_9:10:11:12:13', 'grades_1_to_1_access_9:10:12', 'grades_1_to_1_access_9:12', 'grades_1_to_1_access_K:1:2:3', 'grades_1_to_1_access_K:1:2:3:4:5', 'grades_1_to_1_access_K:1:2:3:4:5:6:7:8', 'grades_1_to_1_access_PK', 'type_cd_txt_Charter', 'type_cd_txt_Public', 'Reading SPG Grade_A', 'Reading SPG Grade_B', 'Reading SPG Grade_C', 'Reading SPG Grade_D', 'Reading SPG Grade_F', 'Byod_-', 'Byod_No', 'Byod_Yes', 'Grad_project_status_N', 'Grad_project_status_Y', 'esea_status_F', 'esea_status_P', 'school_type_txt_Alternative Education', 'school_type_txt_Hospital School', 'school_type_txt_Magnet School', 'school_type_txt_Regular School', 'school_type_txt_Special Education', 'school_type_txt_Vocational Education', 'Math SPG Grade_A', 'Math SPG Grade_B', 'Math SPG Grade_C', 'Math SPG Grade_D', 'Math SPG Grade_F', 'Closed_Ind_Text_Open', 'category_cd_A', 'category_cd_E', 'category_cd_H', 'category_cd_I', 'category_cd_M', 'category_cd_T', 'state_ad_NC', '1_to_1_access_No', '1_to_1_access_Yes', 'grades_BYOD_-', 'grades_BYOD_11:12', 'grades_BYOD_1:2:3:4:5', 'grades_BYOD_1:3:4:5', 'grades_BYOD_2:03:04', 'grades_BYOD_2:3:4:5', 'grades_BYOD_2:3:4:5:6:7:8', 'grades_BYOD_3', 'grades_BYOD_3:04', 'grades_BYOD_3:04:05', 'grades_BYOD_3:4:5:6', 'grades_BYOD_3:4:5:6:7:8', 'grades_BYOD_3:4:5:6:7:8:9:10', 'grades_BYOD_3:4:5:6:7:8:9:10:11:12', 'grades_BYOD_4', 'grades_BYOD_4:05', 'grades_BYOD_4:05:06', 'grades_BYOD_4:5:6:7:8', 'grades_BYOD_5', 'grades_BYOD_5:06', 'grades_BYOD_5:6:7:8', 'grades_BYOD_6', 'grades_BYOD_6:07', 'grades_BYOD_6:07:08', 'grades_BYOD_6:08', 'grades_BYOD_6:7:8:9:10', 'grades_BYOD_6:7:8:9:10:11', 'grades_BYOD_6:7:8:9:10:11:12', 'grades_BYOD_6:7:8:9:10:11:12:13', 'grades_BYOD_6:7:8:9:11:12', 'grades_BYOD_7', 'grades_BYOD_7:08', 'grades_BYOD_7:8:9:10:11:12', 'grades_BYOD_8:09', 'grades_BYOD_8:9:10:11:12', 'grades_BYOD_9:10', 'grades_BYOD_9:10:11', 'grades_BYOD_9:10:11:12', 'grades_BYOD_9:10:11:12:13', 'grades_BYOD_9:11:12', 'grades_BYOD_K:1:2:3:4', 'grades_BYOD_K:1:2:3:4:5', 'grades_BYOD_K:1:2:3:4:5:6', 'grades_BYOD_K:1:2:3:4:5:6:7:8', 'grades_BYOD_K:1:2:3:4:5:6:7:8:9:10:11:12', 'grades_BYOD_K:1:2:3:4:5:6:7:8:9:10:11:12:13', 'grades_BYOD_K:1:2:4:5', 'grades_BYOD_K:1:2:4:6', 'grades_BYOD_K:3:4', 'grades_BYOD_PK:5', 'grades_BYOD_PK:9:10:11:12', 'grades_BYOD_PK:K:1:2:3', 'grades_BYOD_PK:K:1:2:3:4', 'grades_BYOD_PK:K:1:2:3:4:5', 'grades_BYOD_PK:K:1:2:3:4:5:6:7', 'grades_BYOD_PK:K:1:2:3:4:5:6:7:8', 'grades_BYOD_PK:K:1:2:3:4:5:6:7:8:9:10:11:12:13', 'grades_BYOD_PK:K:1:2:3:4:5:7:8', 'State Gap Compared_N', 'State Gap Compared_Y', 'EVAAS Growth Status_Exceeded', 'EVAAS Growth Status_Met', 'EVAAS Growth Status_NotMet', 'calendar_only_txt_Traditional Calendar', 'calendar_only_txt_Traditional Calendar plus Year-Round Calendar', 'calendar_only_txt_Year-Round Calendar', 'SPG Grade_A', 'SPG Grade_A+NG', 'SPG Grade_B', 'SPG Grade_C', 'SPG Grade_D', 'SPG Grade_F', 'SPG Grade_I', 'New_ind_Txt_School Is Not New', 'Overall_Achievement_Score_bins_<40', 'Overall_Achievement_Score_bins_40-54', 'Overall_Achievement_Score_bins_55-69', 'Overall_Achievement_Score_bins_70-84', 'Overall_Achievement_Score_bins_85-100']\n"
     ]
    }
   ],
   "source": [
    "def dummy_Create(df):\n",
    "    schoolDataFinal = df.copy()\n",
    "    SchoolDataCat = schoolDataFinal.loc[:,(schoolDataFinal.dtypes == bool)| (schoolDataFinal.dtypes == object) |(schoolDataFinal.dtypes == 'category')]#.columnscategory\n",
    "    # drop the two street address columns\n",
    "    try: \n",
    "        SchoolDataCat.pop('street_ad')\n",
    "        SchoolDataCat.pop('scity_ad')\n",
    "    except Exception as e:\n",
    "        print(e.args)\n",
    "    print(SchoolDataCat.columns)\n",
    "    cat_vars=SchoolDataCat.columns\n",
    "    for var in cat_vars:\n",
    "        cat_list='var'+'_'+var\n",
    "        cat_list = pd.get_dummies(schoolDataFinal[var], prefix=var)\n",
    "        df=pd.concat([df,cat_list], axis=1)\n",
    "    data=df\n",
    "    cat_vars=SchoolDataCat.columns\n",
    "    data_vars=data.columns.values.tolist()\n",
    "    \n",
    "    to_keep=[i for i in data_vars if i not in cat_vars]\n",
    "\n",
    "    ## Final data columns\n",
    "    data_final=data[to_keep]\n",
    "    try:\n",
    "        data_final.pop('street_ad')\n",
    "        data_final.pop('scity_ad')\n",
    "    except Exception as e:\n",
    "        print(e.args)\n",
    "    data_final.columns.values\n",
    "    data_final_vars=data_final.columns.values.tolist()\n",
    "    #return(SchoolDataCat)\n",
    "    y=['summer_program_flg']\n",
    "    X=[i for i in data_final_vars if i not in y]\n",
    " \n",
    "    list(data_final_vars)\n",
    "    print(y)\n",
    "    print(X)\n",
    "    return(data_final.abs())\n",
    "    \n",
    "df_X = dummy_Create(df_X)"
   ]
  },
  {
   "cell_type": "code",
   "execution_count": 6,
   "metadata": {
    "collapsed": false
   },
   "outputs": [
    {
     "name": "stdout",
     "output_type": "stream",
     "text": [
      "(2579, 397)\n",
      "(2579,)\n"
     ]
    }
   ],
   "source": [
    "print(df_X.shape)\n",
    "print(df_y.shape)"
   ]
  },
  {
   "cell_type": "markdown",
   "metadata": {},
   "source": [
    "Let's see the class distribution"
   ]
  },
  {
   "cell_type": "code",
   "execution_count": 7,
   "metadata": {
    "collapsed": false
   },
   "outputs": [
    {
     "data": {
      "text/plain": [
       " 0    1702\n",
       "-1    877 \n",
       "Name: summer_program_flg, dtype: int64"
      ]
     },
     "execution_count": 7,
     "metadata": {},
     "output_type": "execute_result"
    }
   ],
   "source": [
    "df_y.value_counts()"
   ]
  },
  {
   "cell_type": "markdown",
   "metadata": {},
   "source": [
    "There is some imbalance of the class variable, with 66% belonging to class 0 and 34% belonging to class 1. Whenever we have class imbalance, it might be useful to calculate the accuracy of the **Null Model** - that is, what if our estimator always predicted the majority class ? "
   ]
  },
  {
   "cell_type": "code",
   "execution_count": 8,
   "metadata": {
    "collapsed": false
   },
   "outputs": [
    {
     "data": {
      "text/plain": [
       "0.6599457153935634"
      ]
     },
     "execution_count": 8,
     "metadata": {},
     "output_type": "execute_result"
    }
   ],
   "source": [
    "max(abs(df_y.mean()), 1 - abs(df_y.mean()))"
   ]
  },
  {
   "cell_type": "markdown",
   "metadata": {},
   "source": [
    "### Create a logistic regression model and a support vector machine model for the classification task involved with your dataset."
   ]
  },
  {
   "cell_type": "markdown",
   "metadata": {},
   "source": [
    "### Assess how well each model performs (use 80/20 training/testing split for your data)"
   ]
  },
  {
   "cell_type": "markdown",
   "metadata": {},
   "source": [
    "Let's start by building a Logistic regression model for predicting summer_program_flg (?) using all the features."
   ]
  },
  {
   "cell_type": "code",
   "execution_count": 9,
   "metadata": {
    "collapsed": true
   },
   "outputs": [],
   "source": [
    "# STEP 1: split df_X and df_y into training and testing sets\n",
    "from sklearn.model_selection import train_test_split\n",
    "df_X_train, df_X_test, df_y_train, df_y_test = train_test_split(df_X, df_y, test_size=0.2, random_state=4)"
   ]
  },
  {
   "cell_type": "code",
   "execution_count": 10,
   "metadata": {
    "collapsed": false
   },
   "outputs": [
    {
     "name": "stdout",
     "output_type": "stream",
     "text": [
      "(2063, 397)\n",
      "(516, 397)\n"
     ]
    }
   ],
   "source": [
    "print(df_X_train.shape)\n",
    "print(df_X_test.shape)"
   ]
  },
  {
   "cell_type": "code",
   "execution_count": 11,
   "metadata": {
    "collapsed": false
   },
   "outputs": [
    {
     "name": "stdout",
     "output_type": "stream",
     "text": [
      "(2063,)\n",
      "(516,)\n"
     ]
    }
   ],
   "source": [
    "print(df_y_train.shape)\n",
    "print(df_y_test.shape)"
   ]
  },
  {
   "cell_type": "code",
   "execution_count": 12,
   "metadata": {
    "collapsed": false
   },
   "outputs": [
    {
     "data": {
      "text/plain": [
       "LogisticRegression(C=1.0, class_weight=None, dual=False, fit_intercept=True,\n",
       "          intercept_scaling=1, max_iter=100, multi_class='ovr', n_jobs=1,\n",
       "          penalty='l2', random_state=None, solver='liblinear', tol=0.0001,\n",
       "          verbose=0, warm_start=False)"
      ]
     },
     "execution_count": 12,
     "metadata": {},
     "output_type": "execute_result"
    }
   ],
   "source": [
    "# STEP 2: train the model on the training set\n",
    "from sklearn.linear_model import LogisticRegression\n",
    "logreg = LogisticRegression()\n",
    "logreg.fit(df_X_train, df_y_train)"
   ]
  },
  {
   "cell_type": "code",
   "execution_count": 13,
   "metadata": {
    "collapsed": true
   },
   "outputs": [],
   "source": [
    "# STEP 3: make predictions on the testing set\n",
    "y_pred = logreg.predict(df_X_test)"
   ]
  },
  {
   "cell_type": "code",
   "execution_count": 14,
   "metadata": {
    "collapsed": false
   },
   "outputs": [
    {
     "name": "stdout",
     "output_type": "stream",
     "text": [
      "0.72480620155\n"
     ]
    }
   ],
   "source": [
    "# Compute the prediction accuracy\n",
    "from sklearn import metrics\n",
    "print(metrics.accuracy_score(df_y_test, y_pred))"
   ]
  },
  {
   "cell_type": "code",
   "execution_count": 15,
   "metadata": {
    "collapsed": false
   },
   "outputs": [
    {
     "name": "stdout",
     "output_type": "stream",
     "text": [
      "0.225779159112\n"
     ]
    }
   ],
   "source": [
    "# Calculate predicted probabilities \n",
    "y_pred_prob = logreg.predict_proba(df_X_test)[:,1]\n",
    "\n",
    "neg_df_y_test = -df_y_test\n",
    "\n",
    "# Calculate AUC\n",
    "print(metrics.roc_auc_score(neg_df_y_test, y_pred_prob))"
   ]
  },
  {
   "cell_type": "markdown",
   "metadata": {},
   "source": [
    "### SVM"
   ]
  },
  {
   "cell_type": "code",
   "execution_count": 16,
   "metadata": {
    "collapsed": true
   },
   "outputs": [],
   "source": [
    "# STEP 1: split df_X and df_y into training and testing sets\n",
    "from sklearn.model_selection import train_test_split\n",
    "df_X_train, df_X_test, df_y_train, df_y_test = train_test_split(df_X, df_y, test_size=0.2, random_state=4)"
   ]
  },
  {
   "cell_type": "code",
   "execution_count": 17,
   "metadata": {
    "collapsed": false
   },
   "outputs": [
    {
     "data": {
      "text/plain": [
       "SVC(C=1.0, cache_size=200, class_weight=None, coef0=0.0,\n",
       "  decision_function_shape=None, degree=3, gamma='auto', kernel='rbf',\n",
       "  max_iter=-1, probability=False, random_state=None, shrinking=True,\n",
       "  tol=0.001, verbose=False)"
      ]
     },
     "execution_count": 17,
     "metadata": {},
     "output_type": "execute_result"
    }
   ],
   "source": [
    "# STEP 2: train the model on the training set\n",
    "from sklearn.svm import SVC\n",
    "svc = SVC()\n",
    "svc.fit(df_X_train, df_y_train)"
   ]
  },
  {
   "cell_type": "code",
   "execution_count": 18,
   "metadata": {
    "collapsed": true
   },
   "outputs": [],
   "source": [
    "# STEP 3: make predictions on the testing set\n",
    "y_pred_svc = svc.predict(df_X_test)"
   ]
  },
  {
   "cell_type": "code",
   "execution_count": 19,
   "metadata": {
    "collapsed": false
   },
   "outputs": [
    {
     "name": "stdout",
     "output_type": "stream",
     "text": [
      "0.68023255814\n"
     ]
    }
   ],
   "source": [
    "# Compute the prediction accuracy\n",
    "from sklearn import metrics\n",
    "print(metrics.accuracy_score(df_y_test, y_pred_svc))"
   ]
  },
  {
   "cell_type": "markdown",
   "metadata": {},
   "source": [
    "### Tuning SVM"
   ]
  },
  {
   "cell_type": "markdown",
   "metadata": {},
   "source": [
    "We can tune two key parameters of the SVM algorithm, the value of C (how much to relax the margin) and the type of kernel. The default for SVM (the SVC class) is to use the Radial Basis Function (RBF) kernel with a C value set to 1.0. We will use `linear` kernel and vary the C value to see if that improves our model."
   ]
  },
  {
   "cell_type": "code",
   "execution_count": 20,
   "metadata": {
    "collapsed": false
   },
   "outputs": [
    {
     "name": "stdout",
     "output_type": "stream",
     "text": [
      "0.718992248062\n"
     ]
    }
   ],
   "source": [
    "# Train the model with kerner = `linear` and default C value.\n",
    "svc = SVC(kernel='linear')\n",
    "svc.fit(df_X_train, df_y_train)\n",
    "y_pred_svc = svc.predict(df_X_test)\n",
    "print(metrics.accuracy_score(df_y_test, y_pred_svc))"
   ]
  },
  {
   "cell_type": "code",
   "execution_count": 21,
   "metadata": {
    "collapsed": false
   },
   "outputs": [
    {
     "name": "stdout",
     "output_type": "stream",
     "text": [
      "0.726744186047\n"
     ]
    }
   ],
   "source": [
    "# Train the model with kerner = `linear` and default C value.\n",
    "svc = SVC(C=1.5, kernel='linear')\n",
    "svc.fit(df_X_train, df_y_train)\n",
    "y_pred_svc = svc.predict(df_X_test)\n",
    "print(metrics.accuracy_score(df_y_test, y_pred_svc))"
   ]
  },
  {
   "cell_type": "markdown",
   "metadata": {},
   "source": [
    "## Comparing Logistic Regression with SVM"
   ]
  },
  {
   "cell_type": "markdown",
   "metadata": {},
   "source": [
    "The key to a fair comparison of machine learning algorithms is ensuring that each algorithm is evaluated in the same way on the same data. We can achieve this by forcing each algorithm to be evaluated on a consistent test harness. "
   ]
  },
  {
   "cell_type": "code",
   "execution_count": 22,
   "metadata": {
    "collapsed": false
   },
   "outputs": [
    {
     "name": "stdout",
     "output_type": "stream",
     "text": [
      "LogReg: 0.724806\n",
      "LogReg_C2: 0.728682\n",
      "LogReg_C10: 0.715116\n",
      "SVM: 0.680233\n",
      "SVM_Kernel_linear: 0.718992\n",
      "SVM_Kernel_linear_C1.5: 0.726744\n"
     ]
    }
   ],
   "source": [
    "# prepare models\n",
    "models = []\n",
    "models.append((\"LogReg\", LogisticRegression()))\n",
    "models.append((\"LogReg_C2\", LogisticRegression(C=2)))\n",
    "models.append((\"LogReg_C10\", LogisticRegression(C=10)))\n",
    "models.append((\"SVM\", SVC()))\n",
    "models.append((\"SVM_Kernel_linear\", SVC(kernel='linear')))\n",
    "models.append((\"SVM_Kernel_linear_C1.5\", SVC(C=1.5, kernel='linear')))\n",
    "\n",
    "# declare results\n",
    "results = []\n",
    "\n",
    "# declare names to hold model names\n",
    "names = []\n",
    "\n",
    "for name, model in models:\n",
    "    model.fit(df_X_train, df_y_train)\n",
    "    y_pred = model.predict(df_X_test)\n",
    "    accuracy = metrics.accuracy_score(df_y_test, y_pred)\n",
    "    results.append(accuracy)\n",
    "    names.append(name)\n",
    "    print(\"%s: %f\" %(name, accuracy))\n",
    "    "
   ]
  },
  {
   "cell_type": "code",
   "execution_count": 23,
   "metadata": {
    "collapsed": false
   },
   "outputs": [
    {
     "data": {
      "text/plain": [
       "[<matplotlib.text.Text at 0x11394fe80>,\n",
       " <matplotlib.text.Text at 0x1139541d0>,\n",
       " <matplotlib.text.Text at 0x113979da0>,\n",
       " <matplotlib.text.Text at 0x11398a898>,\n",
       " <matplotlib.text.Text at 0x112bd33c8>,\n",
       " <matplotlib.text.Text at 0x112bd3eb8>]"
      ]
     },
     "execution_count": 23,
     "metadata": {},
     "output_type": "execute_result"
    },
    {
     "data": {
      "image/png": "[encoded data removed]",
      "text/plain": [
       "<matplotlib.figure.Figure at 0x11254f1d0>"
      ]
     },
     "metadata": {},
     "output_type": "display_data"
    }
   ],
   "source": [
    "import matplotlib.pyplot as plt\n",
    "fig = plt.figure()\n",
    "fig.suptitle('Model comparision')\n",
    "ax = fig.add_subplot(111)\n",
    "plt.plot(results)\n",
    "ax.set_xticklabels(names, rotation='15')"
   ]
  },
  {
   "cell_type": "code",
   "execution_count": null,
   "metadata": {
    "collapsed": true
   },
   "outputs": [],
   "source": []
  },
  {
   "cell_type": "code",
   "execution_count": null,
   "metadata": {
    "collapsed": true
   },
   "outputs": [],
   "source": []
  }
 ],
 "metadata": {
  "anaconda-cloud": {},
  "kernelspec": {
   "display_name": "Python 3",
   "language": "python",
   "name": "python3"
  },
  "language_info": {
   "codemirror_mode": {
    "name": "ipython",
    "version": 3
   },
   "file_extension": ".py",
   "mimetype": "text/x-python",
   "name": "python",
   "nbconvert_exporter": "python",
   "pygments_lexer": "ipython3",
   "version": "3.6.0"
  }
 },
 "nbformat": 4,
 "nbformat_minor": 2
}
