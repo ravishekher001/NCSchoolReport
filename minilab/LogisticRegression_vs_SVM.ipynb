{
 "cells": [
  {
   "cell_type": "markdown",
   "metadata": {},
   "source": [
    "Let's start by importing the libraries and class that we will need."
   ]
  },
  {
   "cell_type": "code",
   "execution_count": 1,
   "metadata": {
    "collapsed": false
   },
   "outputs": [
    {
     "name": "stderr",
     "output_type": "stream",
     "text": [
      "/Users/Shravan/anaconda/lib/python3.6/site-packages/sklearn/cross_validation.py:44: DeprecationWarning: This module was deprecated in version 0.18 in favor of the model_selection module into which all the refactored classes and functions are moved. Also note that the interface of the new CV iterators are different from that of this module. This module will be removed in 0.20.\n",
      "  \"This module will be removed in 0.20.\", DeprecationWarning)\n"
     ]
    }
   ],
   "source": [
    "#ignore warnings\n",
    "import warnings\n",
    "warnings.filterwarnings(\"ignore\")\n",
    "\n",
    "#import required Libraries\n",
    "import pandas as pd\n",
    "import numpy as np\n",
    "\n",
    "import os \n",
    "pd.set_option('display.max_colwidth', -1)\n",
    "import requests\n",
    "import io\n",
    "\n",
    "# Import the stats library\n",
    "from scipy import stats\n",
    "\n",
    "import statsmodels.api as sm\n",
    "\n",
    "# These are the plotting libraries we'll use:\n",
    "import matplotlib as mpl\n",
    "import matplotlib.pyplot as plt\n",
    "import matplotlib.mlab as mlab\n",
    "plt.style.use(\"classic\")\n",
    "import seaborn as sns\n",
    "\n",
    "#Machine learning\n",
    "from sklearn import linear_model\n",
    "from sklearn.cross_validation import train_test_split\n",
    "from sklearn.metrics import mean_squared_error, r2_score\n",
    "from sklearn.metrics import accuracy_score\n",
    "\n",
    "\n",
    "# Command for plots to appear in the iPython Notebook\n",
    "%matplotlib inline"
   ]
  },
  {
   "cell_type": "markdown",
   "metadata": {},
   "source": [
    "Next, let's import the pickeled dataset"
   ]
  },
  {
   "cell_type": "code",
   "execution_count": 2,
   "metadata": {
    "collapsed": true
   },
   "outputs": [],
   "source": [
    "modelingdata = pd.read_pickle('modelingdata.pickle')"
   ]
  },
  {
   "cell_type": "code",
   "execution_count": 3,
   "metadata": {
    "collapsed": false
   },
   "outputs": [
    {
     "data": {
      "text/plain": [
       "(2579, 268)"
      ]
     },
     "execution_count": 3,
     "metadata": {},
     "output_type": "execute_result"
    }
   ],
   "source": [
    "modelingdata.shape"
   ]
  },
  {
   "cell_type": "markdown",
   "metadata": {},
   "source": [
    "The first step in ML is for the model to learn the relationship between the features and the response. Our first task is make sure that the features and the response are in the form that scikit-learn expects. There are 4 key requirements to keep in mind, which are as follows:\n",
    "\n",
    "1. Features and response are separate objects.\n",
    "2. Features and response should be numeric\n",
    "3. Features and response should be NumPy arrays.\n",
    "4. Features and response should have specific shapes."
   ]
  },
  {
   "cell_type": "markdown",
   "metadata": {},
   "source": [
    "In order to meet our first requirement, we need to break up the dataframe into features and response."
   ]
  },
  {
   "cell_type": "code",
   "execution_count": 4,
   "metadata": {
    "collapsed": false
   },
   "outputs": [
    {
     "name": "stdout",
     "output_type": "stream",
     "text": [
      "X shape before \n",
      "(2579, 268)\n",
      "X shape after \n",
      "(2579, 267)\n",
      "Y shape after \n",
      "(2579,)\n"
     ]
    }
   ],
   "source": [
    "# Create feature object\n",
    "df_X = modelingdata.copy()\n",
    "# Create target = Y\n",
    "df_y = df_X.summer_program_flg\n",
    "\n",
    "print('X shape before ')\n",
    "print(df_X.shape)\n",
    "\n",
    "#drop the response column from the x dataset\n",
    "df_X.pop('summer_program_flg')\n",
    "\n",
    "print('X shape after ')\n",
    "print(df_X.shape)\n",
    "print('Y shape after ')\n",
    "print(df_y.shape)"
   ]
  },
  {
   "cell_type": "markdown",
   "metadata": {},
   "source": [
    "Second requirement is that scikit-learn is only expecting to see numbers. So we need to convert the non-numeric features to dummy-encoded features. "
   ]
  },
  {
   "cell_type": "code",
   "execution_count": 5,
   "metadata": {
    "collapsed": false
   },
   "outputs": [
    {
     "name": "stdout",
     "output_type": "stream",
     "text": [
      "Index(['grades_1_to_1_access', 'type_cd_txt', 'Reading SPG Grade', 'Byod',\n",
      "       'Grad_project_status', 'esea_status', 'school_type_txt',\n",
      "       'Math SPG Grade', 'Closed_Ind_Text', 'category_cd', 'state_ad',\n",
      "       '1_to_1_access', 'grades_BYOD', 'State Gap Compared',\n",
      "       'EVAAS Growth Status', 'calendar_only_txt', 'SPG Grade', 'New_ind_Txt',\n",
      "       'Overall_Achievement_Score_bins'],\n",
      "      dtype='object')\n",
      "['summer_program_flg']\n",
      "['avg_age_media_collection', 'Read Score', 'Avg_State_Size_EnglishII', 'lea_cte_courses', 'szip_ad', 'st_wap_num', 'sat_participation_pct', 'st_total_specialized_courses', 'Avg_Dist_Size_04', 'st_supplies_expense_pct', 'RETAINED_School_Pct', 'Avg_Class_Size_07', 'services_expense_pct', 'st_long_susp_per_c_num', 'Avg_Class_Size_04', 'st_prinyrs_0thru3_pct', 'st_emer_prov_teach_pct', 'other_expense_pct', 'Avg_Class_Size_00', 'GCE_ALL_School_Pct', 'st_wap_per_classroom', 'lea_sat_participation_pct', 'books_per_student', 'Avg_Class_Size_Biology', 'GCE_RPF_School_Pct', 'tchyrs_0thru3_pct', 'st_short_susp_per_c_num', 'lea_avg_daily_attend_pct', 'st_highqual_class_lp_pct', 'lea_emer_prov_teach_pct', 'st_crime_per_c_num', 'st_flicensed_teach_pct', 'Avg_Dist_Size_07', 'Avg_Dist_Size_06', 'st_stud_internet_comp_num', 'Tch_Exp_Pct_10+_Years', 'Avg_Dist_Size_01', 'Avg_Dist_Size_02', 'highqual_class_pct', 'lea_univ_college_courses', 'lea_wap_num', 'Dist_Tch_Exp_Pct_10+_Years', 'GCE_RPF_Dist_Pct', 'lea_nbpts_num', 'Avg_Class_Size_06', 'lea_tchyrs_4thru10_pct', 'cte_courses', 'st_total_expense_num', 'Avg_Dist_Size_MathI', 'lea_ib_pct_4_or_above', 'Dist_Tch_Exp_Pct_0_3_Years', 'st_class_teach_num', 'Avg_Class_Size_EnglishII', 'Avg_State_Size_02', 'st_federal_perpupil_num', 'lea_ap_participation_pct', 'lea_total_expense_num', 'GCE_SWD_State_Pct', 'lea_ap_ib_courses', 'State_Prin_Exp_Pct_0_3_Years', 'stem_flg', 'total_specialized_courses', 'ACT WorkKeys Score', 'lea_tchyrs_11plus_pct', '_1yr_tchr_trnovr_pct', 'Avg_Dist_Size_03', 'st_salary_expense_pct', 'State_Tch_Exp_Pct_4_10_Years', 'student_num', 'lea_highqual_class_all_pct', 'st_lateral_teach_pct', 'lea_not_highqual_class_hp_pct', 'PASSED_LAA_State_Pct', 'Avg_State_Size_04', 'st_univ_college_courses', 'instruct_equip_exp_pct', 'st_prinyrs_4thru10_pct', 'ap_pct_3_or_above', 'lea_tchyrs_0thru3_pct', 'lea_crime_per_c_num', 'GCE_ALL_State_Pct', 'st_tchyrs_4thru10_pct', 'PASSED_RTA_Dist_Pct', 'univ_college_courses', 'Dist_Prin_Exp_Pct_4_10_Years', 'st_highqual_class_pct', 'lea_avg_age_media_collection', 'GCE_SWD_Dist_Pct', 'State_Prin_Exp_Pct_4_10_Years', 'RETAINED_State_Pct', 'PROMOTED_Dist_Pct', 'Math Score', 'PASSED_LAA_School_Pct', 'st_prin_white_pct', 'Avg_State_Size_07', 'long_susp_per_c_num', 'lea_services_expense_pct', 'lea_avg_student_num', 'clp_ind_flg', 'st_ap_pct_3_or_above', 'Math I Score', 'st_prin_black_pct', 'stud_internet_comp_num', 'Dist_Tch_Exp_Pct_4_10_Years', 'nat_sat_participation_pct', 'lea_short_susp_per_c_num', 'lea_books_per_student', 'sat_avg_score_num', 'total_expense_num', 'lea_stud_internet_comp_num', 'lea_sat_avg_score_num', 'Year', 'st_nbpts_num', 'st_highqual_class_all_pct', 'GCE_SWD_School_Pct', 'st_state_perpupil_num', 'State_Tch_Exp_Pct_10+_Years', 'lea_flicensed_teach_pct', 'lea_expelled_per_c_num', 'One_Yr_College_Complete_wi_2_yrs_Enrolled_2012', 'title1_type_flg', 'lea_state_perpupil_num', 'avg_daily_attend_pct', 'Avg_State_Size_06', 'Avg_Class_Size_02', 'PASSED_EOG_State_Pct', 'State_Tch_Exp_Pct_0_3_Years', 'focus_clp_flg', 'lea_other_expense_pct', 'EVAAS Growth Score', 'sch_percent_college_enrolled_16_mos_post_grad', 'AP_Courses_Offered', 'salary_expense_pct', 'PASSED_EOG_Dist_Pct', 'nat_sat_avg_score_num', 'st_prin_advance_dgr_pct', 'ap_participation_pct', 'digital_media_pct', 'Avg_Class_Size_03', 'st_cte_courses', 'Avg_State_Size_Biology', 'wap_num', 'ap_ib_courses', 'Cohort Graduation Rate Standard Score', 'Tch_Exp_Pct_4_10_Years', 'st_ap_ib_courses', 'Avg_Dist_Size_08', 'st_1yr_tchr_trnovr_pct', 'lea_not_highqual_class_all_pct', 'st_prinyrs_11plus_pct', 'Math SPG Score', 'Tch_Exp_Pct_0_3_Years', 'lea_local_perpupil_num', 'st_prin_male_pct', 'lea_1yr_tchr_trnovr_pct', 'class_teach_num', 'lea_ap_pct_3_or_above', 'st_sat_avg_score_num', 'Avg_State_Size_08', 'lea_class_teach_num', 'Avg_State_Size_03', 'crime_per_c_num', 'The ACT Score', 'st_instruct_equip_exp_pct', 'benefits_expense_pct', 'st_prin_female_pct', 'Avg_State_Size_MathI', 'lea_supplies_expense_pct', 'Avg_Class_Size_08', 'st_ap_participation_pct', 'Avg_Dist_Size_Biology', 'st_advance_dgr_pct', 'st_not_highqual_class_hp_pct', 'Avg_Dist_Size_EnglishII', 'lateral_teach_pct', 'st_expelled_per_c_num', 'st_sat_participation_pct', 'st_benefits_expense_pct', 'lea_not_highqual_class_lp_pct', 'lea_total_specialized_courses', 'PROMOTED_School_Pct', 'Science Score', 'Avg_Dist_Size_00', 'Reading  SPG Score', 'lea_highqual_class_hp_pct', 'SPG Score', 'lea_wap_per_classroom', 'short_susp_per_c_num', 'tchyrs_4thru10_pct', 'st_avg_student_num', 'st_highqual_class_hp_pct', 'Dist_Prin_Exp_Pct_10+_Years', 'tchyrs_11plus_pct', 'lea_instruct_equip_exp_pct', 'local_perpupil_num', 'state_perpupil_num', 'federal_perpupil_num', 'Avg_State_Size_05', 'st_not_highqual_class_all_pct', 'lea_highqual_class_lp_pct', 'Avg_State_Size_01', 'nbpts_num', 'PROMOTED_State_Pct', 'st_avg_age_media_collection', 'st_1yr_prin_trnovr_pct', 'Avg_Class_Size_MathI', 'st_other_expense_pct', 'no_data_spg_flg', 'lea_highqual_class_pct', 'State_Prin_Exp_Pct_10+_Years', 'st_books_per_student', 'flicensed_teach_pct', 'st_prin_other_pct', 'st_tchyrs_0thru3_pct', 'st_services_expense_pct', 'lea_long_susp_per_c_num', 'lea_federal_perpupil_num', 'Avg_Dist_Size_05', 'st_local_perpupil_num', 'Dist_Prin_Exp_Pct_0_3_Years', 'Overall Achievement Score', 'supplies_expense_pct', 'lea_salary_expense_pct', 'wap_per_classroom', 'PASSED_LAA_Dist_Pct', 'Biology Score', 'st_tchyrs_11plus_pct', 'GCE_ALL_Dist_Pct', 'Math Course Rigor Score', 'expelled_per_c_num', 'PASSED_EOG_School_Pct', 'Avg_Class_Size_05', 'lea_advance_dgr_pct', 'asm_no_spg_flg', 'lea_lateral_teach_pct', 'RETAINED_Dist_Pct', 'emer_prov_teach_pct', 'st_ib_pct_4_or_above', 'st_avg_daily_attend_pct', 'lea_benefits_expense_pct', 'advance_dgr_pct', 'Avg_State_Size_00', 'English II Score', 'Avg_Class_Size_01', 'st_not_highqual_class_lp_pct', 'SchoolWeightedScore', 'grades_1_to_1_access_-', 'grades_1_to_1_access_10:11:12', 'grades_1_to_1_access_11:12:13', 'grades_1_to_1_access_3', 'grades_1_to_1_access_3:04:05', 'grades_1_to_1_access_4', 'grades_1_to_1_access_4:05', 'grades_1_to_1_access_4:05:06', 'grades_1_to_1_access_4:5:6:7:8:9:10:11:12', 'grades_1_to_1_access_5', 'grades_1_to_1_access_5:06', 'grades_1_to_1_access_5:06:07', 'grades_1_to_1_access_5:6:7:8:9:10:11:12', 'grades_1_to_1_access_6', 'grades_1_to_1_access_6:07', 'grades_1_to_1_access_6:07:08', 'grades_1_to_1_access_6:08', 'grades_1_to_1_access_6:7:8:9', 'grades_1_to_1_access_6:7:8:9:10', 'grades_1_to_1_access_6:7:8:9:10:11:12', 'grades_1_to_1_access_6:7:8:9:10:11:12:13', 'grades_1_to_1_access_7', 'grades_1_to_1_access_7:08', 'grades_1_to_1_access_8', 'grades_1_to_1_access_8:09', 'grades_1_to_1_access_8:9:10:11:12', 'grades_1_to_1_access_9', 'grades_1_to_1_access_9:10', 'grades_1_to_1_access_9:10:11', 'grades_1_to_1_access_9:10:11:12', 'grades_1_to_1_access_9:10:11:12:13', 'grades_1_to_1_access_9:10:12', 'grades_1_to_1_access_9:12', 'grades_1_to_1_access_K:1:2:3', 'grades_1_to_1_access_K:1:2:3:4:5', 'grades_1_to_1_access_K:1:2:3:4:5:6:7:8', 'grades_1_to_1_access_PK', 'type_cd_txt_Charter', 'type_cd_txt_Public', 'Reading SPG Grade_A', 'Reading SPG Grade_B', 'Reading SPG Grade_C', 'Reading SPG Grade_D', 'Reading SPG Grade_F', 'Byod_-', 'Byod_No', 'Byod_Yes', 'Grad_project_status_N', 'Grad_project_status_Y', 'esea_status_F', 'esea_status_P', 'school_type_txt_Alternative Education', 'school_type_txt_Hospital School', 'school_type_txt_Magnet School', 'school_type_txt_Regular School', 'school_type_txt_Special Education', 'school_type_txt_Vocational Education', 'Math SPG Grade_A', 'Math SPG Grade_B', 'Math SPG Grade_C', 'Math SPG Grade_D', 'Math SPG Grade_F', 'Closed_Ind_Text_Open', 'category_cd_A', 'category_cd_E', 'category_cd_H', 'category_cd_I', 'category_cd_M', 'category_cd_T', 'state_ad_NC', '1_to_1_access_No', '1_to_1_access_Yes', 'grades_BYOD_-', 'grades_BYOD_11:12', 'grades_BYOD_1:2:3:4:5', 'grades_BYOD_1:3:4:5', 'grades_BYOD_2:03:04', 'grades_BYOD_2:3:4:5', 'grades_BYOD_2:3:4:5:6:7:8', 'grades_BYOD_3', 'grades_BYOD_3:04', 'grades_BYOD_3:04:05', 'grades_BYOD_3:4:5:6', 'grades_BYOD_3:4:5:6:7:8', 'grades_BYOD_3:4:5:6:7:8:9:10', 'grades_BYOD_3:4:5:6:7:8:9:10:11:12', 'grades_BYOD_4', 'grades_BYOD_4:05', 'grades_BYOD_4:05:06', 'grades_BYOD_4:5:6:7:8', 'grades_BYOD_5', 'grades_BYOD_5:06', 'grades_BYOD_5:6:7:8', 'grades_BYOD_6', 'grades_BYOD_6:07', 'grades_BYOD_6:07:08', 'grades_BYOD_6:08', 'grades_BYOD_6:7:8:9:10', 'grades_BYOD_6:7:8:9:10:11', 'grades_BYOD_6:7:8:9:10:11:12', 'grades_BYOD_6:7:8:9:10:11:12:13', 'grades_BYOD_6:7:8:9:11:12', 'grades_BYOD_7', 'grades_BYOD_7:08', 'grades_BYOD_7:8:9:10:11:12', 'grades_BYOD_8:09', 'grades_BYOD_8:9:10:11:12', 'grades_BYOD_9:10', 'grades_BYOD_9:10:11', 'grades_BYOD_9:10:11:12', 'grades_BYOD_9:10:11:12:13', 'grades_BYOD_9:11:12', 'grades_BYOD_K:1:2:3:4', 'grades_BYOD_K:1:2:3:4:5', 'grades_BYOD_K:1:2:3:4:5:6', 'grades_BYOD_K:1:2:3:4:5:6:7:8', 'grades_BYOD_K:1:2:3:4:5:6:7:8:9:10:11:12', 'grades_BYOD_K:1:2:3:4:5:6:7:8:9:10:11:12:13', 'grades_BYOD_K:1:2:4:5', 'grades_BYOD_K:1:2:4:6', 'grades_BYOD_K:3:4', 'grades_BYOD_PK:5', 'grades_BYOD_PK:9:10:11:12', 'grades_BYOD_PK:K:1:2:3', 'grades_BYOD_PK:K:1:2:3:4', 'grades_BYOD_PK:K:1:2:3:4:5', 'grades_BYOD_PK:K:1:2:3:4:5:6:7', 'grades_BYOD_PK:K:1:2:3:4:5:6:7:8', 'grades_BYOD_PK:K:1:2:3:4:5:6:7:8:9:10:11:12:13', 'grades_BYOD_PK:K:1:2:3:4:5:7:8', 'State Gap Compared_N', 'State Gap Compared_Y', 'EVAAS Growth Status_Exceeded', 'EVAAS Growth Status_Met', 'EVAAS Growth Status_NotMet', 'calendar_only_txt_Traditional Calendar', 'calendar_only_txt_Traditional Calendar plus Year-Round Calendar', 'calendar_only_txt_Year-Round Calendar', 'SPG Grade_A', 'SPG Grade_A+NG', 'SPG Grade_B', 'SPG Grade_C', 'SPG Grade_D', 'SPG Grade_F', 'SPG Grade_I', 'New_ind_Txt_School Is Not New', 'Overall_Achievement_Score_bins_<40', 'Overall_Achievement_Score_bins_40-54', 'Overall_Achievement_Score_bins_55-69', 'Overall_Achievement_Score_bins_70-84', 'Overall_Achievement_Score_bins_85-100']\n"
     ]
    }
   ],
   "source": [
    "def dummy_Create(df):\n",
    "    schoolDataFinal = df.copy()\n",
    "    SchoolDataCat = schoolDataFinal.loc[:,(schoolDataFinal.dtypes == bool)| (schoolDataFinal.dtypes == object) |(schoolDataFinal.dtypes == 'category')]#.columnscategory\n",
    "    # drop the two street address columns\n",
    "    try: \n",
    "        SchoolDataCat.pop('street_ad')\n",
    "        SchoolDataCat.pop('scity_ad')\n",
    "    except Exception as e:\n",
    "        print(e.args)\n",
    "    print(SchoolDataCat.columns)\n",
    "    cat_vars=SchoolDataCat.columns\n",
    "    for var in cat_vars:\n",
    "        cat_list='var'+'_'+var\n",
    "        cat_list = pd.get_dummies(schoolDataFinal[var], prefix=var)\n",
    "        df=pd.concat([df,cat_list], axis=1)\n",
    "    data=df\n",
    "    cat_vars=SchoolDataCat.columns\n",
    "    data_vars=data.columns.values.tolist()\n",
    "    \n",
    "    to_keep=[i for i in data_vars if i not in cat_vars]\n",
    "\n",
    "    ## Final data columns\n",
    "    data_final=data[to_keep]\n",
    "    try:\n",
    "        data_final.pop('street_ad')\n",
    "        data_final.pop('scity_ad')\n",
    "    except Exception as e:\n",
    "        print(e.args)\n",
    "    data_final.columns.values\n",
    "    data_final_vars=data_final.columns.values.tolist()\n",
    "    #return(SchoolDataCat)\n",
    "    y=['summer_program_flg']\n",
    "    X=[i for i in data_final_vars if i not in y]\n",
    " \n",
    "    list(data_final_vars)\n",
    "    print(y)\n",
    "    print(X)\n",
    "    return(data_final.abs())\n",
    "    \n",
    "df_X = dummy_Create(df_X)"
   ]
  },
  {
   "cell_type": "code",
   "execution_count": 6,
   "metadata": {
    "collapsed": false
   },
   "outputs": [
    {
     "name": "stdout",
     "output_type": "stream",
     "text": [
      "(2579, 397)\n",
      "(2579,)\n"
     ]
    }
   ],
   "source": [
    "print(df_X.shape)\n",
    "print(df_y.shape)"
   ]
  },
  {
   "cell_type": "markdown",
   "metadata": {},
   "source": [
    "Let's see the class distribution"
   ]
  },
  {
   "cell_type": "code",
   "execution_count": 7,
   "metadata": {
    "collapsed": false
   },
   "outputs": [
    {
     "data": {
      "text/plain": [
       " 0    1702\n",
       "-1    877 \n",
       "Name: summer_program_flg, dtype: int64"
      ]
     },
     "execution_count": 7,
     "metadata": {},
     "output_type": "execute_result"
    }
   ],
   "source": [
    "df_y.value_counts()"
   ]
  },
  {
   "cell_type": "markdown",
   "metadata": {},
   "source": [
    "There is some imbalance of the class variable, with 66% belonging to class 0 and 34% belonging to class 1. Whenever we have class imbalance, it might be useful to calculate the accuracy of the **Null Model** - that is, what if our estimator always predicted the majority class ? "
   ]
  },
  {
   "cell_type": "code",
   "execution_count": 8,
   "metadata": {
    "collapsed": false
   },
   "outputs": [
    {
     "data": {
      "text/plain": [
       "0.6599457153935634"
      ]
     },
     "execution_count": 8,
     "metadata": {},
     "output_type": "execute_result"
    }
   ],
   "source": [
    "max(abs(df_y.mean()), 1 - abs(df_y.mean()))"
   ]
  },
  {
   "cell_type": "markdown",
   "metadata": {},
   "source": [
    "### Create a logistic regression model and a support vector machine model for the classification task involved with your dataset."
   ]
  },
  {
   "cell_type": "markdown",
   "metadata": {},
   "source": [
    "### Assess how well each model performs (use 80/20 training/testing split for your data)"
   ]
  },
  {
   "cell_type": "markdown",
   "metadata": {},
   "source": [
    "Let's start by building a Logistic regression model for predicting summer_program_flg (?) using all the features."
   ]
  },
  {
   "cell_type": "code",
   "execution_count": 9,
   "metadata": {
    "collapsed": true
   },
   "outputs": [],
   "source": [
    "# STEP 1: split df_X and df_y into training and testing sets\n",
    "from sklearn.model_selection import train_test_split\n",
    "df_X_train, df_X_test, df_y_train, df_y_test = train_test_split(df_X, df_y, test_size=0.2, random_state=4)"
   ]
  },
  {
   "cell_type": "code",
   "execution_count": 10,
   "metadata": {
    "collapsed": false
   },
   "outputs": [
    {
     "name": "stdout",
     "output_type": "stream",
     "text": [
      "(2063, 397)\n",
      "(516, 397)\n"
     ]
    }
   ],
   "source": [
    "print(df_X_train.shape)\n",
    "print(df_X_test.shape)"
   ]
  },
  {
   "cell_type": "code",
   "execution_count": 11,
   "metadata": {
    "collapsed": false
   },
   "outputs": [
    {
     "name": "stdout",
     "output_type": "stream",
     "text": [
      "(2063,)\n",
      "(516,)\n"
     ]
    }
   ],
   "source": [
    "print(df_y_train.shape)\n",
    "print(df_y_test.shape)"
   ]
  },
  {
   "cell_type": "code",
   "execution_count": 12,
   "metadata": {
    "collapsed": false
   },
   "outputs": [
    {
     "data": {
      "text/plain": [
       "LogisticRegression(C=1.0, class_weight=None, dual=False, fit_intercept=True,\n",
       "          intercept_scaling=1, max_iter=100, multi_class='ovr', n_jobs=1,\n",
       "          penalty='l2', random_state=None, solver='liblinear', tol=0.0001,\n",
       "          verbose=0, warm_start=False)"
      ]
     },
     "execution_count": 12,
     "metadata": {},
     "output_type": "execute_result"
    }
   ],
   "source": [
    "# STEP 2: train the model on the training set\n",
    "from sklearn.linear_model import LogisticRegression\n",
    "logreg = LogisticRegression()\n",
    "logreg.fit(df_X_train, df_y_train)"
   ]
  },
  {
   "cell_type": "code",
   "execution_count": 13,
   "metadata": {
    "collapsed": true
   },
   "outputs": [],
   "source": [
    "# STEP 3: make predictions on the testing set\n",
    "y_pred = logreg.predict(df_X_test)"
   ]
  },
  {
   "cell_type": "code",
   "execution_count": 14,
   "metadata": {
    "collapsed": false
   },
   "outputs": [
    {
     "name": "stdout",
     "output_type": "stream",
     "text": [
      "0.72480620155\n"
     ]
    }
   ],
   "source": [
    "# Compute the prediction accuracy\n",
    "from sklearn import metrics\n",
    "print(metrics.accuracy_score(df_y_test, y_pred))"
   ]
  },
  {
   "cell_type": "code",
   "execution_count": 15,
   "metadata": {
    "collapsed": false
   },
   "outputs": [
    {
     "name": "stdout",
     "output_type": "stream",
     "text": [
      "0.225779159112\n"
     ]
    }
   ],
   "source": [
    "# Calculate predicted probabilities \n",
    "y_pred_prob = logreg.predict_proba(df_X_test)[:,1]\n",
    "\n",
    "neg_df_y_test = -df_y_test\n",
    "\n",
    "# Calculate AUC\n",
    "print(metrics.roc_auc_score(neg_df_y_test, y_pred_prob))"
   ]
  },
  {
   "cell_type": "markdown",
   "metadata": {},
   "source": [
    "### SVM"
   ]
  },
  {
   "cell_type": "code",
   "execution_count": 16,
   "metadata": {
    "collapsed": true
   },
   "outputs": [],
   "source": [
    "# STEP 1: split df_X and df_y into training and testing sets\n",
    "from sklearn.model_selection import train_test_split\n",
    "df_X_train, df_X_test, df_y_train, df_y_test = train_test_split(df_X, df_y, test_size=0.2, random_state=4)"
   ]
  },
  {
   "cell_type": "code",
   "execution_count": 17,
   "metadata": {
    "collapsed": false
   },
   "outputs": [
    {
     "data": {
      "text/plain": [
       "SVC(C=1.0, cache_size=200, class_weight=None, coef0=0.0,\n",
       "  decision_function_shape=None, degree=3, gamma='auto', kernel='rbf',\n",
       "  max_iter=-1, probability=False, random_state=None, shrinking=True,\n",
       "  tol=0.001, verbose=False)"
      ]
     },
     "execution_count": 17,
     "metadata": {},
     "output_type": "execute_result"
    }
   ],
   "source": [
    "# STEP 2: train the model on the training set\n",
    "from sklearn.svm import SVC\n",
    "svc = SVC()\n",
    "svc.fit(df_X_train, df_y_train)"
   ]
  },
  {
   "cell_type": "code",
   "execution_count": 18,
   "metadata": {
    "collapsed": true
   },
   "outputs": [],
   "source": [
    "# STEP 3: make predictions on the testing set\n",
    "y_pred_svc = svc.predict(df_X_test)"
   ]
  },
  {
   "cell_type": "code",
   "execution_count": 19,
   "metadata": {
    "collapsed": false
   },
   "outputs": [
    {
     "name": "stdout",
     "output_type": "stream",
     "text": [
      "0.68023255814\n"
     ]
    }
   ],
   "source": [
    "# Compute the prediction accuracy\n",
    "from sklearn import metrics\n",
    "print(metrics.accuracy_score(df_y_test, y_pred_svc))"
   ]
  },
  {
   "cell_type": "markdown",
   "metadata": {},
   "source": [
    "### Tuning SVM"
   ]
  },
  {
   "cell_type": "markdown",
   "metadata": {},
   "source": [
    "We can tune two key parameters of the SVM algorithm, the value of C (how much to relax the margin) and the type of kernel. The default for SVM (the SVC class) is to use the Radial Basis Function (RBF) kernel with a C value set to 1.0. We will use `linear` kernel and vary the C value to see if that improves our model."
   ]
  },
  {
   "cell_type": "code",
   "execution_count": 20,
   "metadata": {
    "collapsed": false
   },
   "outputs": [
    {
     "name": "stdout",
     "output_type": "stream",
     "text": [
      "0.718992248062\n"
     ]
    }
   ],
   "source": [
    "# Train the model with kerner = `linear` and default C value.\n",
    "svc = SVC(kernel='linear')\n",
    "svc.fit(df_X_train, df_y_train)\n",
    "y_pred_svc = svc.predict(df_X_test)\n",
    "print(metrics.accuracy_score(df_y_test, y_pred_svc))"
   ]
  },
  {
   "cell_type": "code",
   "execution_count": 21,
   "metadata": {
    "collapsed": false
   },
   "outputs": [
    {
     "name": "stdout",
     "output_type": "stream",
     "text": [
      "0.726744186047\n"
     ]
    }
   ],
   "source": [
    "# Train the model with kerner = `linear` and default C value.\n",
    "svc = SVC(C=1.5, kernel='linear')\n",
    "svc.fit(df_X_train, df_y_train)\n",
    "y_pred_svc = svc.predict(df_X_test)\n",
    "print(metrics.accuracy_score(df_y_test, y_pred_svc))"
   ]
  },
  {
   "cell_type": "markdown",
   "metadata": {},
   "source": [
    "## Comparing Logistic Regression with SVM"
   ]
  },
  {
   "cell_type": "markdown",
   "metadata": {},
   "source": [
    "The key to a fair comparison of machine learning algorithms is ensuring that each algorithm is evaluated in the same way on the same data. We can achieve this by forcing each algorithm to be evaluated on a consistent test harness. "
   ]
  },
  {
   "cell_type": "code",
   "execution_count": 22,
   "metadata": {
    "collapsed": false
   },
   "outputs": [
    {
     "name": "stdout",
     "output_type": "stream",
     "text": [
      "LogReg: 0.724806\n",
      "LogReg_C2: 0.728682\n",
      "LogReg_C10: 0.715116\n",
      "SVM: 0.680233\n",
      "SVM_Kernel_linear: 0.718992\n",
      "SVM_Kernel_linear_C1.5: 0.726744\n"
     ]
    }
   ],
   "source": [
    "# prepare models\n",
    "models = []\n",
    "models.append((\"LogReg\", LogisticRegression()))\n",
    "models.append((\"LogReg_C2\", LogisticRegression(C=2)))\n",
    "models.append((\"LogReg_C10\", LogisticRegression(C=10)))\n",
    "models.append((\"SVM\", SVC()))\n",
    "models.append((\"SVM_Kernel_linear\", SVC(kernel='linear')))\n",
    "models.append((\"SVM_Kernel_linear_C1.5\", SVC(C=1.5, kernel='linear')))\n",
    "\n",
    "# declare results\n",
    "results = []\n",
    "\n",
    "# declare names to hold model names\n",
    "names = []\n",
    "\n",
    "for name, model in models:\n",
    "    model.fit(df_X_train, df_y_train)\n",
    "    y_pred = model.predict(df_X_test)\n",
    "    accuracy = metrics.accuracy_score(df_y_test, y_pred)\n",
    "    results.append(accuracy)\n",
    "    names.append(name)\n",
    "    print(\"%s: %f\" %(name, accuracy))\n",
    "    "
   ]
  },
  {
   "cell_type": "code",
   "execution_count": 23,
   "metadata": {
    "collapsed": false
   },
   "outputs": [
    {
     "data": {
      "text/plain": [
       "[<matplotlib.text.Text at 0x11394fe80>,\n",
       " <matplotlib.text.Text at 0x1139541d0>,\n",
       " <matplotlib.text.Text at 0x113979da0>,\n",
       " <matplotlib.text.Text at 0x11398a898>,\n",
       " <matplotlib.text.Text at 0x112bd33c8>,\n",
       " <matplotlib.text.Text at 0x112bd3eb8>]"
      ]
     },
     "execution_count": 23,
     "metadata": {},
     "output_type": "execute_result"
    },
    {
     "data": {
      "image/png": "[encoded data removed]",
      "text/plain": [
       "<matplotlib.figure.Figure at 0x11254f1d0>"
      ]
     },
     "metadata": {},
     "output_type": "display_data"
    }
   ],
   "source": [
    "import matplotlib.pyplot as plt\n",
    "fig = plt.figure()\n",
    "fig.suptitle('Model comparision')\n",
    "ax = fig.add_subplot(111)\n",
    "plt.plot(results)\n",
    "ax.set_xticklabels(names, rotation='15')"
   ]
  },
  {
   "cell_type": "markdown",
   "metadata": {
    "collapsed": true
   },
   "source": [
    "## Using Stochastic Gradient Descent"
   ]
  },
  {
   "cell_type": "markdown",
   "metadata": {},
   "source": [
    "We can learn the coefficients for a logistic regression model using stochastic gradient descent."
   ]
  },
  {
   "cell_type": "code",
   "execution_count": 24,
   "metadata": {
    "collapsed": false
   },
   "outputs": [
    {
     "name": "stdout",
     "output_type": "stream",
     "text": [
      "SGDClassifier(alpha=0.0001, average=False, class_weight=None, epsilon=0.1,\n",
      "       eta0=0.0, fit_intercept=True, l1_ratio=0.15,\n",
      "       learning_rate='optimal', loss='hinge', n_iter=5, n_jobs=1,\n",
      "       penalty='l2', power_t=0.5, random_state=None, shuffle=True,\n",
      "       verbose=0, warm_start=False)\n"
     ]
    }
   ],
   "source": [
    "# Step 1: import the class\n",
    "from sklearn.linear_model import SGDClassifier\n",
    "\n",
    "# Step 2: instantiate the object\n",
    "sgd_logreg = SGDClassifier()\n",
    "\n",
    "print(sgd_logreg)"
   ]
  },
  {
   "cell_type": "code",
   "execution_count": 25,
   "metadata": {
    "collapsed": false
   },
   "outputs": [
    {
     "name": "stdout",
     "output_type": "stream",
     "text": [
      "0.686046511628\n"
     ]
    }
   ],
   "source": [
    "# fit the model\n",
    "sgd_logreg.fit(df_X_train, df_y_train)\n",
    "\n",
    "# predict on test\n",
    "y_pred = sgd_logreg.predict(df_X_test)\n",
    "\n",
    "# calculate accuracy\n",
    "print(metrics.accuracy_score(df_y_test, y_pred))"
   ]
  },
  {
   "cell_type": "markdown",
   "metadata": {},
   "source": [
    "### Tune SGDClassifier"
   ]
  },
  {
   "cell_type": "code",
   "execution_count": 26,
   "metadata": {
    "collapsed": false
   },
   "outputs": [
    {
     "name": "stdout",
     "output_type": "stream",
     "text": [
      "0.701550387597\n"
     ]
    }
   ],
   "source": [
    "# Step 2: instantiate the object\n",
    "sgd_logreg = SGDClassifier(n_iter=1000)\n",
    "\n",
    "# fit the model\n",
    "sgd_logreg.fit(df_X_train, df_y_train)\n",
    "\n",
    "# predict on test\n",
    "y_pred = sgd_logreg.predict(df_X_test)\n",
    "\n",
    "# calculate accuracy\n",
    "print(metrics.accuracy_score(df_y_test, y_pred))\n"
   ]
  },
  {
   "cell_type": "markdown",
   "metadata": {},
   "source": [
    "### Check the coefficients"
   ]
  },
  {
   "cell_type": "code",
   "execution_count": 33,
   "metadata": {
    "collapsed": false
   },
   "outputs": [
    {
     "name": "stdout",
     "output_type": "stream",
     "text": [
      "397\n"
     ]
    }
   ],
   "source": [
    "print(len(sgd_logreg.coef_[0]))"
   ]
  },
  {
   "cell_type": "code",
   "execution_count": 56,
   "metadata": {
    "collapsed": false
   },
   "outputs": [
    {
     "name": "stdout",
     "output_type": "stream",
     "text": [
      "[-8117.21, -4565.34, -3189.97, -2882.38, -2584.71, -2364.36, -1058.26, -1056.09, -1044.42, -973.31, -910.37, -698.53, -640.55, -342.09, -314.85, -303.02, -272.3, -264.7, -260.63, -250.29, -239.58, -239.58, -231.34, -207.69, -195.39, -194.16, -165.72, -160.73, -138.29, -129.89, -129.08, -120.04, -116.13, -103.54, -97.5, -91.13, -89.43, -81.55, -70.1, -68.19, -60.48, -60.45, -58.02, -57.26, -48.26, -40.77, -40.51, -39.71, -39.71, -37.24, -35.95, -35.7, -35.09, -34.68, -34.68, -33.62, -33.62, -27.1, -26.65, -23.63, -20.91, -20.56, -20.41, -18.23, -18.19, -17.37, -16.91, -16.04, -14.19, -14.02, -11.9, -11.11, -10.95, -10.77, -10.64, -9.88, -9.66, -9.47, -9.43, -8.55, -8.5, -8.16, -7.57, -6.95, -6.64, -6.32, -5.05, -5.05, -4.96, -4.86, -4.37, -4.09, -3.69, -3.68, -3.53, -3.52, -3.52, -3.47, -3.4, -3.4, -3.04, -2.69, -2.63, -2.51, -2.39, -2.38, -2.18, -2.18, -2.16, -1.82, -1.57, -1.37, -1.24, -1.11, -1.05, -1.03, -1.02, -0.89, -0.87, -0.83, -0.82, -0.78, -0.75, -0.71, -0.71, -0.68, -0.62, -0.41, -0.41, -0.33, -0.24, -0.09, -0.07, -0.07, -0.06, -0.05, -0.05, 0.0, 0.0, 0.0, 0.0, 0.0, 0.0, 0.0, 0.0, 0.0, 0.0, 0.0, 0.0, 0.0, 0.0, 0.0, 0.0, 0.0, 0.0, 0.0, 0.0, 0.0, 0.0, 0.0, 0.0, 0.0, 0.0, 0.0, 0.0, 0.0, 0.0, 0.0, 0.0, 0.0, 0.0, 0.0, 0.0, 0.0, 0.0, 0.0, 0.0, 0.0, 0.0, 0.0, 0.0, 0.0, 0.0, 0.0, 0.0, 0.0, 0.0, 0.0, 0.0, 0.0, 0.0, 0.0, 0.0, 0.0, 0.01, 0.01, 0.09, 0.09, 0.09, 0.09, 0.09, 0.09, 0.09, 0.1, 0.1, 0.1, 0.1, 0.1, 0.1, 0.11, 0.25, 0.33, 0.34, 0.35, 0.39, 0.4, 0.42, 0.44, 0.44, 0.52, 0.6, 0.74, 0.74, 0.83, 1.04, 1.06, 1.09, 1.15, 1.16, 1.18, 1.2, 1.21, 1.21, 1.22, 1.22, 1.23, 1.23, 1.23, 1.26, 1.26, 1.27, 1.28, 1.28, 1.28, 1.29, 1.3, 1.33, 1.34, 1.34, 1.36, 1.38, 1.41, 1.41, 1.42, 1.45, 1.47, 1.57, 1.57, 1.67, 1.76, 1.8, 1.91, 2.05, 2.39, 2.5, 2.53, 2.62, 2.94, 3.01, 3.16, 3.47, 3.53, 3.53, 3.6, 4.13, 4.69, 4.71, 4.76, 4.81, 4.83, 4.86, 4.87, 4.91, 5.58, 5.79, 6.5, 7.01, 7.15, 7.21, 7.22, 7.98, 8.08, 8.11, 8.25, 8.48, 8.66, 9.43, 9.67, 9.69, 9.77, 10.53, 10.77, 11.63, 12.14, 12.29, 12.66, 12.78, 13.38, 13.76, 14.49, 15.47, 17.53, 17.65, 18.04, 18.49, 19.83, 20.61, 20.61, 20.91, 22.68, 22.9, 24.53, 24.84, 24.98, 25.25, 26.35, 26.65, 27.71, 28.45, 29.5, 33.62, 34.27, 36.47, 36.62, 37.89, 37.89, 38.04, 39.15, 39.15, 39.26, 41.16, 42.92, 48.94, 51.64, 52.19, 54.67, 56.1, 56.21, 58.37, 58.8, 68.03, 69.28, 72.04, 73.77, 75.02, 80.54, 83.2, 84.09, 85.66, 90.32, 99.52, 105.45, 117.92, 123.8, 142.19, 156.97, 214.31, 248.82, 263.8, 364.58, 403.14, 413.09, 436.85, 541.46, 663.69, 693.05, 748.19, 820.95, 912.48, 918.04, 1485.19, 1751.83, 1872.34, 1913.37, 2379.5, 2526.0, 2531.34, 2554.87, 2771.1, 3047.14, 3752.45, 5273.02, 5491.45, 5743.44, 7290.68, 10758.56, 16268.11]\n"
     ]
    }
   ],
   "source": [
    "coefs = []\n",
    "for coef in sgd_logreg.coef_[0]:\n",
    "    coefs.append(round(float(str(coef).format(\"%.2f\")), 2))\n",
    "coefs.sort()\n",
    "print(coefs)"
   ]
  },
  {
   "cell_type": "code",
   "execution_count": 57,
   "metadata": {
    "collapsed": false
   },
   "outputs": [
    {
     "data": {
      "text/plain": [
       "SGDClassifier(alpha=0.0001, average=False, class_weight=None, epsilon=0.1,\n",
       "       eta0=0.0, fit_intercept=True, l1_ratio=0.15,\n",
       "       learning_rate='optimal', loss='hinge', n_iter=1000, n_jobs=1,\n",
       "       penalty='l2', power_t=0.5, random_state=None, shuffle=True,\n",
       "       verbose=0, warm_start=False)"
      ]
     },
     "execution_count": 57,
     "metadata": {},
     "output_type": "execute_result"
    }
   ],
   "source": [
    "# map the coef to the feature.\n",
    "\n",
    "# Step 2: instantiate the object\n",
    "sgd_logreg = SGDClassifier(n_iter=1000)\n",
    "\n",
    "# fit the model\n",
    "sgd_logreg.fit(df_X_train, df_y_train)\n"
   ]
  },
  {
   "cell_type": "code",
   "execution_count": 69,
   "metadata": {
    "collapsed": false
   },
   "outputs": [],
   "source": [
    "coefs = list(sgd_logreg.coef_[0])"
   ]
  },
  {
   "cell_type": "code",
   "execution_count": 76,
   "metadata": {
    "collapsed": false
   },
   "outputs": [],
   "source": [
    "features = list(df_X_train.columns)"
   ]
  },
  {
   "cell_type": "code",
   "execution_count": 77,
   "metadata": {
    "collapsed": false
   },
   "outputs": [
    {
     "data": {
      "text/plain": [
       "[('avg_age_media_collection', 5357.8465881049306),\n",
       " ('Read Score', 3067.0169898376435),\n",
       " ('Avg_State_Size_EnglishII', 0.087209344578170506),\n",
       " ('lea_cte_courses', -4.9297085567100254),\n",
       " ('szip_ad', -2697.8259194895586),\n",
       " ('st_wap_num', 541.45859566791819),\n",
       " ('sat_participation_pct', -0.64786853094419683),\n",
       " ('st_total_specialized_courses', 0.0046736192071795621),\n",
       " ('Avg_Dist_Size_04', -195.21811783826431),\n",
       " ('st_supplies_expense_pct', 0.00036337226907568929),\n",
       " ('RETAINED_School_Pct', -17.199422092735176),\n",
       " ('Avg_Class_Size_07', 83.43511794337455),\n",
       " ('services_expense_pct', -5.1183745728556334),\n",
       " ('st_long_susp_per_c_num', 0.26807183530614032),\n",
       " ('Avg_Class_Size_04', 20.867258172121247),\n",
       " ('st_prinyrs_0thru3_pct', 0.0020833343427008747),\n",
       " ('st_emer_prov_teach_pct', -0.073037826084202964),\n",
       " ('other_expense_pct', 0.0),\n",
       " ('Avg_Class_Size_00', -70.484530273520491),\n",
       " ('GCE_ALL_School_Pct', 8.7228385285134973),\n",
       " ('st_wap_per_classroom', 0.0054263592181973894),\n",
       " ('lea_sat_participation_pct', 68.447319984151861),\n",
       " ('books_per_student', -769.46558598142576),\n",
       " ('Avg_Class_Size_Biology', -977.0498919818433),\n",
       " ('GCE_RPF_School_Pct', 1.5134503456641699),\n",
       " ('tchyrs_0thru3_pct', -35.339958982554087),\n",
       " ('st_short_susp_per_c_num', -315.18183875098748),\n",
       " ('lea_avg_daily_attend_pct', 0.54422022491291555),\n",
       " ('st_highqual_class_lp_pct', 0.0047286844615718193),\n",
       " ('lea_emer_prov_teach_pct', 0.097107605187765872),\n",
       " ('st_crime_per_c_num', 56.37749824494329),\n",
       " ('st_flicensed_teach_pct', -10.837699049274375),\n",
       " ('Avg_Dist_Size_07', -63.643441687718578),\n",
       " ('Avg_Dist_Size_06', -110.82854206810049),\n",
       " ('st_stud_internet_comp_num', 0.0058139563052110287),\n",
       " ('Tch_Exp_Pct_10+_Years', 38.391181391076536),\n",
       " ('Avg_Dist_Size_01', 151.70549985736832),\n",
       " ('Avg_Dist_Size_02', 400.11162796122204),\n",
       " ('highqual_class_pct', 11.662655844310594),\n",
       " ('lea_univ_college_courses', 7.7911075271308832),\n",
       " ('lea_wap_num', 10731.129230203534),\n",
       " ('Dist_Tch_Exp_Pct_10+_Years', 39.280692480966742),\n",
       " ('GCE_RPF_Dist_Pct', 2.9811254753493226),\n",
       " ('lea_nbpts_num', 895.28144151249103),\n",
       " ('Avg_Class_Size_06', -131.60859089564542),\n",
       " ('lea_tchyrs_4thru10_pct', 0.3387550090868065),\n",
       " ('cte_courses', -17.929465824990881),\n",
       " ('st_total_expense_num', 42.921726221766036),\n",
       " ('Avg_Dist_Size_MathI', -347.88292048594957),\n",
       " ('lea_ib_pct_4_or_above', -36.42574439230561),\n",
       " ('Dist_Tch_Exp_Pct_0_3_Years', -39.756080308168556),\n",
       " ('st_class_teach_num', 54.394406198845381),\n",
       " ('Avg_Class_Size_EnglishII', -1054.7243482192939),\n",
       " ('Avg_State_Size_02', 0.092054308165845727),\n",
       " ('st_federal_perpupil_num', 4.6887135119735674),\n",
       " ('lea_ap_participation_pct', 29.666099644460601),\n",
       " ('lea_total_expense_num', 10.325295700595884),\n",
       " ('GCE_SWD_State_Pct', 0.00031492263319894226),\n",
       " ('lea_ap_ib_courses', -8.436675999733156),\n",
       " ('State_Prin_Exp_Pct_0_3_Years', 0.0020833343427008747),\n",
       " ('stem_flg', 12.456401383916262),\n",
       " ('total_specialized_courses', -13.911019802105367),\n",
       " ('ACT WorkKeys Score', 71.555267226396438),\n",
       " ('lea_tchyrs_11plus_pct', 39.280692480966742),\n",
       " ('_1yr_tchr_trnovr_pct', -20.924438432392474),\n",
       " ('Avg_Dist_Size_03', 260.66873094420987),\n",
       " ('st_salary_expense_pct', 0.0030038774243591046),\n",
       " ('State_Tch_Exp_Pct_4_10_Years', -3.49306855284396),\n",
       " ('student_num', 579.37043574160975),\n",
       " ('lea_highqual_class_all_pct', 9.7879310988215416),\n",
       " ('st_lateral_teach_pct', 4.649847214074815),\n",
       " ('lea_not_highqual_class_hp_pct', -4.9211312602414123),\n",
       " ('PASSED_LAA_State_Pct', 0.00053294599464435836),\n",
       " ('Avg_State_Size_04', 0.096899271753519658),\n",
       " ('st_univ_college_courses', 0.00034224990903581839),\n",
       " ('instruct_equip_exp_pct', 0.41441396047191537),\n",
       " ('st_prinyrs_4thru10_pct', 0.002068799451937831),\n",
       " ('ap_pct_3_or_above', 18.162896396753432),\n",
       " ('lea_tchyrs_0thru3_pct', -39.756080308168556),\n",
       " ('lea_crime_per_c_num', 86.561233798996838),\n",
       " ('GCE_ALL_State_Pct', 0.0005426359218197506),\n",
       " ('st_tchyrs_4thru10_pct', -3.49306855284396),\n",
       " ('PASSED_RTA_Dist_Pct', -0.046405061242765042),\n",
       " ('univ_college_courses', 24.52823053613626),\n",
       " ('Dist_Prin_Exp_Pct_4_10_Years', -35.594140307250761),\n",
       " ('st_highqual_class_pct', -9.3463756523136468),\n",
       " ('lea_avg_age_media_collection', -896.00818605054087),\n",
       " ('GCE_SWD_Dist_Pct', -1.0181012684601936),\n",
       " ('State_Prin_Exp_Pct_4_10_Years', 0.002068799451937831),\n",
       " ('RETAINED_State_Pct', 0.00069767475662539744),\n",
       " ('PROMOTED_Dist_Pct', 28.448763783298638),\n",
       " ('Math Score', 2591.0671468360406),\n",
       " ('PASSED_LAA_School_Pct', 2.9389113076119209),\n",
       " ('st_prin_white_pct', 0.0035707381641174149),\n",
       " ('Avg_State_Size_07', 0.10658919892888223),\n",
       " ('long_susp_per_c_num', 79.046889073104012),\n",
       " ('lea_services_expense_pct', 1.7703400050112774),\n",
       " ('lea_avg_student_num', 303.66778278479171),\n",
       " ('clp_ind_flg', 8.0377945919554161),\n",
       " ('st_ap_pct_3_or_above', 0.0024709314297147226),\n",
       " ('Math I Score', 633.00902762057024),\n",
       " ('st_prin_black_pct', 0.0011482563702792637),\n",
       " ('stud_internet_comp_num', 368.97653535685976),\n",
       " ('Dist_Tch_Exp_Pct_4_10_Years', 0.3387550090868065),\n",
       " ('nat_sat_participation_pct', 0.0025193810655915381),\n",
       " ('lea_short_susp_per_c_num', 7333.3688146201548),\n",
       " ('lea_books_per_student', -2380.4906882189975),\n",
       " ('sat_avg_score_num', 5936.742217414564),\n",
       " ('total_expense_num', -2748.0294321849101),\n",
       " ('lea_stud_internet_comp_num', 22.972879347348293),\n",
       " ('lea_sat_avg_score_num', 16196.291761723938),\n",
       " ('Year', 9.7674465927548368),\n",
       " ('st_nbpts_num', -125.29560334090391),\n",
       " ('st_highqual_class_all_pct', 0.0046656999349320655),\n",
       " ('GCE_SWD_School_Pct', -2.6665129198225097),\n",
       " ('st_state_perpupil_num', 27.705585128675512),\n",
       " ('State_Tch_Exp_Pct_10+_Years', 3.570408706593942),\n",
       " ('lea_flicensed_teach_pct', -1.0017252915335824),\n",
       " ('lea_expelled_per_c_num', -0.84098877954884954),\n",
       " ('One_Yr_College_Complete_wi_2_yrs_Enrolled_2012', -264.3151552306623),\n",
       " ('title1_type_flg', -166.63767763450753),\n",
       " ('lea_state_perpupil_num', 2992.173348920765),\n",
       " ('avg_daily_attend_pct', -5.0494840356029798),\n",
       " ('Avg_State_Size_06', 0.10174423534119691),\n",
       " ('Avg_Class_Size_02', 407.32093377955101),\n",
       " ('PASSED_EOG_State_Pct', 0.0028052339172646005),\n",
       " ('State_Tch_Exp_Pct_0_3_Years', -0.11683629691682093),\n",
       " ('focus_clp_flg', -14.937022740806553),\n",
       " ('lea_other_expense_pct', 0.0),\n",
       " ('EVAAS Growth Score', -613.11415364067034),\n",
       " ('sch_percent_college_enrolled_16_mos_post_grad', -264.3151552306623),\n",
       " ('AP_Courses_Offered', 74.186082454506192),\n",
       " ('salary_expense_pct', 4.7450507485714359),\n",
       " ('PASSED_EOG_Dist_Pct', 12.190093115352045),\n",
       " ('nat_sat_avg_score_num', 4.8740333692023325),\n",
       " ('st_prin_advance_dgr_pct', 0.0010755819164640957),\n",
       " ('ap_participation_pct', -0.20106598888859251),\n",
       " ('digital_media_pct', 38.026375012794531),\n",
       " ('Avg_Class_Size_03', 252.92163416748082),\n",
       " ('st_cte_courses', 0.0030969148095516316),\n",
       " ('Avg_State_Size_Biology', 0.087209344578170506),\n",
       " ('wap_num', -7937.9302024869039),\n",
       " ('ap_ib_courses', -6.4296638018146259),\n",
       " ('Cohort Graduation Rate Standard Score', -287.88289141614109),\n",
       " ('Tch_Exp_Pct_4_10_Years', -3.2487176592625153),\n",
       " ('st_ap_ib_courses', 0.00079893277564573105),\n",
       " ('Avg_Dist_Size_08', -164.09407175102115),\n",
       " ('st_1yr_tchr_trnovr_pct', 1.8961201047093441),\n",
       " ('lea_not_highqual_class_all_pct', -9.7830861352250373),\n",
       " ('st_prinyrs_11plus_pct', 0.00069282979303767855),\n",
       " ('Math SPG Score', 1961.9244001560273),\n",
       " ('Tch_Exp_Pct_0_3_Years', -35.339958982554087),\n",
       " ('lea_local_perpupil_num', 772.66781621433097),\n",
       " ('st_prin_male_pct', 0.0019282955078951558),\n",
       " ('lea_1yr_tchr_trnovr_pct', -23.589793405903137),\n",
       " ('class_teach_num', -140.46033937032209),\n",
       " ('lea_ap_pct_3_or_above', 49.45511117020861),\n",
       " ('st_sat_avg_score_num', 4.830428696913053),\n",
       " ('Avg_State_Size_08', 0.10174423534119691),\n",
       " ('lea_class_teach_num', -302.22882859893014),\n",
       " ('Avg_State_Size_03', 0.092054308165845727),\n",
       " ('crime_per_c_num', -120.99017489835518),\n",
       " ('The ACT Score', 1907.1327069444924),\n",
       " ('st_instruct_equip_exp_pct', 4.8449635876765545e-05),\n",
       " ('benefits_expense_pct', 1.0220523362657521),\n",
       " ('st_prin_female_pct', 0.0028875982982551202),\n",
       " ('Avg_State_Size_MathI', 0.096899271753519658),\n",
       " ('lea_supplies_expense_pct', 0.35931703455299679),\n",
       " ('Avg_Class_Size_08', -209.34603165991675),\n",
       " ('st_ap_participation_pct', 0.00072674453815137858),\n",
       " ('Avg_Dist_Size_Biology', -254.73365054925571),\n",
       " ('st_advance_dgr_pct', -0.19436055928324217),\n",
       " ('st_not_highqual_class_hp_pct', 0.00017441868915634936),\n",
       " ('Avg_Dist_Size_EnglishII', -235.29081167194133),\n",
       " ('lateral_teach_pct', 0.64360980795062506),\n",
       " ('st_expelled_per_c_num', 0.0),\n",
       " ('st_sat_participation_pct', 0.0023740321579613041),\n",
       " ('st_benefits_expense_pct', 0.00099321753547358541),\n",
       " ('lea_not_highqual_class_lp_pct', 0.13363863063868064),\n",
       " ('lea_total_specialized_courses', -1.9987537041056176),\n",
       " ('PROMOTED_School_Pct', 36.677193157568219),\n",
       " ('Science Score', 1752.8739112747585),\n",
       " ('Avg_Dist_Size_00', 56.371151342616102),\n",
       " ('Reading  SPG Score', 2395.1077495677428),\n",
       " ('lea_highqual_class_hp_pct', 4.9259762238270133),\n",
       " ('SPG Score', 2835.3938156007566),\n",
       " ('lea_wap_per_classroom', -188.10324035972019),\n",
       " ('short_susp_per_c_num', 5528.5745293476311),\n",
       " ('tchyrs_4thru10_pct', -3.2487176592625153),\n",
       " ('st_avg_student_num', -1211.3717109359911),\n",
       " ('st_highqual_class_hp_pct', 0.004670544898519707),\n",
       " ('Dist_Prin_Exp_Pct_10+_Years', 14.355694939776241),\n",
       " ('tchyrs_11plus_pct', 38.391181391076536),\n",
       " ('lea_instruct_equip_exp_pct', -2.5067938501937794),\n",
       " ('local_perpupil_num', 1560.632999337774),\n",
       " ('state_perpupil_num', -3084.6466737632795),\n",
       " ('federal_perpupil_num', 61.007030526711446),\n",
       " ('Avg_State_Size_05', 0.10174423534119691),\n",
       " ('st_not_highqual_class_all_pct', 0.00017926365274401396),\n",
       " ('lea_highqual_class_lp_pct', -0.1287936670512283),\n",
       " ('Avg_State_Size_01', 0.092054308165845727),\n",
       " ('nbpts_num', 670.13598359320474),\n",
       " ('PROMOTED_State_Pct', 0.0041472888310507576),\n",
       " ('st_avg_age_media_collection', 9.6899271753520537),\n",
       " ('st_1yr_prin_trnovr_pct', 0.00043120175930318286),\n",
       " ('Avg_Class_Size_MathI', -1051.9869437921072),\n",
       " ('st_other_expense_pct', 0.0),\n",
       " ('no_data_spg_flg', 74.001973838169235),\n",
       " ('lea_highqual_class_pct', 7.217837799337623),\n",
       " ('State_Prin_Exp_Pct_10+_Years', 0.00069282979303767855),\n",
       " ('st_books_per_student', 0.092926401611623327),\n",
       " ('flicensed_teach_pct', 6.3337724485347664),\n",
       " ('st_prin_other_pct', 0.00012596905327957064),\n",
       " ('st_tchyrs_0thru3_pct', -0.11683629691682093),\n",
       " ('st_services_expense_pct', 0.00043604672289090267),\n",
       " ('lea_long_susp_per_c_num', 69.999064922008301),\n",
       " ('lea_federal_perpupil_num', -5064.1207675000587),\n",
       " ('Avg_Dist_Size_05', 120.78009727718769),\n",
       " ('st_local_perpupil_num', 10.527427581117973),\n",
       " ('Dist_Prin_Exp_Pct_0_3_Years', 20.614656305539452),\n",
       " ('Overall Achievement Score', 3830.6074760702686),\n",
       " ('supplies_expense_pct', -0.61025950109475247),\n",
       " ('lea_salary_expense_pct', -1.062873576973693),\n",
       " ('wap_per_classroom', -265.53234764167638),\n",
       " ('PASSED_LAA_Dist_Pct', 8.3575961034728721),\n",
       " ('Biology Score', -4.5833355539490475),\n",
       " ('st_tchyrs_11plus_pct', 3.570408706593942),\n",
       " ('GCE_ALL_Dist_Pct', 5.9483168354286695),\n",
       " ('Math Course Rigor Score', -245.31019637123939),\n",
       " ('expelled_per_c_num', -2.5451078222424059),\n",
       " ('PASSED_EOG_School_Pct', 22.672263891602618),\n",
       " ('Avg_Class_Size_05', 199.77722857426062),\n",
       " ('lea_advance_dgr_pct', 7.8581094273832521),\n",
       " ('asm_no_spg_flg', 59.249059713694628),\n",
       " ('lea_lateral_teach_pct', 5.8719892790669066),\n",
       " ('RETAINED_Dist_Pct', -27.15372439616155),\n",
       " ('emer_prov_teach_pct', -0.064118248119315421),\n",
       " ('st_ib_pct_4_or_above', 0.0036337226907572459),\n",
       " ('st_avg_daily_attend_pct', 0.33072205945837518),\n",
       " ('lea_benefits_expense_pct', 1.4647778414612811),\n",
       " ('advance_dgr_pct', 17.545870904009508),\n",
       " ('Avg_State_Size_00', 0.092054308165845727),\n",
       " ('English II Score', 839.33180200198524),\n",
       " ('Avg_Class_Size_01', -123.10083483568104),\n",
       " ('st_not_highqual_class_lp_pct', 0.00011627912610423337),\n",
       " ('SchoolWeightedScore', 2597.2850762080166),\n",
       " ('grades_1_to_1_access_-', -32.432186255905968),\n",
       " ('grades_1_to_1_access_10:11:12', -2.3207375584970715),\n",
       " ('grades_1_to_1_access_11:12:13', 0.38275212342645226),\n",
       " ('grades_1_to_1_access_3', 2.6453501188714021),\n",
       " ('grades_1_to_1_access_3:04:05', -48.144403170740333),\n",
       " ('grades_1_to_1_access_4', 0.0),\n",
       " ('grades_1_to_1_access_4:05', 7.1705461097612959),\n",
       " ('grades_1_to_1_access_4:05:06', 1.2306207512698453),\n",
       " ('grades_1_to_1_access_4:5:6:7:8:9:10:11:12', 1.2063959333314633),\n",
       " ('grades_1_to_1_access_5', 12.795548835053609),\n",
       " ('grades_1_to_1_access_5:06', -11.041672016314765),\n",
       " ('grades_1_to_1_access_5:06:07', 1.2257757876821702),\n",
       " ('grades_1_to_1_access_5:6:7:8:9:10:11:12', 1.2596905327959051),\n",
       " ('grades_1_to_1_access_6', -2.3788771215491962),\n",
       " ('grades_1_to_1_access_6:07', -3.6434126179327584),\n",
       " ('grades_1_to_1_access_6:07:08', -1.3081401686727554),\n",
       " ('grades_1_to_1_access_6:08', 1.2596905327959018),\n",
       " ('grades_1_to_1_access_6:7:8:9', 1.3081401686726684),\n",
       " ('grades_1_to_1_access_6:7:8:9:10', 1.2451556420328729),\n",
       " ('grades_1_to_1_access_6:7:8:9:10:11:12', -0.98352760829834696),\n",
       " ('grades_1_to_1_access_6:7:8:9:10:11:12:13', 0.0),\n",
       " ('grades_1_to_1_access_7', 1.5794581295825605),\n",
       " ('grades_1_to_1_access_7:08', 0.72189957456380294),\n",
       " ('grades_1_to_1_access_8', 8.9195779649125164),\n",
       " ('grades_1_to_1_access_8:09', 2.3401174128477837),\n",
       " ('grades_1_to_1_access_8:9:10:11:12', 1.2548455692082199),\n",
       " ('grades_1_to_1_access_9', 1.3275200230233741),\n",
       " ('grades_1_to_1_access_9:10', 4.055234522885244),\n",
       " ('grades_1_to_1_access_9:10:11', 0.0),\n",
       " ('grades_1_to_1_access_9:10:11:12', 24.525205680818164),\n",
       " ('grades_1_to_1_access_9:10:11:12:13', 4.7480643159230382),\n",
       " ('grades_1_to_1_access_9:10:12', -0.96414775394763275),\n",
       " ('grades_1_to_1_access_9:12', 1.3759696589001424),\n",
       " ('grades_1_to_1_access_K:1:2:3', 1.2451556420328722),\n",
       " ('grades_1_to_1_access_K:1:2:3:4:5', 15.135666247901305),\n",
       " ('grades_1_to_1_access_K:1:2:3:4:5:6:7:8', 3.0717069145869229),\n",
       " ('grades_1_to_1_access_PK', 1.1918610425684348),\n",
       " ('type_cd_txt_Charter', 9.9612451362628605),\n",
       " ('type_cd_txt_Public', -9.9564001726751883),\n",
       " ('Reading SPG Grade_A', 20.077529107331195),\n",
       " ('Reading SPG Grade_B', 23.473848582292153),\n",
       " ('Reading SPG Grade_C', 104.23454662526996),\n",
       " ('Reading SPG Grade_D', -138.42545466346871),\n",
       " ('Reading SPG Grade_F', -9.3556246878033118),\n",
       " ('Byod_-', 0.90116322730787535),\n",
       " ('Byod_No', 34.549435343720369),\n",
       " ('Byod_Yes', -35.445753607440508),\n",
       " ('Grad_project_status_N', 20.687994519378453),\n",
       " ('Grad_project_status_Y', -20.683149555790774),\n",
       " ('esea_status_F', -26.632764841457316),\n",
       " ('esea_status_P', 26.637609805044985),\n",
       " ('school_type_txt_Alternative Education', 54.893437448373554),\n",
       " ('school_type_txt_Hospital School', 1.3178300958480222),\n",
       " ('school_type_txt_Magnet School', 15.668612242545747),\n",
       " ('school_type_txt_Regular School', -89.200624612710087),\n",
       " ('school_type_txt_Special Education', 4.3556222653212489),\n",
       " ('school_type_txt_Vocational Education', 12.969967524209965),\n",
       " ('Math SPG Grade_A', 11.962215097973237),\n",
       " ('Math SPG Grade_B', -13.677332208010709),\n",
       " ('Math SPG Grade_C', 89.55915191819814),\n",
       " ('Math SPG Grade_D', -19.118226316971253),\n",
       " ('Math SPG Grade_F', -68.720963527601981),\n",
       " ('Closed_Ind_Text_Open', 0.0048449635876760674),\n",
       " ('category_cd_A', 51.351769065782115),\n",
       " ('category_cd_E', -54.510685324947119),\n",
       " ('category_cd_H', 26.77811374908767),\n",
       " ('category_cd_I', -5.0726768762974528),\n",
       " ('category_cd_M', -44.341106754414376),\n",
       " ('category_cd_T', 25.799431104376918),\n",
       " ('state_ad_NC', 0.0048449635876760674),\n",
       " ('1_to_1_access_No', -32.432186255905968),\n",
       " ('1_to_1_access_Yes', 32.437031219493647),\n",
       " ('grades_BYOD_-', 36.739358885350107),\n",
       " ('grades_BYOD_11:12', 0.0),\n",
       " ('grades_BYOD_1:2:3:4:5', 1.298450241497332),\n",
       " ('grades_BYOD_1:3:4:5', 0.51841110388139233),\n",
       " ('grades_BYOD_2:03:04', -3.4980637103024552),\n",
       " ('grades_BYOD_2:3:4:5', -0.4021319777771622),\n",
       " ('grades_BYOD_2:3:4:5:6:7:8', 0.0),\n",
       " ('grades_BYOD_3', 1.2984502414973176),\n",
       " ('grades_BYOD_3:04', 1.3759696589001422),\n",
       " ('grades_BYOD_3:04:05', -7.3643446532683505),\n",
       " ('grades_BYOD_3:4:5:6', 3.5174435646531559),\n",
       " ('grades_BYOD_3:4:5:6:7:8', 7.9748100653156193),\n",
       " ('grades_BYOD_3:4:5:6:7:8:9:10', 0.0),\n",
       " ('grades_BYOD_3:4:5:6:7:8:9:10:11:12', 0.0),\n",
       " ('grades_BYOD_4', 1.2596905327959049),\n",
       " ('grades_BYOD_4:05', 0.60562044845956831),\n",
       " ('grades_BYOD_4:05:06', 0.0),\n",
       " ('grades_BYOD_4:5:6:7:8', 1.2354657148575208),\n",
       " ('grades_BYOD_5', 7.2480655271641661),\n",
       " ('grades_BYOD_5:06', -8.5707405865998219),\n",
       " ('grades_BYOD_5:6:7:8', -0.78488410120360208),\n",
       " ('grades_BYOD_6', 1.5213185665304325),\n",
       " ('grades_BYOD_6:07', 1.312985132260347),\n",
       " ('grades_BYOD_6:07:08', -10.532950839608699),\n",
       " ('grades_BYOD_6:08', -0.90600819089551776),\n",
       " ('grades_BYOD_6:7:8:9:10', 1.3129851322603432),\n",
       " ('grades_BYOD_6:7:8:9:10:11', 2.533915956354833),\n",
       " ('grades_BYOD_6:7:8:9:10:11:12', -4.2490330663923572),\n",
       " ('grades_BYOD_6:7:8:9:10:11:12:13', 0.0),\n",
       " ('grades_BYOD_6:7:8:9:11:12', 1.2354657148575168),\n",
       " ('grades_BYOD_7', 1.9040706899568902),\n",
       " ('grades_BYOD_7:08', -11.245160486997182),\n",
       " ('grades_BYOD_7:8:9:10:11:12', 1.2160858605068172),\n",
       " ('grades_BYOD_8:09', 1.1724811882177293),\n",
       " ('grades_BYOD_8:9:10:11:12', 1.3081401686726695),\n",
       " ('grades_BYOD_9:10', 1.2451556420328729),\n",
       " ('grades_BYOD_9:10:11', -1.5552333116441799),\n",
       " ('grades_BYOD_9:10:11:12', -16.211248164365436),\n",
       " ('grades_BYOD_9:10:11:12:13', -3.5852730548806262),\n",
       " ('grades_BYOD_9:11:12', -3.5513583097668944),\n",
       " ('grades_BYOD_K:1:2:3:4', -11.710276991414105),\n",
       " ('grades_BYOD_K:1:2:3:4:5', 17.940900165165928),\n",
       " ('grades_BYOD_K:1:2:3:4:5:6', -0.93992293600924715),\n",
       " ('grades_BYOD_K:1:2:3:4:5:6:7:8', -5.8478710503256268),\n",
       " ('grades_BYOD_K:1:2:3:4:5:6:7:8:9:10:11:12', 1.31783009584802),\n",
       " ('grades_BYOD_K:1:2:3:4:5:6:7:8:9:10:11:12:13', 0.0),\n",
       " ('grades_BYOD_K:1:2:4:5', -3.1007766961129795),\n",
       " ('grades_BYOD_K:1:2:4:6', 1.3662797317247901),\n",
       " ('grades_BYOD_K:3:4', 1.3468998773740832),\n",
       " ('grades_BYOD_PK:5', -0.5813956305211857),\n",
       " ('grades_BYOD_PK:9:10:11:12', -0.83333373708036673),\n",
       " ('grades_BYOD_PK:K:1:2:3', -0.73158950173916115),\n",
       " ('grades_BYOD_PK:K:1:2:3:4', -2.2577530318572876),\n",
       " ('grades_BYOD_PK:K:1:2:3:4:5', -0.56686073975812945),\n",
       " ('grades_BYOD_PK:K:1:2:3:4:5:6:7', 0.0),\n",
       " ('grades_BYOD_PK:K:1:2:3:4:5:6:7:8', 2.3643422307861561),\n",
       " ('grades_BYOD_PK:K:1:2:3:4:5:6:7:8:9:10:11:12:13', -2.5290709927671697),\n",
       " ('grades_BYOD_PK:K:1:2:3:4:5:7:8', -0.61046541204724969),\n",
       " ('State Gap Compared_N', 11.82655611751832),\n",
       " ('State Gap Compared_Y', -11.821711153930631),\n",
       " ('EVAAS Growth Status_Exceeded', -97.960318779229013),\n",
       " ('EVAAS Growth Status_Met', 121.60374108708983),\n",
       " ('EVAAS Growth Status_NotMet', -23.638577344273173),\n",
       " ('calendar_only_txt_Traditional Calendar', 2.6017454465822003),\n",
       " ('calendar_only_txt_Traditional Calendar plus Year-Round Calendar',\n",
       "  5.1017466578234405),\n",
       " ('calendar_only_txt_Year-Round Calendar', -7.698647140817986),\n",
       " ('SPG Grade_A', 15.019387121797049),\n",
       " ('SPG Grade_A+NG', 1.0368222077628095),\n",
       " ('SPG Grade_B', 1.1773261518056108),\n",
       " ('SPG Grade_C', 19.665707202378677),\n",
       " ('SPG Grade_D', -71.802360369364166),\n",
       " ('SPG Grade_F', -34.849823086156313),\n",
       " ('SPG Grade_I', 69.75778573536472),\n",
       " ('New_ind_Txt_School Is Not New', 0.0048449635876760674),\n",
       " ('Overall_Achievement_Score_bins_<40', -1.6763574013361431),\n",
       " ('Overall_Achievement_Score_bins_40-54', -60.276191994282016),\n",
       " ('Overall_Achievement_Score_bins_55-69', 97.156054823674708),\n",
       " ('Overall_Achievement_Score_bins_70-84', -89.350818483928066),\n",
       " ('Overall_Achievement_Score_bins_85-100', 54.152158019459073)]"
      ]
     },
     "execution_count": 77,
     "metadata": {},
     "output_type": "execute_result"
    }
   ],
   "source": [
    "list(zip(features, coefs))"
   ]
  },
  {
   "cell_type": "code",
   "execution_count": 92,
   "metadata": {
    "collapsed": true
   },
   "outputs": [],
   "source": [
    "zipped = list(zip(features, coefs))\n",
    "coef_features = dict(zipped)"
   ]
  },
  {
   "cell_type": "code",
   "execution_count": 100,
   "metadata": {
    "collapsed": false
   },
   "outputs": [
    {
     "name": "stdout",
     "output_type": "stream",
     "text": [
      "wap_num -7937.93020249\n",
      "lea_federal_perpupil_num -5064.1207675\n",
      "state_perpupil_num -3084.64667376\n",
      "total_expense_num -2748.02943218\n",
      "szip_ad -2697.82591949\n",
      "lea_books_per_student -2380.49068822\n",
      "st_avg_student_num -1211.37171094\n",
      "Avg_Class_Size_EnglishII -1054.72434822\n",
      "Avg_Class_Size_MathI -1051.98694379\n",
      "local_perpupil_num 1560.63299934\n",
      "Science Score 1752.87391127\n",
      "The ACT Score 1907.13270694\n",
      "Math SPG Score 1961.92440016\n",
      "Reading  SPG Score 2395.10774957\n",
      "Math Score 2591.06714684\n",
      "SchoolWeightedScore 2597.28507621\n",
      "SPG Score 2835.3938156\n",
      "lea_state_perpupil_num 2992.17334892\n",
      "Read Score 3067.01698984\n",
      "Overall Achievement Score 3830.60747607\n",
      "avg_age_media_collection 5357.8465881\n",
      "short_susp_per_c_num 5528.57452935\n",
      "sat_avg_score_num 5936.74221741\n",
      "lea_short_susp_per_c_num 7333.36881462\n",
      "lea_wap_num 10731.1292302\n",
      "lea_sat_avg_score_num 16196.2917617\n"
     ]
    }
   ],
   "source": [
    "import operator\n",
    "sorted_coef_features = sorted(coef_features.items(), key=operator.itemgetter(1))\n",
    "\n",
    "# print features that have weights greater than 1000\n",
    "for feature, weight in sorted_coef_features:\n",
    "    if (abs(weight) >= 1000):\n",
    "        print(feature, weight)"
   ]
  },
  {
   "cell_type": "code",
   "execution_count": null,
   "metadata": {
    "collapsed": true
   },
   "outputs": [],
   "source": []
  }
 ],
 "metadata": {
  "kernelspec": {
   "display_name": "Python 3",
   "language": "python",
   "name": "python3"
  },
  "language_info": {
   "codemirror_mode": {
    "name": "ipython",
    "version": 3
   },
   "file_extension": ".py",
   "mimetype": "text/x-python",
   "name": "python",
   "nbconvert_exporter": "python",
   "pygments_lexer": "ipython3",
   "version": "3.6.0"
  }
 },
 "nbformat": 4,
 "nbformat_minor": 2
}
