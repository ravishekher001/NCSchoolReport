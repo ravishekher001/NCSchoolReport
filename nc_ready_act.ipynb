{
 "cells": [
  {
   "cell_type": "markdown",
   "metadata": {},
   "source": [
    "## Data Overview\n",
    "* **Ready Accountability**: Contains all 2015-2016 READY Accountability data found in the School Report Card. This includes EOG, EOC, The ACT, ACT WorkKeys, Math Course Rigor (Passing Math III), and Cohort Graduation Rate.  This data is segmented by race [6, 7]"
   ]
  },
  {
   "cell_type": "code",
   "execution_count": 2,
   "metadata": {
    "collapsed": false
   },
   "outputs": [
    {
     "data": {
      "text/plain": [
       "(173194, 17)"
      ]
     },
     "execution_count": 2,
     "metadata": {},
     "output_type": "execute_result"
    }
   ],
   "source": [
    "import pandas as pd\n",
    "\n",
    "# Read in the School Profile data\n",
    "nc_ready_act = pd.ExcelFile('data/READY_ACT.xlsx')\n",
    "\n",
    "# type(nc_profile) returns: pandas.io.excel.ExcelFile\n",
    "# print the sheets in the Excel file\n",
    "# print(nc_ready_act.sheet_names)\n",
    "\n",
    "# Import sheets from Excel files as data frames.\n",
    "nc_ready_act = nc_ready_act.parse('Sheet1')\n",
    "nc_ready_act.shape"
   ]
  },
  {
   "cell_type": "code",
   "execution_count": 3,
   "metadata": {
    "collapsed": false
   },
   "outputs": [
    {
     "data": {
      "text/plain": [
       "Index(['year', 'unit_code', 'Lea_Name', 'School_Name', 'State_Name',\n",
       "       'category_cd', 'subject', 'subgroup', 'den', 'pct', 'masking',\n",
       "       'lea_den', 'lea_pct', 'lea_masking', 'st_den', 'st_pct', 'st_masking'],\n",
       "      dtype='object')"
      ]
     },
     "execution_count": 3,
     "metadata": {},
     "output_type": "execute_result"
    }
   ],
   "source": [
    "nc_ready_act.columns"
   ]
  },
  {
   "cell_type": "code",
   "execution_count": 4,
   "metadata": {
    "collapsed": false
   },
   "outputs": [
    {
     "name": "stdout",
     "output_type": "stream",
     "text": [
      "<class 'pandas.core.frame.DataFrame'>\n",
      "RangeIndex: 173194 entries, 0 to 173193\n",
      "Data columns (total 17 columns):\n",
      "year           173194 non-null int64\n",
      "unit_code      173194 non-null object\n",
      "Lea_Name       172830 non-null object\n",
      "School_Name    138586 non-null object\n",
      "State_Name     173194 non-null object\n",
      "category_cd    138570 non-null object\n",
      "subject        173194 non-null object\n",
      "subgroup       173194 non-null object\n",
      "den            138586 non-null float64\n",
      "pct            119459 non-null float64\n",
      "masking        21926 non-null float64\n",
      "lea_den        166354 non-null float64\n",
      "lea_pct        152765 non-null float64\n",
      "lea_masking    15317 non-null float64\n",
      "st_den         173194 non-null int64\n",
      "st_pct         166772 non-null float64\n",
      "st_masking     8630 non-null float64\n",
      "dtypes: float64(8), int64(2), object(7)\n",
      "memory usage: 22.5+ MB\n"
     ]
    }
   ],
   "source": [
    "nc_ready_act.info()"
   ]
  },
  {
   "cell_type": "code",
   "execution_count": null,
   "metadata": {
    "collapsed": true
   },
   "outputs": [],
   "source": []
  }
 ],
 "metadata": {
  "kernelspec": {
   "display_name": "Python 3",
   "language": "python",
   "name": "python3"
  },
  "language_info": {
   "codemirror_mode": {
    "name": "ipython",
    "version": 3
   },
   "file_extension": ".py",
   "mimetype": "text/x-python",
   "name": "python",
   "nbconvert_exporter": "python",
   "pygments_lexer": "ipython3",
   "version": "3.6.0"
  }
 },
 "nbformat": 4,
 "nbformat_minor": 2
}
