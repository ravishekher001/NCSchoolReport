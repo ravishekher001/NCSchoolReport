{
 "cells": [
  {
   "cell_type": "markdown",
   "metadata": {},
   "source": [
    "## Data overview\n",
    "* **Profile Metrics**: Contains 2002-2016 average class/course size for school, district, and state in grades 00-08, Biology, English II, and Math. "
   ]
  },
  {
   "cell_type": "code",
   "execution_count": 3,
   "metadata": {
    "collapsed": false
   },
   "outputs": [
    {
     "data": {
      "text/plain": [
       "(202859, 10)"
      ]
     },
     "execution_count": 3,
     "metadata": {},
     "output_type": "execute_result"
    }
   ],
   "source": [
    "import pandas as pd\n",
    "\n",
    "# Read in the School Profile data\n",
    "nc_profile_metrics = pd.ExcelFile('data/PROFILE_METRICS.xlsx')\n",
    "\n",
    "# type(nc_profile) returns: pandas.io.excel.ExcelFile\n",
    "# print the sheets in the Excel file\n",
    "# print(nc_profile_metrics.sheet_names)\n",
    "\n",
    "# Import sheets from Excel files as data frames.\n",
    "nc_profile_metrics_df = nc_profile_metrics.parse('PROFILE_METRICS')\n",
    "nc_profile_metrics_df.shape"
   ]
  },
  {
   "cell_type": "code",
   "execution_count": 4,
   "metadata": {
    "collapsed": false
   },
   "outputs": [
    {
     "data": {
      "text/plain": [
       "Index(['year', 'unit_code', 'Lea_Name', 'School_Name', 'State_Name',\n",
       "       'category_cd', 'level', 'size', 'lea_size', 'st_size'],\n",
       "      dtype='object')"
      ]
     },
     "execution_count": 4,
     "metadata": {},
     "output_type": "execute_result"
    }
   ],
   "source": [
    "nc_profile_metrics_df.columns"
   ]
  },
  {
   "cell_type": "code",
   "execution_count": 5,
   "metadata": {
    "collapsed": false
   },
   "outputs": [
    {
     "name": "stdout",
     "output_type": "stream",
     "text": [
      "<class 'pandas.core.frame.DataFrame'>\n",
      "RangeIndex: 202859 entries, 0 to 202858\n",
      "Data columns (total 10 columns):\n",
      "year           202859 non-null int64\n",
      "unit_code      202859 non-null object\n",
      "Lea_Name       202688 non-null object\n",
      "School_Name    182992 non-null object\n",
      "State_Name     202859 non-null object\n",
      "category_cd    135719 non-null object\n",
      "level          202859 non-null object\n",
      "size           167354 non-null float64\n",
      "lea_size       190922 non-null float64\n",
      "st_size        202859 non-null int64\n",
      "dtypes: float64(2), int64(2), object(6)\n",
      "memory usage: 15.5+ MB\n"
     ]
    }
   ],
   "source": [
    "nc_profile_metrics_df.info()"
   ]
  },
  {
   "cell_type": "code",
   "execution_count": 8,
   "metadata": {
    "collapsed": false
   },
   "outputs": [
    {
     "data": {
      "text/plain": [
       "15172"
      ]
     },
     "execution_count": 8,
     "metadata": {},
     "output_type": "execute_result"
    }
   ],
   "source": [
    "(nc_profile_metrics_df['year'] == 2016).sum()"
   ]
  },
  {
   "cell_type": "code",
   "execution_count": 12,
   "metadata": {
    "collapsed": false
   },
   "outputs": [
    {
     "name": "stdout",
     "output_type": "stream",
     "text": [
      "year\n",
      "2002    11954\n",
      "2003    13519\n",
      "2004    13679\n",
      "2005    13714\n",
      "2006    14050\n",
      "2007    14045\n",
      "2008    14329\n",
      "2009    14583\n",
      "2010    14741\n",
      "2011    14817\n",
      "2012    14776\n",
      "2013    14929\n",
      "2014     3750\n",
      "2015    14801\n",
      "2016    15172\n",
      "Name: year, dtype: int64\n"
     ]
    }
   ],
   "source": [
    "groupedByYear = nc_profile_metrics_df.groupby(by = \"year\")\n",
    "print(groupedByYear['year'].count())"
   ]
  }
 ],
 "metadata": {
  "kernelspec": {
   "display_name": "Python 3",
   "language": "python",
   "name": "python3"
  },
  "language_info": {
   "codemirror_mode": {
    "name": "ipython",
    "version": 3
   },
   "file_extension": ".py",
   "mimetype": "text/x-python",
   "name": "python",
   "nbconvert_exporter": "python",
   "pygments_lexer": "ipython3",
   "version": "3.6.0"
  }
 },
 "nbformat": 4,
 "nbformat_minor": 2
}
